{
 "cells": [
  {
   "cell_type": "markdown",
   "id": "045d5f55",
   "metadata": {
    "id": "045d5f55"
   },
   "source": [
    "# Obesity Dataset\n",
    "\n",
    "The data consist of the estimation of obesity levels in people from the countries of Mexico, Peru and Colombia, with ages between 14 and 61 and diverse eating habits and physical condition , data was collected using a web platform with a survey where anonymous users answered each question, then the information was processed obtaining 17 attributes and 2111 records.\n"
   ]
  },
  {
   "cell_type": "markdown",
   "id": "d6a61b3a",
   "metadata": {
    "id": "d6a61b3a"
   },
   "source": [
    "\n",
    "\n",
    "Frequent consumption of high caloric food (FAVC),\n",
    "Frequency of consumption of vegetables (FCVC),\n",
    "Number of main meals (NCP),\n",
    "Consumption of food between meals (CAEC),\n",
    "Consumption of water daily (CH20), and\n",
    "Consumption of alcohol (CALC).\n",
    "\n",
    "The attributes related with the physical condition are:\n",
    "Calories consumption monitoring (SCC),\n",
    "Physical activity frequency (FAF),\n",
    "Time using technology devices (TUE),\n",
    "Transportation used (MTRANS)."
   ]
  },
  {
   "cell_type": "markdown",
   "id": "gK6wMl7NFRZv",
   "metadata": {
    "id": "gK6wMl7NFRZv"
   },
   "source": [
    "**MACHINE LEARNING ALGORITHMS CONSIDERED**"
   ]
  },
  {
   "cell_type": "markdown",
   "id": "dRqtEe0jBWwj",
   "metadata": {
    "id": "dRqtEe0jBWwj"
   },
   "source": [
    "Machine learning (ML) is a branch of artificial or a subset of intelligence (AI) which focuses on the use of data and algorithms to imitate the way that humans learn, it uses the algorithms that it learns from data to make predictions.\n",
    "\n",
    "Machine learning algorithms are computational models that allow computers to understand patterns and forecast or make judgments based on data without the need for explicit programming. These algorithms form the foundation of modern artificial intelligence and are used in a wide range of applications, including image and speech recognition, natural language processing, recommendation systems, fraud detection, autonomous cars etc.\n"
   ]
  },
  {
   "cell_type": "markdown",
   "id": "8ugnBS-SBmzw",
   "metadata": {
    "id": "8ugnBS-SBmzw"
   },
   "source": [
    "1)\tKNN (K- NEAREST NEIGHBORS)\n",
    "K-Nearest Neighbors is one of the simplest supervised machine learning algorithms used for classification. It classifies a data point based on its neighbors’ classifications. It stores all available cases and classifies new cases based on similar features. While the KNN algorithm can be used for either regression or classification problems, it is typically used as a classification algorithm, working off the assumption that similar points can be found near one another.\n",
    "\n",
    "K-NN is a non-parametric algorithm, which means it does not make any assumption on underlying data.\n",
    "\n",
    "It is also called a lazy learner algorithm because it does not learn from the training set immediately instead it stores the dataset and at the time of classification, it performs an action on the dataset.\n",
    "KNN algorithm at the training phase just stores the dataset and when it gets new data, then it classifies that data into a category that is much similar to the new data.\n",
    "\n",
    "Advantages Of KNN Algorithm\n",
    "\n",
    "•\tIt is simple to implement.\n",
    "\n",
    "•\tIt is robust to the noisy training data\n",
    "\n",
    "•\tIt can be more effective if the training data is large.\n",
    "\n",
    "Disadvantages of KNN Algorithm\n",
    "\n",
    "•\tAlways needs to determine the value of K which may be complex some time.\n",
    "\n",
    "•\tThe computation cost is high because of calculating the distance between the data points for all the training samples.\n",
    "\n",
    "•\tSensitive to irrelevant or redundant features.\n"
   ]
  },
  {
   "cell_type": "markdown",
   "id": "I25u5jAXBu-X",
   "metadata": {
    "id": "I25u5jAXBu-X"
   },
   "source": [
    "2)    SVM (SUPPORT VECTOR MACHINE)\n",
    "\n",
    "A support vector machine (SVM) is a supervised machine learning model that uses classification algorithms for two-group classification problems. After giving a SVM model sets of labeled training data for each category, they are able to categorize new text. Compared to newer algorithms like neural networks.\n",
    "\n",
    "The goal of SVM is to create a hyperplane or decision boundary that can segregate datasets into different classes.\n",
    "\n",
    "The data points that help to define the hyperplane are known as support vectors, and hence it is named as support vector machine algorithm. Some real-life applications of SVM are face detection, image classification, Drug discovery, etc.\n",
    "\n",
    " They have two main advantages: higher speed and better performance with a limited number of samples (in the thousands). This makes the algorithm very suitable for text classification problems, where it’s common to have access to a dataset of at most a couple of thousands of tagged samples.\n",
    "\n",
    "Disadvantages of SVM\n",
    "\n",
    "•\tMemory-intensive for large datasets.\n",
    "\n",
    "•\tSensitivity to the choice of kernel parameters.\n",
    "\n",
    "•\tNot suitable for very large datasets with lots of noise.\n",
    "\n"
   ]
  },
  {
   "cell_type": "markdown",
   "id": "_PAsyDMLB2XF",
   "metadata": {
    "id": "_PAsyDMLB2XF"
   },
   "source": [
    "3)\tDECISION TREE\n",
    "\n",
    "  Decision Tree is a popular supervised learning algorithm used for both classification and regression tasks in machine learning. It's a versatile and easy-to-understand model that mimics human decision-making by partitioning the data into subsets based on feature values. Decision Trees are powerful and intuitive algorithms that are widely used in machine learning for classification and regression tasks, particularly when interpretability and simplicity are important.                                                                                                                                                     \n"
   ]
  },
  {
   "cell_type": "markdown",
   "id": "aIRjR0LUBeIn",
   "metadata": {
    "id": "aIRjR0LUBeIn"
   },
   "source": [
    "The Decision Tree algorithm works according to the steps below:\n",
    "\n",
    "A) Tree Structure: A Decision Tree consists of nodes and branches. Each internal node represents a decision based on a specific feature, and each branch corresponds to the possible outcome of that decision. The leaf nodes represent the final output (class label or numerical value).\n",
    "\n",
    "B) Splitting Criteria: The Decision Tree algorithm selects the best feature to split the data at each node based on certain criteria. The most commonly used criteria include:\n",
    "\n",
    "•\tGini impurity: A measure of how often a randomly chosen element from the set would be incorrectly labeled if it was randomly labeled according to the distribution of labels in the subset.\n",
    "\n",
    "•\tInformation gain: Measures the reduction in entropy or uncertainty after splitting the data based on a particular feature.\n",
    "•\tGain ratio: Adjusts the information gain by the intrinsic information of a split.\n",
    "\n",
    "C) Recursive Partitioning: The algorithm recursively partitions the data into subsets based on the selected feature until certain stopping criteria are met, such as reaching a maximum tree depth, minimum number of samples per leaf, or purity of the nodes.\n",
    "\n",
    "D) Classification: For classification tasks, the majority class label in each leaf node is assigned as the predicted class for instances that reach that node during inference.\n",
    "\n",
    "E) Regression: For regression tasks, the predicted value at each leaf node can be the mean or median of the target variable in that subset.\n",
    "\n",
    "Benefits of Decision Trees:                                                                                                                              \n",
    "•\tEasy to interpret and visualize.\n",
    "\n",
    "•\tCan handle both numerical and categorical data.\n",
    "\n",
    "•\tAutomatically handles missing values and feature selection.\n",
    "\n",
    "•\tRobust to outliers and irrelevant features.\n",
    "\n",
    "Disadvantages Of Decision Tree\n",
    "\n",
    "•\tProne to overfitting, especially with deep trees.\n",
    "\n",
    "•\tSensitive to small variations in the data.\n",
    "\n",
    "•\tLack of smoothness in the decision boundary.\n",
    "\n",
    "Note: Decision Trees are prone to overfitting, especially when the trees grow deep. Techniques like pruning, setting maximum tree depth, and using ensemble methods like Random Forests or Gradient Boosting can help mitigate overfitting and improve performance.\n",
    "\n",
    "Some real-world applications of decision tree algorithms are identification between cancerous and non-cancerous cells, suggestions to customers to buy a car, etc.  \n",
    "\n"
   ]
  },
  {
   "cell_type": "markdown",
   "id": "4QRzjuL2DN29",
   "metadata": {
    "id": "4QRzjuL2DN29"
   },
   "source": [
    "4)\tRANDOM FOREST\n",
    "\n",
    "Random Forest is an ensemble learning technique that builds multiple decision trees during training and combines their predictions to improve accuracy and reduce overfitting. It's one of the most powerful and widely used machine learning algorithms for classification and regression tasks.\n",
    "\n",
    "Random Forest algorithm works in the following ways\n",
    "\n",
    "A) Random Sampling: The algorithm starts by randomly selecting a subset of the training data (with replacement) to build each decision tree. This process is known as bootstrap sampling or bagging.\n",
    "\n",
    "B) Feature Randomness: At each node of the decision tree, a random subset of features is considered for splitting. This helps to introduce diversity among the trees and reduce correlation between them.\n",
    "\n",
    "C) Tree Building: Each decision tree is grown using the same principles as in the standard Decision Tree algorithm. However, the tree depth is usually not constrained, and it continues to split until the nodes are pure or until a specified maximum depth is reached.\n",
    "\n",
    "E) Voting or Averaging: For classification tasks, the final prediction is made by aggregating the predictions of all the individual trees using a majority voting scheme. For regression tasks, the final prediction is the average of the predictions of all the individual trees\n",
    "\n",
    "\n",
    "Advantages of Random Forest over individual decision trees:\n",
    "\n",
    "Reduced Overfitting: By aggregating predictions from multiple trees, Random Forest reduces overfitting and increases generalization performance.\n",
    "\n",
    "High Accuracy: Random Forest tends to produce highly accurate predictions, especially for complex datasets with high-dimensional feature spaces.\n",
    "\n",
    "Implicit Feature Selection: Random Forest implicitly performs feature selection by considering only a subset of features at each split, which helps to improve model efficiency and reduces the risk of overfitting to irrelevant features.\n",
    "\n",
    "Robustness to Noise and Outliers: Random Forest is robust to noisy and outlier-prone datasets due to the averaging effect of multiple trees.\n",
    "\n",
    "Limitations of Random Forest Algorithm are:\n",
    "\n",
    "Less Interpretability: While individual decision trees are easy to interpret, the ensemble nature of Random Forest makes it harder to interpret the model as a whole.\n",
    "\n",
    "Computationally Expensive: Training and testing a Random Forest model can be computationally expensive, especially for large datasets with numerous features and trees.\n",
    "\n",
    "Conclusion:\n",
    "\n",
    "Choosing the right algorithm depends on the specific characteristics of dataset, the nature of the problem, and computational resources available. Each algorithm has its strengths and weaknesses, and experimentation with different models is often necessary to find the most suitable one for a given task.\n",
    "\n"
   ]
  },
  {
   "cell_type": "code",
   "execution_count": 89,
   "id": "d1b1b582",
   "metadata": {
    "id": "d1b1b582"
   },
   "outputs": [],
   "source": [
    "# importing necessary libraries.\n",
    "\n",
    "import numpy as np\n",
    "import pandas as pd\n",
    "import matplotlib.pyplot as plt\n",
    "import seaborn as sns"
   ]
  },
  {
   "cell_type": "code",
   "execution_count": 90,
   "id": "eb66b4ec",
   "metadata": {
    "id": "eb66b4ec"
   },
   "outputs": [],
   "source": [
    "# read the data into a dataset\n",
    "obesity = pd.read_csv(r\"C:\\Users\\ibast\\OneDrive\\Desktop\\DSI_Final\\ObesityDataSet_raw_and_data_sinthetic.csv\")"
   ]
  },
  {
   "cell_type": "code",
   "execution_count": 91,
   "id": "62281058",
   "metadata": {
    "id": "62281058",
    "outputId": "27c6cbdd-6243-46c6-f784-ca409929ad7c"
   },
   "outputs": [
    {
     "data": {
      "text/html": [
       "<div>\n",
       "<style scoped>\n",
       "    .dataframe tbody tr th:only-of-type {\n",
       "        vertical-align: middle;\n",
       "    }\n",
       "\n",
       "    .dataframe tbody tr th {\n",
       "        vertical-align: top;\n",
       "    }\n",
       "\n",
       "    .dataframe thead th {\n",
       "        text-align: right;\n",
       "    }\n",
       "</style>\n",
       "<table border=\"1\" class=\"dataframe\">\n",
       "  <thead>\n",
       "    <tr style=\"text-align: right;\">\n",
       "      <th></th>\n",
       "      <th>Gender</th>\n",
       "      <th>Age</th>\n",
       "      <th>Height</th>\n",
       "      <th>Weight</th>\n",
       "      <th>BMI</th>\n",
       "      <th>family_history_with_overweight</th>\n",
       "      <th>FAVC</th>\n",
       "      <th>FCVC</th>\n",
       "      <th>NCP</th>\n",
       "      <th>CAEC</th>\n",
       "      <th>SMOKE</th>\n",
       "      <th>CH2O</th>\n",
       "      <th>SCC</th>\n",
       "      <th>FAF</th>\n",
       "      <th>TUE</th>\n",
       "      <th>CALC</th>\n",
       "      <th>MTRANS</th>\n",
       "      <th>NObeyesdad</th>\n",
       "    </tr>\n",
       "  </thead>\n",
       "  <tbody>\n",
       "    <tr>\n",
       "      <th>0</th>\n",
       "      <td>Female</td>\n",
       "      <td>21.0</td>\n",
       "      <td>1.62</td>\n",
       "      <td>64.0</td>\n",
       "      <td>24.386526</td>\n",
       "      <td>yes</td>\n",
       "      <td>no</td>\n",
       "      <td>2.0</td>\n",
       "      <td>3.0</td>\n",
       "      <td>Sometimes</td>\n",
       "      <td>no</td>\n",
       "      <td>2.0</td>\n",
       "      <td>no</td>\n",
       "      <td>0.0</td>\n",
       "      <td>1.0</td>\n",
       "      <td>no</td>\n",
       "      <td>Public_Transportation</td>\n",
       "      <td>Normal_Weight</td>\n",
       "    </tr>\n",
       "    <tr>\n",
       "      <th>1</th>\n",
       "      <td>Female</td>\n",
       "      <td>21.0</td>\n",
       "      <td>1.52</td>\n",
       "      <td>56.0</td>\n",
       "      <td>24.238227</td>\n",
       "      <td>yes</td>\n",
       "      <td>no</td>\n",
       "      <td>3.0</td>\n",
       "      <td>3.0</td>\n",
       "      <td>Sometimes</td>\n",
       "      <td>yes</td>\n",
       "      <td>3.0</td>\n",
       "      <td>yes</td>\n",
       "      <td>3.0</td>\n",
       "      <td>0.0</td>\n",
       "      <td>Sometimes</td>\n",
       "      <td>Public_Transportation</td>\n",
       "      <td>Normal_Weight</td>\n",
       "    </tr>\n",
       "    <tr>\n",
       "      <th>2</th>\n",
       "      <td>Male</td>\n",
       "      <td>23.0</td>\n",
       "      <td>1.80</td>\n",
       "      <td>77.0</td>\n",
       "      <td>23.765432</td>\n",
       "      <td>yes</td>\n",
       "      <td>no</td>\n",
       "      <td>2.0</td>\n",
       "      <td>3.0</td>\n",
       "      <td>Sometimes</td>\n",
       "      <td>no</td>\n",
       "      <td>2.0</td>\n",
       "      <td>no</td>\n",
       "      <td>2.0</td>\n",
       "      <td>1.0</td>\n",
       "      <td>Frequently</td>\n",
       "      <td>Public_Transportation</td>\n",
       "      <td>Normal_Weight</td>\n",
       "    </tr>\n",
       "    <tr>\n",
       "      <th>3</th>\n",
       "      <td>Male</td>\n",
       "      <td>27.0</td>\n",
       "      <td>1.80</td>\n",
       "      <td>87.0</td>\n",
       "      <td>26.851852</td>\n",
       "      <td>no</td>\n",
       "      <td>no</td>\n",
       "      <td>3.0</td>\n",
       "      <td>3.0</td>\n",
       "      <td>Sometimes</td>\n",
       "      <td>no</td>\n",
       "      <td>2.0</td>\n",
       "      <td>no</td>\n",
       "      <td>2.0</td>\n",
       "      <td>0.0</td>\n",
       "      <td>Frequently</td>\n",
       "      <td>Walking</td>\n",
       "      <td>Overweight_Level_I</td>\n",
       "    </tr>\n",
       "    <tr>\n",
       "      <th>4</th>\n",
       "      <td>Male</td>\n",
       "      <td>22.0</td>\n",
       "      <td>1.78</td>\n",
       "      <td>89.8</td>\n",
       "      <td>28.342381</td>\n",
       "      <td>no</td>\n",
       "      <td>no</td>\n",
       "      <td>2.0</td>\n",
       "      <td>1.0</td>\n",
       "      <td>Sometimes</td>\n",
       "      <td>no</td>\n",
       "      <td>2.0</td>\n",
       "      <td>no</td>\n",
       "      <td>0.0</td>\n",
       "      <td>0.0</td>\n",
       "      <td>Sometimes</td>\n",
       "      <td>Public_Transportation</td>\n",
       "      <td>Overweight_Level_II</td>\n",
       "    </tr>\n",
       "    <tr>\n",
       "      <th>5</th>\n",
       "      <td>Male</td>\n",
       "      <td>29.0</td>\n",
       "      <td>1.62</td>\n",
       "      <td>53.0</td>\n",
       "      <td>20.195092</td>\n",
       "      <td>no</td>\n",
       "      <td>yes</td>\n",
       "      <td>2.0</td>\n",
       "      <td>3.0</td>\n",
       "      <td>Sometimes</td>\n",
       "      <td>no</td>\n",
       "      <td>2.0</td>\n",
       "      <td>no</td>\n",
       "      <td>0.0</td>\n",
       "      <td>0.0</td>\n",
       "      <td>Sometimes</td>\n",
       "      <td>Automobile</td>\n",
       "      <td>Normal_Weight</td>\n",
       "    </tr>\n",
       "    <tr>\n",
       "      <th>6</th>\n",
       "      <td>Female</td>\n",
       "      <td>23.0</td>\n",
       "      <td>1.50</td>\n",
       "      <td>55.0</td>\n",
       "      <td>24.444444</td>\n",
       "      <td>yes</td>\n",
       "      <td>yes</td>\n",
       "      <td>3.0</td>\n",
       "      <td>3.0</td>\n",
       "      <td>Sometimes</td>\n",
       "      <td>no</td>\n",
       "      <td>2.0</td>\n",
       "      <td>no</td>\n",
       "      <td>1.0</td>\n",
       "      <td>0.0</td>\n",
       "      <td>Sometimes</td>\n",
       "      <td>Motorbike</td>\n",
       "      <td>Normal_Weight</td>\n",
       "    </tr>\n",
       "    <tr>\n",
       "      <th>7</th>\n",
       "      <td>Male</td>\n",
       "      <td>22.0</td>\n",
       "      <td>1.64</td>\n",
       "      <td>53.0</td>\n",
       "      <td>19.705532</td>\n",
       "      <td>no</td>\n",
       "      <td>no</td>\n",
       "      <td>2.0</td>\n",
       "      <td>3.0</td>\n",
       "      <td>Sometimes</td>\n",
       "      <td>no</td>\n",
       "      <td>2.0</td>\n",
       "      <td>no</td>\n",
       "      <td>3.0</td>\n",
       "      <td>0.0</td>\n",
       "      <td>Sometimes</td>\n",
       "      <td>Public_Transportation</td>\n",
       "      <td>Normal_Weight</td>\n",
       "    </tr>\n",
       "    <tr>\n",
       "      <th>8</th>\n",
       "      <td>Male</td>\n",
       "      <td>24.0</td>\n",
       "      <td>1.78</td>\n",
       "      <td>64.0</td>\n",
       "      <td>20.199470</td>\n",
       "      <td>yes</td>\n",
       "      <td>yes</td>\n",
       "      <td>3.0</td>\n",
       "      <td>3.0</td>\n",
       "      <td>Sometimes</td>\n",
       "      <td>no</td>\n",
       "      <td>2.0</td>\n",
       "      <td>no</td>\n",
       "      <td>1.0</td>\n",
       "      <td>1.0</td>\n",
       "      <td>Frequently</td>\n",
       "      <td>Public_Transportation</td>\n",
       "      <td>Normal_Weight</td>\n",
       "    </tr>\n",
       "    <tr>\n",
       "      <th>9</th>\n",
       "      <td>Male</td>\n",
       "      <td>22.0</td>\n",
       "      <td>1.72</td>\n",
       "      <td>68.0</td>\n",
       "      <td>22.985398</td>\n",
       "      <td>yes</td>\n",
       "      <td>yes</td>\n",
       "      <td>2.0</td>\n",
       "      <td>3.0</td>\n",
       "      <td>Sometimes</td>\n",
       "      <td>no</td>\n",
       "      <td>2.0</td>\n",
       "      <td>no</td>\n",
       "      <td>1.0</td>\n",
       "      <td>1.0</td>\n",
       "      <td>no</td>\n",
       "      <td>Public_Transportation</td>\n",
       "      <td>Normal_Weight</td>\n",
       "    </tr>\n",
       "    <tr>\n",
       "      <th>10</th>\n",
       "      <td>Male</td>\n",
       "      <td>26.0</td>\n",
       "      <td>1.85</td>\n",
       "      <td>105.0</td>\n",
       "      <td>30.679328</td>\n",
       "      <td>yes</td>\n",
       "      <td>yes</td>\n",
       "      <td>3.0</td>\n",
       "      <td>3.0</td>\n",
       "      <td>Frequently</td>\n",
       "      <td>no</td>\n",
       "      <td>3.0</td>\n",
       "      <td>no</td>\n",
       "      <td>2.0</td>\n",
       "      <td>2.0</td>\n",
       "      <td>Sometimes</td>\n",
       "      <td>Public_Transportation</td>\n",
       "      <td>Obesity_Type_I</td>\n",
       "    </tr>\n",
       "    <tr>\n",
       "      <th>11</th>\n",
       "      <td>Female</td>\n",
       "      <td>21.0</td>\n",
       "      <td>1.72</td>\n",
       "      <td>80.0</td>\n",
       "      <td>27.041644</td>\n",
       "      <td>yes</td>\n",
       "      <td>yes</td>\n",
       "      <td>2.0</td>\n",
       "      <td>3.0</td>\n",
       "      <td>Frequently</td>\n",
       "      <td>no</td>\n",
       "      <td>2.0</td>\n",
       "      <td>yes</td>\n",
       "      <td>2.0</td>\n",
       "      <td>1.0</td>\n",
       "      <td>Sometimes</td>\n",
       "      <td>Public_Transportation</td>\n",
       "      <td>Overweight_Level_II</td>\n",
       "    </tr>\n",
       "    <tr>\n",
       "      <th>12</th>\n",
       "      <td>Male</td>\n",
       "      <td>22.0</td>\n",
       "      <td>1.65</td>\n",
       "      <td>56.0</td>\n",
       "      <td>20.569330</td>\n",
       "      <td>no</td>\n",
       "      <td>no</td>\n",
       "      <td>3.0</td>\n",
       "      <td>3.0</td>\n",
       "      <td>Sometimes</td>\n",
       "      <td>no</td>\n",
       "      <td>3.0</td>\n",
       "      <td>no</td>\n",
       "      <td>2.0</td>\n",
       "      <td>0.0</td>\n",
       "      <td>Sometimes</td>\n",
       "      <td>Public_Transportation</td>\n",
       "      <td>Normal_Weight</td>\n",
       "    </tr>\n",
       "    <tr>\n",
       "      <th>13</th>\n",
       "      <td>Male</td>\n",
       "      <td>41.0</td>\n",
       "      <td>1.80</td>\n",
       "      <td>99.0</td>\n",
       "      <td>30.555556</td>\n",
       "      <td>no</td>\n",
       "      <td>yes</td>\n",
       "      <td>2.0</td>\n",
       "      <td>3.0</td>\n",
       "      <td>Sometimes</td>\n",
       "      <td>no</td>\n",
       "      <td>2.0</td>\n",
       "      <td>no</td>\n",
       "      <td>2.0</td>\n",
       "      <td>1.0</td>\n",
       "      <td>Frequently</td>\n",
       "      <td>Automobile</td>\n",
       "      <td>Obesity_Type_I</td>\n",
       "    </tr>\n",
       "    <tr>\n",
       "      <th>14</th>\n",
       "      <td>Male</td>\n",
       "      <td>23.0</td>\n",
       "      <td>1.77</td>\n",
       "      <td>60.0</td>\n",
       "      <td>19.151585</td>\n",
       "      <td>yes</td>\n",
       "      <td>yes</td>\n",
       "      <td>3.0</td>\n",
       "      <td>1.0</td>\n",
       "      <td>Sometimes</td>\n",
       "      <td>no</td>\n",
       "      <td>1.0</td>\n",
       "      <td>no</td>\n",
       "      <td>1.0</td>\n",
       "      <td>1.0</td>\n",
       "      <td>Sometimes</td>\n",
       "      <td>Public_Transportation</td>\n",
       "      <td>Normal_Weight</td>\n",
       "    </tr>\n",
       "    <tr>\n",
       "      <th>15</th>\n",
       "      <td>Female</td>\n",
       "      <td>22.0</td>\n",
       "      <td>1.70</td>\n",
       "      <td>66.0</td>\n",
       "      <td>22.837370</td>\n",
       "      <td>yes</td>\n",
       "      <td>no</td>\n",
       "      <td>3.0</td>\n",
       "      <td>3.0</td>\n",
       "      <td>Always</td>\n",
       "      <td>no</td>\n",
       "      <td>2.0</td>\n",
       "      <td>yes</td>\n",
       "      <td>2.0</td>\n",
       "      <td>1.0</td>\n",
       "      <td>Sometimes</td>\n",
       "      <td>Public_Transportation</td>\n",
       "      <td>Normal_Weight</td>\n",
       "    </tr>\n",
       "    <tr>\n",
       "      <th>16</th>\n",
       "      <td>Male</td>\n",
       "      <td>27.0</td>\n",
       "      <td>1.93</td>\n",
       "      <td>102.0</td>\n",
       "      <td>27.383285</td>\n",
       "      <td>yes</td>\n",
       "      <td>yes</td>\n",
       "      <td>2.0</td>\n",
       "      <td>1.0</td>\n",
       "      <td>Sometimes</td>\n",
       "      <td>no</td>\n",
       "      <td>1.0</td>\n",
       "      <td>no</td>\n",
       "      <td>1.0</td>\n",
       "      <td>0.0</td>\n",
       "      <td>Sometimes</td>\n",
       "      <td>Public_Transportation</td>\n",
       "      <td>Overweight_Level_II</td>\n",
       "    </tr>\n",
       "    <tr>\n",
       "      <th>17</th>\n",
       "      <td>Female</td>\n",
       "      <td>29.0</td>\n",
       "      <td>1.53</td>\n",
       "      <td>78.0</td>\n",
       "      <td>33.320518</td>\n",
       "      <td>no</td>\n",
       "      <td>yes</td>\n",
       "      <td>2.0</td>\n",
       "      <td>1.0</td>\n",
       "      <td>Sometimes</td>\n",
       "      <td>no</td>\n",
       "      <td>2.0</td>\n",
       "      <td>no</td>\n",
       "      <td>0.0</td>\n",
       "      <td>0.0</td>\n",
       "      <td>no</td>\n",
       "      <td>Automobile</td>\n",
       "      <td>Obesity_Type_I</td>\n",
       "    </tr>\n",
       "    <tr>\n",
       "      <th>18</th>\n",
       "      <td>Female</td>\n",
       "      <td>30.0</td>\n",
       "      <td>1.71</td>\n",
       "      <td>82.0</td>\n",
       "      <td>28.042817</td>\n",
       "      <td>yes</td>\n",
       "      <td>yes</td>\n",
       "      <td>3.0</td>\n",
       "      <td>4.0</td>\n",
       "      <td>Frequently</td>\n",
       "      <td>yes</td>\n",
       "      <td>1.0</td>\n",
       "      <td>no</td>\n",
       "      <td>0.0</td>\n",
       "      <td>0.0</td>\n",
       "      <td>no</td>\n",
       "      <td>Automobile</td>\n",
       "      <td>Overweight_Level_II</td>\n",
       "    </tr>\n",
       "    <tr>\n",
       "      <th>19</th>\n",
       "      <td>Female</td>\n",
       "      <td>23.0</td>\n",
       "      <td>1.65</td>\n",
       "      <td>70.0</td>\n",
       "      <td>25.711662</td>\n",
       "      <td>yes</td>\n",
       "      <td>no</td>\n",
       "      <td>2.0</td>\n",
       "      <td>1.0</td>\n",
       "      <td>Sometimes</td>\n",
       "      <td>no</td>\n",
       "      <td>2.0</td>\n",
       "      <td>no</td>\n",
       "      <td>0.0</td>\n",
       "      <td>0.0</td>\n",
       "      <td>Sometimes</td>\n",
       "      <td>Public_Transportation</td>\n",
       "      <td>Overweight_Level_I</td>\n",
       "    </tr>\n",
       "  </tbody>\n",
       "</table>\n",
       "</div>"
      ],
      "text/plain": [
       "    Gender   Age  Height  Weight        BMI family_history_with_overweight  \\\n",
       "0   Female  21.0    1.62    64.0  24.386526                            yes   \n",
       "1   Female  21.0    1.52    56.0  24.238227                            yes   \n",
       "2     Male  23.0    1.80    77.0  23.765432                            yes   \n",
       "3     Male  27.0    1.80    87.0  26.851852                             no   \n",
       "4     Male  22.0    1.78    89.8  28.342381                             no   \n",
       "5     Male  29.0    1.62    53.0  20.195092                             no   \n",
       "6   Female  23.0    1.50    55.0  24.444444                            yes   \n",
       "7     Male  22.0    1.64    53.0  19.705532                             no   \n",
       "8     Male  24.0    1.78    64.0  20.199470                            yes   \n",
       "9     Male  22.0    1.72    68.0  22.985398                            yes   \n",
       "10    Male  26.0    1.85   105.0  30.679328                            yes   \n",
       "11  Female  21.0    1.72    80.0  27.041644                            yes   \n",
       "12    Male  22.0    1.65    56.0  20.569330                             no   \n",
       "13    Male  41.0    1.80    99.0  30.555556                             no   \n",
       "14    Male  23.0    1.77    60.0  19.151585                            yes   \n",
       "15  Female  22.0    1.70    66.0  22.837370                            yes   \n",
       "16    Male  27.0    1.93   102.0  27.383285                            yes   \n",
       "17  Female  29.0    1.53    78.0  33.320518                             no   \n",
       "18  Female  30.0    1.71    82.0  28.042817                            yes   \n",
       "19  Female  23.0    1.65    70.0  25.711662                            yes   \n",
       "\n",
       "   FAVC  FCVC  NCP        CAEC SMOKE  CH2O  SCC  FAF  TUE        CALC  \\\n",
       "0    no   2.0  3.0   Sometimes    no   2.0   no  0.0  1.0          no   \n",
       "1    no   3.0  3.0   Sometimes   yes   3.0  yes  3.0  0.0   Sometimes   \n",
       "2    no   2.0  3.0   Sometimes    no   2.0   no  2.0  1.0  Frequently   \n",
       "3    no   3.0  3.0   Sometimes    no   2.0   no  2.0  0.0  Frequently   \n",
       "4    no   2.0  1.0   Sometimes    no   2.0   no  0.0  0.0   Sometimes   \n",
       "5   yes   2.0  3.0   Sometimes    no   2.0   no  0.0  0.0   Sometimes   \n",
       "6   yes   3.0  3.0   Sometimes    no   2.0   no  1.0  0.0   Sometimes   \n",
       "7    no   2.0  3.0   Sometimes    no   2.0   no  3.0  0.0   Sometimes   \n",
       "8   yes   3.0  3.0   Sometimes    no   2.0   no  1.0  1.0  Frequently   \n",
       "9   yes   2.0  3.0   Sometimes    no   2.0   no  1.0  1.0          no   \n",
       "10  yes   3.0  3.0  Frequently    no   3.0   no  2.0  2.0   Sometimes   \n",
       "11  yes   2.0  3.0  Frequently    no   2.0  yes  2.0  1.0   Sometimes   \n",
       "12   no   3.0  3.0   Sometimes    no   3.0   no  2.0  0.0   Sometimes   \n",
       "13  yes   2.0  3.0   Sometimes    no   2.0   no  2.0  1.0  Frequently   \n",
       "14  yes   3.0  1.0   Sometimes    no   1.0   no  1.0  1.0   Sometimes   \n",
       "15   no   3.0  3.0      Always    no   2.0  yes  2.0  1.0   Sometimes   \n",
       "16  yes   2.0  1.0   Sometimes    no   1.0   no  1.0  0.0   Sometimes   \n",
       "17  yes   2.0  1.0   Sometimes    no   2.0   no  0.0  0.0          no   \n",
       "18  yes   3.0  4.0  Frequently   yes   1.0   no  0.0  0.0          no   \n",
       "19   no   2.0  1.0   Sometimes    no   2.0   no  0.0  0.0   Sometimes   \n",
       "\n",
       "                   MTRANS           NObeyesdad  \n",
       "0   Public_Transportation        Normal_Weight  \n",
       "1   Public_Transportation        Normal_Weight  \n",
       "2   Public_Transportation        Normal_Weight  \n",
       "3                 Walking   Overweight_Level_I  \n",
       "4   Public_Transportation  Overweight_Level_II  \n",
       "5              Automobile        Normal_Weight  \n",
       "6               Motorbike        Normal_Weight  \n",
       "7   Public_Transportation        Normal_Weight  \n",
       "8   Public_Transportation        Normal_Weight  \n",
       "9   Public_Transportation        Normal_Weight  \n",
       "10  Public_Transportation       Obesity_Type_I  \n",
       "11  Public_Transportation  Overweight_Level_II  \n",
       "12  Public_Transportation        Normal_Weight  \n",
       "13             Automobile       Obesity_Type_I  \n",
       "14  Public_Transportation        Normal_Weight  \n",
       "15  Public_Transportation        Normal_Weight  \n",
       "16  Public_Transportation  Overweight_Level_II  \n",
       "17             Automobile       Obesity_Type_I  \n",
       "18             Automobile  Overweight_Level_II  \n",
       "19  Public_Transportation   Overweight_Level_I  "
      ]
     },
     "execution_count": 91,
     "metadata": {},
     "output_type": "execute_result"
    }
   ],
   "source": [
    "obesity.head(20)"
   ]
  },
  {
   "cell_type": "code",
   "execution_count": 92,
   "id": "d60d0780",
   "metadata": {
    "id": "d60d0780",
    "outputId": "89eba803-6d72-4a75-ad11-d98484a0da4c"
   },
   "outputs": [
    {
     "data": {
      "text/plain": [
       "(2111, 18)"
      ]
     },
     "execution_count": 92,
     "metadata": {},
     "output_type": "execute_result"
    }
   ],
   "source": [
    "obesity.shape"
   ]
  },
  {
   "cell_type": "code",
   "execution_count": 93,
   "id": "c3514481",
   "metadata": {
    "id": "c3514481",
    "outputId": "6e8ee308-0f94-484c-b874-74a43402a544"
   },
   "outputs": [
    {
     "data": {
      "text/plain": [
       "37998"
      ]
     },
     "execution_count": 93,
     "metadata": {},
     "output_type": "execute_result"
    }
   ],
   "source": [
    "obesity.size"
   ]
  },
  {
   "cell_type": "code",
   "execution_count": 94,
   "id": "ab9454fd",
   "metadata": {
    "id": "ab9454fd"
   },
   "outputs": [],
   "source": [
    "df = obesity.copy()"
   ]
  },
  {
   "cell_type": "code",
   "execution_count": 95,
   "id": "845f424b",
   "metadata": {
    "id": "845f424b",
    "outputId": "189516a7-b744-4592-a3ee-e3538807a605"
   },
   "outputs": [
    {
     "name": "stdout",
     "output_type": "stream",
     "text": [
      "<class 'pandas.core.frame.DataFrame'>\n",
      "RangeIndex: 2111 entries, 0 to 2110\n",
      "Data columns (total 18 columns):\n",
      " #   Column                          Non-Null Count  Dtype  \n",
      "---  ------                          --------------  -----  \n",
      " 0   Gender                          2111 non-null   object \n",
      " 1   Age                             2111 non-null   float64\n",
      " 2   Height                          2111 non-null   float64\n",
      " 3   Weight                          2111 non-null   float64\n",
      " 4   BMI                             2111 non-null   float64\n",
      " 5   family_history_with_overweight  2111 non-null   object \n",
      " 6   FAVC                            2111 non-null   object \n",
      " 7   FCVC                            2111 non-null   float64\n",
      " 8   NCP                             2111 non-null   float64\n",
      " 9   CAEC                            2111 non-null   object \n",
      " 10  SMOKE                           2111 non-null   object \n",
      " 11  CH2O                            2111 non-null   float64\n",
      " 12  SCC                             2111 non-null   object \n",
      " 13  FAF                             2111 non-null   float64\n",
      " 14  TUE                             2111 non-null   float64\n",
      " 15  CALC                            2111 non-null   object \n",
      " 16  MTRANS                          2111 non-null   object \n",
      " 17  NObeyesdad                      2111 non-null   object \n",
      "dtypes: float64(9), object(9)\n",
      "memory usage: 297.0+ KB\n"
     ]
    }
   ],
   "source": [
    "obesity.info()"
   ]
  },
  {
   "cell_type": "markdown",
   "id": "81facae0",
   "metadata": {
    "id": "81facae0"
   },
   "source": [
    "### Data Cleaning"
   ]
  },
  {
   "cell_type": "code",
   "execution_count": 96,
   "id": "597ebdae",
   "metadata": {
    "id": "597ebdae",
    "outputId": "adbebde3-78af-403e-d76d-946d75867b13"
   },
   "outputs": [
    {
     "data": {
      "text/plain": [
       "Gender                            0\n",
       "Age                               0\n",
       "Height                            0\n",
       "Weight                            0\n",
       "BMI                               0\n",
       "family_history_with_overweight    0\n",
       "FAVC                              0\n",
       "FCVC                              0\n",
       "NCP                               0\n",
       "CAEC                              0\n",
       "SMOKE                             0\n",
       "CH2O                              0\n",
       "SCC                               0\n",
       "FAF                               0\n",
       "TUE                               0\n",
       "CALC                              0\n",
       "MTRANS                            0\n",
       "NObeyesdad                        0\n",
       "dtype: int64"
      ]
     },
     "execution_count": 96,
     "metadata": {},
     "output_type": "execute_result"
    }
   ],
   "source": [
    "obesity.isnull().sum()"
   ]
  },
  {
   "cell_type": "code",
   "execution_count": 97,
   "id": "f9a72549",
   "metadata": {
    "id": "f9a72549",
    "outputId": "ef977950-fc82-4bfc-9c67-c1a59d30125c"
   },
   "outputs": [
    {
     "data": {
      "text/plain": [
       "24"
      ]
     },
     "execution_count": 97,
     "metadata": {},
     "output_type": "execute_result"
    }
   ],
   "source": [
    "\n",
    "obesity.duplicated().sum()"
   ]
  },
  {
   "cell_type": "code",
   "execution_count": 98,
   "id": "e13b4c2a",
   "metadata": {
    "id": "e13b4c2a"
   },
   "outputs": [],
   "source": [
    "obesity = obesity.drop_duplicates()"
   ]
  },
  {
   "cell_type": "code",
   "execution_count": 99,
   "id": "0dd637e3",
   "metadata": {
    "id": "0dd637e3",
    "outputId": "9d75957d-3b66-4a73-ae07-4c8cd2f82ad4"
   },
   "outputs": [
    {
     "data": {
      "text/plain": [
       "0"
      ]
     },
     "execution_count": 99,
     "metadata": {},
     "output_type": "execute_result"
    }
   ],
   "source": [
    "obesity.duplicated().sum()"
   ]
  },
  {
   "cell_type": "markdown",
   "id": "d3ecb361",
   "metadata": {
    "id": "d3ecb361"
   },
   "source": [
    "All duplicate values have been dropped. This was a suitable method as the amount of duplicates dropped are not enough to skew dataset."
   ]
  },
  {
   "cell_type": "markdown",
   "id": "8c74c3aa",
   "metadata": {
    "id": "8c74c3aa"
   },
   "source": [
    "#### Converting Float columns to Integer"
   ]
  },
  {
   "cell_type": "code",
   "execution_count": 100,
   "id": "8f603ffb",
   "metadata": {
    "id": "8f603ffb"
   },
   "outputs": [],
   "source": [
    "obesity[\"Age\"] = obesity['Age'].astype(int)"
   ]
  },
  {
   "cell_type": "code",
   "execution_count": 101,
   "id": "6d2a1a31",
   "metadata": {
    "id": "6d2a1a31"
   },
   "outputs": [],
   "source": [
    "obesity[\"FCVC\"] = obesity['FCVC'].astype(int)"
   ]
  },
  {
   "cell_type": "code",
   "execution_count": 102,
   "id": "34015719",
   "metadata": {
    "id": "34015719"
   },
   "outputs": [],
   "source": [
    "obesity[\"NCP\"] = obesity['NCP'].astype(int)"
   ]
  },
  {
   "cell_type": "code",
   "execution_count": 103,
   "id": "bcc88828",
   "metadata": {
    "id": "bcc88828"
   },
   "outputs": [],
   "source": [
    "\n",
    "obesity[\"CH2O\"] = obesity['CH2O'].astype(int)"
   ]
  },
  {
   "cell_type": "code",
   "execution_count": 104,
   "id": "c3c550d9",
   "metadata": {
    "id": "c3c550d9"
   },
   "outputs": [],
   "source": [
    "\n",
    "obesity[\"TUE\"] = obesity['TUE'].astype(int)"
   ]
  },
  {
   "cell_type": "code",
   "execution_count": 105,
   "id": "a984028b",
   "metadata": {
    "id": "a984028b"
   },
   "outputs": [],
   "source": [
    "obesity[\"FAF\"] = obesity['FAF'].astype(int)"
   ]
  },
  {
   "cell_type": "code",
   "execution_count": 106,
   "id": "57796751",
   "metadata": {
    "id": "57796751",
    "outputId": "ea3ccc2e-a180-4ff5-f81c-5f0e5857e34d"
   },
   "outputs": [
    {
     "name": "stdout",
     "output_type": "stream",
     "text": [
      "<class 'pandas.core.frame.DataFrame'>\n",
      "Int64Index: 2087 entries, 0 to 2110\n",
      "Data columns (total 18 columns):\n",
      " #   Column                          Non-Null Count  Dtype  \n",
      "---  ------                          --------------  -----  \n",
      " 0   Gender                          2087 non-null   object \n",
      " 1   Age                             2087 non-null   int32  \n",
      " 2   Height                          2087 non-null   float64\n",
      " 3   Weight                          2087 non-null   float64\n",
      " 4   BMI                             2087 non-null   float64\n",
      " 5   family_history_with_overweight  2087 non-null   object \n",
      " 6   FAVC                            2087 non-null   object \n",
      " 7   FCVC                            2087 non-null   int32  \n",
      " 8   NCP                             2087 non-null   int32  \n",
      " 9   CAEC                            2087 non-null   object \n",
      " 10  SMOKE                           2087 non-null   object \n",
      " 11  CH2O                            2087 non-null   int32  \n",
      " 12  SCC                             2087 non-null   object \n",
      " 13  FAF                             2087 non-null   int32  \n",
      " 14  TUE                             2087 non-null   int32  \n",
      " 15  CALC                            2087 non-null   object \n",
      " 16  MTRANS                          2087 non-null   object \n",
      " 17  NObeyesdad                      2087 non-null   object \n",
      "dtypes: float64(3), int32(6), object(9)\n",
      "memory usage: 260.9+ KB\n"
     ]
    }
   ],
   "source": [
    "obesity.info()"
   ]
  },
  {
   "cell_type": "markdown",
   "id": "8946fed5",
   "metadata": {
    "id": "8946fed5"
   },
   "source": [
    "Float Columns have been converted to Integers."
   ]
  },
  {
   "cell_type": "code",
   "execution_count": 107,
   "id": "ac7c5a0c",
   "metadata": {
    "id": "ac7c5a0c"
   },
   "outputs": [],
   "source": [
    "\n",
    "obesity.rename(columns={'family_history_with_overweight': 'Family_history_with_overweight'}, inplace=True)"
   ]
  },
  {
   "cell_type": "code",
   "execution_count": 108,
   "id": "1079624d",
   "metadata": {
    "id": "1079624d",
    "outputId": "8be5b587-5367-46c0-e99c-2b6c561fad44"
   },
   "outputs": [
    {
     "name": "stdout",
     "output_type": "stream",
     "text": [
      "<class 'pandas.core.frame.DataFrame'>\n",
      "Int64Index: 2087 entries, 0 to 2110\n",
      "Data columns (total 18 columns):\n",
      " #   Column                          Non-Null Count  Dtype  \n",
      "---  ------                          --------------  -----  \n",
      " 0   Gender                          2087 non-null   object \n",
      " 1   Age                             2087 non-null   int32  \n",
      " 2   Height                          2087 non-null   float64\n",
      " 3   Weight                          2087 non-null   float64\n",
      " 4   BMI                             2087 non-null   float64\n",
      " 5   Family_history_with_overweight  2087 non-null   object \n",
      " 6   FAVC                            2087 non-null   object \n",
      " 7   FCVC                            2087 non-null   int32  \n",
      " 8   NCP                             2087 non-null   int32  \n",
      " 9   CAEC                            2087 non-null   object \n",
      " 10  SMOKE                           2087 non-null   object \n",
      " 11  CH2O                            2087 non-null   int32  \n",
      " 12  SCC                             2087 non-null   object \n",
      " 13  FAF                             2087 non-null   int32  \n",
      " 14  TUE                             2087 non-null   int32  \n",
      " 15  CALC                            2087 non-null   object \n",
      " 16  MTRANS                          2087 non-null   object \n",
      " 17  NObeyesdad                      2087 non-null   object \n",
      "dtypes: float64(3), int32(6), object(9)\n",
      "memory usage: 260.9+ KB\n"
     ]
    }
   ],
   "source": [
    "obesity.info()"
   ]
  },
  {
   "cell_type": "markdown",
   "id": "08bd514b",
   "metadata": {
    "id": "08bd514b"
   },
   "source": [
    "### Checking for spaces in columns"
   ]
  },
  {
   "cell_type": "code",
   "execution_count": 109,
   "id": "352c4763",
   "metadata": {
    "id": "352c4763",
    "outputId": "2fb0ab4b-8693-4ac2-a575-b56dbde7ecd5"
   },
   "outputs": [
    {
     "data": {
      "text/plain": [
       "0"
      ]
     },
     "execution_count": 109,
     "metadata": {},
     "output_type": "execute_result"
    }
   ],
   "source": [
    "obesity['Gender'].str.isspace().sum()"
   ]
  },
  {
   "cell_type": "code",
   "execution_count": 110,
   "id": "aa5d9f6b",
   "metadata": {
    "id": "aa5d9f6b",
    "outputId": "d58947b1-437c-4c19-860a-f23c85d7603a"
   },
   "outputs": [
    {
     "data": {
      "text/plain": [
       "0"
      ]
     },
     "execution_count": 110,
     "metadata": {},
     "output_type": "execute_result"
    }
   ],
   "source": [
    "obesity['Family_history_with_overweight'].str.isspace().sum()"
   ]
  },
  {
   "cell_type": "code",
   "execution_count": 111,
   "id": "ff90fe82",
   "metadata": {
    "id": "ff90fe82",
    "outputId": "5a4d4236-00ef-4e3a-e824-54f5727cb666"
   },
   "outputs": [
    {
     "data": {
      "text/plain": [
       "0"
      ]
     },
     "execution_count": 111,
     "metadata": {},
     "output_type": "execute_result"
    }
   ],
   "source": [
    "obesity['FAVC'].str.isspace().sum()"
   ]
  },
  {
   "cell_type": "code",
   "execution_count": 112,
   "id": "773364cd",
   "metadata": {
    "id": "773364cd",
    "outputId": "cdda508b-88ea-4d67-cf91-4c658c29f20d"
   },
   "outputs": [
    {
     "data": {
      "text/plain": [
       "0"
      ]
     },
     "execution_count": 112,
     "metadata": {},
     "output_type": "execute_result"
    }
   ],
   "source": [
    "obesity['CAEC'].str.isspace().sum()"
   ]
  },
  {
   "cell_type": "code",
   "execution_count": 113,
   "id": "0235fdbf",
   "metadata": {
    "id": "0235fdbf",
    "outputId": "58556c7e-2e91-4613-f87e-e796855464c2"
   },
   "outputs": [
    {
     "data": {
      "text/plain": [
       "0"
      ]
     },
     "execution_count": 113,
     "metadata": {},
     "output_type": "execute_result"
    }
   ],
   "source": [
    "obesity['SMOKE'].str.isspace().sum()"
   ]
  },
  {
   "cell_type": "code",
   "execution_count": 114,
   "id": "68a0b46d",
   "metadata": {
    "id": "68a0b46d",
    "outputId": "c98a9014-2b8d-4268-e4b3-3abdb2398580"
   },
   "outputs": [
    {
     "data": {
      "text/plain": [
       "0"
      ]
     },
     "execution_count": 114,
     "metadata": {},
     "output_type": "execute_result"
    }
   ],
   "source": [
    "obesity['CALC'].str.isspace().sum()"
   ]
  },
  {
   "cell_type": "code",
   "execution_count": 115,
   "id": "7b5c425c",
   "metadata": {
    "id": "7b5c425c",
    "outputId": "a6406353-9d2b-41fd-ec05-f3b5c66f1eb3"
   },
   "outputs": [
    {
     "data": {
      "text/plain": [
       "0"
      ]
     },
     "execution_count": 115,
     "metadata": {},
     "output_type": "execute_result"
    }
   ],
   "source": [
    "obesity['NObeyesdad'].str.isspace().sum()"
   ]
  },
  {
   "cell_type": "code",
   "execution_count": 116,
   "id": "395fd6d9",
   "metadata": {
    "id": "395fd6d9",
    "outputId": "1113b357-0b61-4459-c9a4-ff3295319918"
   },
   "outputs": [
    {
     "data": {
      "text/plain": [
       "0"
      ]
     },
     "execution_count": 116,
     "metadata": {},
     "output_type": "execute_result"
    }
   ],
   "source": [
    "obesity['MTRANS'].str.isspace().sum()"
   ]
  },
  {
   "cell_type": "markdown",
   "id": "510b86a9",
   "metadata": {
    "id": "510b86a9"
   },
   "source": [
    "### EXPLORATORY DATA ANALYSIS"
   ]
  },
  {
   "cell_type": "code",
   "execution_count": 117,
   "id": "f971e0d9",
   "metadata": {},
   "outputs": [
    {
     "data": {
      "text/html": [
       "<div>\n",
       "<style scoped>\n",
       "    .dataframe tbody tr th:only-of-type {\n",
       "        vertical-align: middle;\n",
       "    }\n",
       "\n",
       "    .dataframe tbody tr th {\n",
       "        vertical-align: top;\n",
       "    }\n",
       "\n",
       "    .dataframe thead th {\n",
       "        text-align: right;\n",
       "    }\n",
       "</style>\n",
       "<table border=\"1\" class=\"dataframe\">\n",
       "  <thead>\n",
       "    <tr style=\"text-align: right;\">\n",
       "      <th></th>\n",
       "      <th>Age</th>\n",
       "      <th>Height</th>\n",
       "      <th>Weight</th>\n",
       "      <th>BMI</th>\n",
       "      <th>FCVC</th>\n",
       "      <th>NCP</th>\n",
       "      <th>CH2O</th>\n",
       "      <th>FAF</th>\n",
       "      <th>TUE</th>\n",
       "    </tr>\n",
       "  </thead>\n",
       "  <tbody>\n",
       "    <tr>\n",
       "      <th>count</th>\n",
       "      <td>2087.000000</td>\n",
       "      <td>2087.000000</td>\n",
       "      <td>2087.000000</td>\n",
       "      <td>2087.000000</td>\n",
       "      <td>2087.000000</td>\n",
       "      <td>2087.000000</td>\n",
       "      <td>2087.000000</td>\n",
       "      <td>2087.000000</td>\n",
       "      <td>2087.000000</td>\n",
       "    </tr>\n",
       "    <tr>\n",
       "      <th>mean</th>\n",
       "      <td>24.009104</td>\n",
       "      <td>1.702674</td>\n",
       "      <td>86.858730</td>\n",
       "      <td>29.765758</td>\n",
       "      <td>2.213225</td>\n",
       "      <td>2.537135</td>\n",
       "      <td>1.705798</td>\n",
       "      <td>0.734068</td>\n",
       "      <td>0.383325</td>\n",
       "    </tr>\n",
       "    <tr>\n",
       "      <th>std</th>\n",
       "      <td>6.333297</td>\n",
       "      <td>0.093186</td>\n",
       "      <td>26.190847</td>\n",
       "      <td>8.024934</td>\n",
       "      <td>0.601259</td>\n",
       "      <td>0.821240</td>\n",
       "      <td>0.591308</td>\n",
       "      <td>0.835860</td>\n",
       "      <td>0.583136</td>\n",
       "    </tr>\n",
       "    <tr>\n",
       "      <th>min</th>\n",
       "      <td>14.000000</td>\n",
       "      <td>1.450000</td>\n",
       "      <td>39.000000</td>\n",
       "      <td>12.998685</td>\n",
       "      <td>1.000000</td>\n",
       "      <td>1.000000</td>\n",
       "      <td>1.000000</td>\n",
       "      <td>0.000000</td>\n",
       "      <td>0.000000</td>\n",
       "    </tr>\n",
       "    <tr>\n",
       "      <th>25%</th>\n",
       "      <td>19.000000</td>\n",
       "      <td>1.630178</td>\n",
       "      <td>66.000000</td>\n",
       "      <td>24.368897</td>\n",
       "      <td>2.000000</td>\n",
       "      <td>2.000000</td>\n",
       "      <td>1.000000</td>\n",
       "      <td>0.000000</td>\n",
       "      <td>0.000000</td>\n",
       "    </tr>\n",
       "    <tr>\n",
       "      <th>50%</th>\n",
       "      <td>22.000000</td>\n",
       "      <td>1.701584</td>\n",
       "      <td>83.101100</td>\n",
       "      <td>28.896224</td>\n",
       "      <td>2.000000</td>\n",
       "      <td>3.000000</td>\n",
       "      <td>2.000000</td>\n",
       "      <td>1.000000</td>\n",
       "      <td>0.000000</td>\n",
       "    </tr>\n",
       "    <tr>\n",
       "      <th>75%</th>\n",
       "      <td>26.000000</td>\n",
       "      <td>1.769491</td>\n",
       "      <td>108.015907</td>\n",
       "      <td>36.095538</td>\n",
       "      <td>3.000000</td>\n",
       "      <td>3.000000</td>\n",
       "      <td>2.000000</td>\n",
       "      <td>1.000000</td>\n",
       "      <td>1.000000</td>\n",
       "    </tr>\n",
       "    <tr>\n",
       "      <th>max</th>\n",
       "      <td>61.000000</td>\n",
       "      <td>1.980000</td>\n",
       "      <td>173.000000</td>\n",
       "      <td>50.811753</td>\n",
       "      <td>3.000000</td>\n",
       "      <td>4.000000</td>\n",
       "      <td>3.000000</td>\n",
       "      <td>3.000000</td>\n",
       "      <td>2.000000</td>\n",
       "    </tr>\n",
       "  </tbody>\n",
       "</table>\n",
       "</div>"
      ],
      "text/plain": [
       "               Age       Height       Weight          BMI         FCVC  \\\n",
       "count  2087.000000  2087.000000  2087.000000  2087.000000  2087.000000   \n",
       "mean     24.009104     1.702674    86.858730    29.765758     2.213225   \n",
       "std       6.333297     0.093186    26.190847     8.024934     0.601259   \n",
       "min      14.000000     1.450000    39.000000    12.998685     1.000000   \n",
       "25%      19.000000     1.630178    66.000000    24.368897     2.000000   \n",
       "50%      22.000000     1.701584    83.101100    28.896224     2.000000   \n",
       "75%      26.000000     1.769491   108.015907    36.095538     3.000000   \n",
       "max      61.000000     1.980000   173.000000    50.811753     3.000000   \n",
       "\n",
       "               NCP         CH2O          FAF          TUE  \n",
       "count  2087.000000  2087.000000  2087.000000  2087.000000  \n",
       "mean      2.537135     1.705798     0.734068     0.383325  \n",
       "std       0.821240     0.591308     0.835860     0.583136  \n",
       "min       1.000000     1.000000     0.000000     0.000000  \n",
       "25%       2.000000     1.000000     0.000000     0.000000  \n",
       "50%       3.000000     2.000000     1.000000     0.000000  \n",
       "75%       3.000000     2.000000     1.000000     1.000000  \n",
       "max       4.000000     3.000000     3.000000     2.000000  "
      ]
     },
     "execution_count": 117,
     "metadata": {},
     "output_type": "execute_result"
    }
   ],
   "source": [
    "# summary statistics\n",
    "\n",
    "obesity.describe()"
   ]
  },
  {
   "cell_type": "markdown",
   "id": "28525346",
   "metadata": {},
   "source": [
    "Distribution of numeric variables\n",
    "\n",
    "This is usually helpful to quickly grasp the overall shape and spread of the data. This would help identify whether the data is symmetric, skewed to the left or right, or multimodal.\n",
    "\n",
    "Outliers, which are data points significantly different from other observations, can often be visually identified on histograms as isolated bars at the tails of the distribution.\n",
    "\n",
    "Observing the distribution of data can also be useful to you can infer the mean, median, mode, and the variability of the data and access ata quality issues such as missing values, unusual distributions, or data entry errors. "
   ]
  },
  {
   "cell_type": "markdown",
   "id": "0b624fb2",
   "metadata": {},
   "source": []
  },
  {
   "cell_type": "code",
   "execution_count": 118,
   "id": "9f6d37c2",
   "metadata": {
    "id": "9f6d37c2",
    "outputId": "51c43629-6f09-4cde-d3d1-7ed5df9cbdfd"
   },
   "outputs": [
    {
     "data": {
      "image/png": "[encoded data removed]",
      "text/plain": [
       "<Figure size 1080x576 with 9 Axes>"
      ]
     },
     "metadata": {
      "needs_background": "light"
     },
     "output_type": "display_data"
    }
   ],
   "source": [
    "\n",
    "obesity.hist(bins = 100, figsize=(15, 8))\n",
    "plt.tight_layout()"
   ]
  },
  {
   "cell_type": "code",
   "execution_count": 119,
   "id": "2212f6ac",
   "metadata": {},
   "outputs": [
    {
     "data": {
      "image/png": "[encoded data removed]",
      "text/plain": [
       "<Figure size 1440x360 with 5 Axes>"
      ]
     },
     "metadata": {
      "needs_background": "light"
     },
     "output_type": "display_data"
    }
   ],
   "source": [
    "\n",
    "fig, axs = plt.subplots(1, 5, figsize=(20, 5))  \n",
    "\n",
    "\n",
    "columns = [\"FCVC\", \"NCP\", \"CH2O\", \"TUE\", \"FAF\"]\n",
    "for i, col in enumerate(columns):\n",
    "   \n",
    "    axs[i].hist(obesity[col], bins=5)  \n",
    "\n",
    "\n",
    "    axs[i].set_xticks(range(5))\n",
    "    axs[i].set_xticklabels(['0', '1', '2', '3', '4'])\n",
    "\n",
    "\n",
    "    axs[i].set_xlabel('Discrete Groups')\n",
    "    axs[i].set_ylabel('Frequency')\n",
    "    axs[i].set_title(f'Distribution of {col}')\n",
    "\n",
    "\n",
    "plt.tight_layout()\n",
    "\n",
    "# Displaying the plot\n",
    "plt.show()\n"
   ]
  },
  {
   "cell_type": "markdown",
   "id": "c7e01998",
   "metadata": {},
   "source": [
    "The distribution are mostly skewed. Revealing a small median for negetive skews and larger median for positve skewness."
   ]
  },
  {
   "cell_type": "code",
   "execution_count": 120,
   "id": "669c19a6",
   "metadata": {
    "id": "669c19a6",
    "outputId": "8528982c-2698-4c47-f19d-c5e5f2ae402a"
   },
   "outputs": [
    {
     "name": "stdout",
     "output_type": "stream",
     "text": [
      "<class 'pandas.core.frame.DataFrame'>\n",
      "Int64Index: 2087 entries, 0 to 2110\n",
      "Data columns (total 18 columns):\n",
      " #   Column                          Non-Null Count  Dtype  \n",
      "---  ------                          --------------  -----  \n",
      " 0   Gender                          2087 non-null   object \n",
      " 1   Age                             2087 non-null   int32  \n",
      " 2   Height                          2087 non-null   float64\n",
      " 3   Weight                          2087 non-null   float64\n",
      " 4   BMI                             2087 non-null   float64\n",
      " 5   Family_history_with_overweight  2087 non-null   object \n",
      " 6   FAVC                            2087 non-null   object \n",
      " 7   FCVC                            2087 non-null   int32  \n",
      " 8   NCP                             2087 non-null   int32  \n",
      " 9   CAEC                            2087 non-null   object \n",
      " 10  SMOKE                           2087 non-null   object \n",
      " 11  CH2O                            2087 non-null   int32  \n",
      " 12  SCC                             2087 non-null   object \n",
      " 13  FAF                             2087 non-null   int32  \n",
      " 14  TUE                             2087 non-null   int32  \n",
      " 15  CALC                            2087 non-null   object \n",
      " 16  MTRANS                          2087 non-null   object \n",
      " 17  NObeyesdad                      2087 non-null   object \n",
      "dtypes: float64(3), int32(6), object(9)\n",
      "memory usage: 260.9+ KB\n"
     ]
    }
   ],
   "source": [
    "obesity.info()"
   ]
  },
  {
   "cell_type": "markdown",
   "id": "f93618ad",
   "metadata": {},
   "source": [
    "## Outliers\n",
    "\n"
   ]
  },
  {
   "cell_type": "markdown",
   "id": "85e86605",
   "metadata": {
    "id": "85e86605"
   },
   "source": [
    "#### Analysing the Gender Column"
   ]
  },
  {
   "cell_type": "code",
   "execution_count": 121,
   "id": "b96897b3",
   "metadata": {
    "id": "b96897b3",
    "outputId": "b40646c5-83a5-4478-996b-9a19e8c7e338"
   },
   "outputs": [
    {
     "data": {
      "text/plain": [
       "Male      1052\n",
       "Female    1035\n",
       "Name: Gender, dtype: int64"
      ]
     },
     "execution_count": 121,
     "metadata": {},
     "output_type": "execute_result"
    }
   ],
   "source": [
    "#Gender count\n",
    "obesity['Gender'].value_counts()"
   ]
  },
  {
   "cell_type": "code",
   "execution_count": 122,
   "id": "866685fc",
   "metadata": {
    "id": "866685fc",
    "outputId": "2d76e71d-764a-4f13-f5d3-5f7585a25dd4"
   },
   "outputs": [
    {
     "data": {
      "image/png": "[encoded data removed]",
      "text/plain": [
       "<Figure size 504x360 with 1 Axes>"
      ]
     },
     "metadata": {
      "needs_background": "light"
     },
     "output_type": "display_data"
    }
   ],
   "source": [
    "\n",
    "gender = obesity[\"Gender\"].value_counts()\n",
    "\n",
    "plt.figure(figsize=(7,5))\n",
    "\n",
    "gender.plot(kind=\"bar\", color=[\"purple\", \"magenta\"], edgecolor=\"black\" )\n",
    "\n",
    "# sets the title, x-axis label, and y-axis\n",
    "plt.title(\"Comparison for Gender in dataset\")\n",
    "plt.xlabel(\"Gender\")\n",
    "plt.ylabel(\"Frequency\")\n",
    "plt.show()"
   ]
  },
  {
   "cell_type": "markdown",
   "id": "7d6a7268",
   "metadata": {
    "id": "7d6a7268"
   },
   "source": [
    "#### insight\n",
    "\n",
    "There are slightly more males  than females who took part in this case study. There is no obvious bias or disparity in gender."
   ]
  },
  {
   "cell_type": "markdown",
   "id": "5ee60145",
   "metadata": {
    "id": "5ee60145"
   },
   "source": [
    "### Analysing Family_history_with_overweight"
   ]
  },
  {
   "cell_type": "code",
   "execution_count": 123,
   "id": "c0d6d80e",
   "metadata": {
    "id": "c0d6d80e",
    "outputId": "e94e93da-00b1-4901-da88-9f6837c1e3b4"
   },
   "outputs": [
    {
     "data": {
      "text/plain": [
       "yes    1722\n",
       "no      365\n",
       "Name: Family_history_with_overweight, dtype: int64"
      ]
     },
     "execution_count": 123,
     "metadata": {},
     "output_type": "execute_result"
    }
   ],
   "source": [
    "# counting the values in Family_history_with_overweight column\n",
    "obesity['Family_history_with_overweight'].value_counts()"
   ]
  },
  {
   "cell_type": "code",
   "execution_count": 124,
   "id": "2576c9d3",
   "metadata": {
    "id": "2576c9d3",
    "outputId": "73fa3443-e743-4f51-fd64-54fad436f527"
   },
   "outputs": [
    {
     "data": {
      "image/png": "[encoded data removed]",
      "text/plain": [
       "<Figure size 504x360 with 1 Axes>"
      ]
     },
     "metadata": {
      "needs_background": "light"
     },
     "output_type": "display_data"
    }
   ],
   "source": [
    "\n",
    "family_history = obesity[\"Family_history_with_overweight\"].value_counts()\n",
    "plt.figure(figsize=(7,5))\n",
    "\n",
    "# creates a bar plot\n",
    "family_history.plot(kind=\"bar\", color=[\"purple\", \"magenta\"], edgecolor=\"black\" )\n",
    "\n",
    "# sets the title, x-axis label, and y-axis label of the plot.\n",
    "plt.title(\"Distribution of family_history_with_overweight\")\n",
    "plt.xlabel(\"Family_history_with_overweight\")\n",
    "plt.ylabel(\"Frequency\")\n",
    "plt.show()"
   ]
  },
  {
   "cell_type": "markdown",
   "id": "e8b42866",
   "metadata": {
    "id": "e8b42866"
   },
   "source": [
    "### Analysing FAVC Column"
   ]
  },
  {
   "cell_type": "code",
   "execution_count": 125,
   "id": "85796afa",
   "metadata": {
    "id": "85796afa",
    "outputId": "45b0dbc7-bd8d-4756-e694-53b6488f0a59"
   },
   "outputs": [
    {
     "data": {
      "text/plain": [
       "yes    1844\n",
       "no      243\n",
       "Name: FAVC, dtype: int64"
      ]
     },
     "execution_count": 125,
     "metadata": {},
     "output_type": "execute_result"
    }
   ],
   "source": [
    "#Counting the values in gender column\n",
    "obesity['FAVC'].value_counts()"
   ]
  },
  {
   "cell_type": "code",
   "execution_count": 126,
   "id": "d8096c61",
   "metadata": {
    "id": "d8096c61",
    "outputId": "e166d0d9-da6a-41b3-a620-130a26bf0030"
   },
   "outputs": [
    {
     "data": {
      "image/png": "[encoded data removed]",
      "text/plain": [
       "<Figure size 432x288 with 1 Axes>"
      ]
     },
     "metadata": {},
     "output_type": "display_data"
    }
   ],
   "source": [
    "favc=obesity[\"FAVC\"].value_counts()\n",
    "plt.title(\"FAVC Distribution\")\n",
    "plt.pie(favc, autopct=\"%.1f%%\",colors=['purple', 'green'], labels=favc.index)\n",
    "plt.show()"
   ]
  },
  {
   "cell_type": "markdown",
   "id": "3cb432cd",
   "metadata": {
    "id": "3cb432cd"
   },
   "source": [
    "#### Insight\n",
    "\n",
    "88.4% of people replied yes to Frequent consumption of high caloric food (FAVC), 11.6% replied no.  "
   ]
  },
  {
   "cell_type": "markdown",
   "id": "4cedafed",
   "metadata": {
    "id": "4cedafed"
   },
   "source": [
    "CAEC - Consumption of food between meals"
   ]
  },
  {
   "cell_type": "code",
   "execution_count": 127,
   "id": "bf89e849",
   "metadata": {
    "id": "bf89e849",
    "outputId": "d59dea51-8a53-41e0-9e0e-bc3a8b678ef9"
   },
   "outputs": [
    {
     "data": {
      "text/plain": [
       "Sometimes     1761\n",
       "Frequently     236\n",
       "Always          53\n",
       "no              37\n",
       "Name: CAEC, dtype: int64"
      ]
     },
     "execution_count": 127,
     "metadata": {},
     "output_type": "execute_result"
    }
   ],
   "source": [
    "# counting the values in CAEC\n",
    "obesity['CAEC'].value_counts()"
   ]
  },
  {
   "cell_type": "code",
   "execution_count": 128,
   "id": "87223694",
   "metadata": {
    "id": "87223694",
    "outputId": "2029ae6a-c291-426e-a8f1-6d8f91f25535"
   },
   "outputs": [
    {
     "data": {
      "image/png": "[encoded data removed]",
      "text/plain": [
       "<Figure size 432x288 with 1 Axes>"
      ]
     },
     "metadata": {},
     "output_type": "display_data"
    }
   ],
   "source": [
    "caec=obesity[\"CAEC\"].value_counts()\n",
    "plt.title(\"CAEC Column Distribution\")\n",
    "plt.pie(caec, autopct=\"%.1f%%\",colors=['purple', 'red'], labels=caec.index)\n",
    "plt.show()"
   ]
  },
  {
   "cell_type": "markdown",
   "id": "9dab9682",
   "metadata": {
    "id": "9dab9682"
   },
   "source": [
    "#### Insight\n",
    "An overwhelming 84.4% of people sometimes consume food between meals, 11.3% frequently do. Avery small percentage of people either always consume food between meals or none at all."
   ]
  },
  {
   "cell_type": "markdown",
   "id": "c7fd0f7d",
   "metadata": {
    "id": "c7fd0f7d"
   },
   "source": [
    "### Analysing SMOKE column"
   ]
  },
  {
   "cell_type": "code",
   "execution_count": 129,
   "id": "421799e5",
   "metadata": {
    "id": "421799e5",
    "outputId": "efc26aaa-6c37-4bb3-fa9f-996b05ddda6f"
   },
   "outputs": [
    {
     "data": {
      "text/plain": [
       "no     2043\n",
       "yes      44\n",
       "Name: SMOKE, dtype: int64"
      ]
     },
     "execution_count": 129,
     "metadata": {},
     "output_type": "execute_result"
    }
   ],
   "source": [
    "#Counting the values in SMOKE column\n",
    "obesity['SMOKE'].value_counts()"
   ]
  },
  {
   "cell_type": "code",
   "execution_count": 130,
   "id": "642102a5",
   "metadata": {
    "id": "642102a5",
    "outputId": "683dd784-415e-4cec-b1d4-48b9c641b7e9"
   },
   "outputs": [
    {
     "data": {
      "image/png": "[encoded data removed]",
      "text/plain": [
       "<Figure size 432x288 with 1 Axes>"
      ]
     },
     "metadata": {},
     "output_type": "display_data"
    }
   ],
   "source": [
    "smoking=obesity[\"SMOKE\"].value_counts()\n",
    "plt.title(\"SMOKE Column Distribution\")\n",
    "plt.pie(smoking, autopct=\"%.1f%%\",colors=['purple', 'magenta'], labels=smoking.index)\n",
    "plt.show()"
   ]
  },
  {
   "cell_type": "markdown",
   "id": "56ada02c",
   "metadata": {
    "id": "56ada02c"
   },
   "source": [
    "##### Insight\n",
    "\n",
    "Most people do not smoke at all."
   ]
  },
  {
   "cell_type": "markdown",
   "id": "34a1e30a",
   "metadata": {
    "id": "34a1e30a"
   },
   "source": [
    "SCC"
   ]
  },
  {
   "cell_type": "code",
   "execution_count": 131,
   "id": "1d5f4b99",
   "metadata": {
    "id": "1d5f4b99",
    "outputId": "9cdab776-497d-40dd-c520-f62ee4538554"
   },
   "outputs": [
    {
     "data": {
      "text/plain": [
       "no     1991\n",
       "yes      96\n",
       "Name: SCC, dtype: int64"
      ]
     },
     "execution_count": 131,
     "metadata": {},
     "output_type": "execute_result"
    }
   ],
   "source": [
    "#Counting the values in SCC(Calories consumption monitoring) column\n",
    "obesity['SCC'].value_counts()"
   ]
  },
  {
   "cell_type": "code",
   "execution_count": 132,
   "id": "89b0e6dc",
   "metadata": {
    "id": "89b0e6dc",
    "outputId": "47cd1e71-8840-40ea-dbb4-766a158f908b"
   },
   "outputs": [
    {
     "data": {
      "image/png": "[encoded data removed]",
      "text/plain": [
       "<Figure size 432x288 with 1 Axes>"
      ]
     },
     "metadata": {},
     "output_type": "display_data"
    }
   ],
   "source": [
    "scc=obesity[\"SCC\"].value_counts()\n",
    "plt.title(\"SCC Column Distribution\")\n",
    "plt.pie(scc, autopct=\"%.1f%%\",colors=['purple', 'magenta'], labels=scc.index)\n",
    "plt.show()"
   ]
  },
  {
   "cell_type": "markdown",
   "id": "ccf50db4",
   "metadata": {
    "id": "ccf50db4"
   },
   "source": [
    "#### Insight\n",
    "\n",
    "Most people do not monitor their calory consumption."
   ]
  },
  {
   "cell_type": "markdown",
   "id": "3395d6ec",
   "metadata": {
    "id": "3395d6ec"
   },
   "source": [
    "### Analysing CALC Column"
   ]
  },
  {
   "cell_type": "code",
   "execution_count": 133,
   "id": "8f52cb7f",
   "metadata": {
    "id": "8f52cb7f",
    "outputId": "153ddbff-8569-4fb2-9459-8e2d0c7f7163"
   },
   "outputs": [
    {
     "data": {
      "text/plain": [
       "Sometimes     1380\n",
       "no             636\n",
       "Frequently      70\n",
       "Always           1\n",
       "Name: CALC, dtype: int64"
      ]
     },
     "execution_count": 133,
     "metadata": {},
     "output_type": "execute_result"
    }
   ],
   "source": [
    "#Counting the values in CALC column\n",
    "obesity['CALC'].value_counts()"
   ]
  },
  {
   "cell_type": "code",
   "execution_count": 134,
   "id": "3e2f3517",
   "metadata": {
    "id": "3e2f3517",
    "outputId": "21242bb7-0179-46da-c7a0-683db9a8da1d"
   },
   "outputs": [
    {
     "data": {
      "image/png": "[encoded data removed]",
      "text/plain": [
       "<Figure size 504x360 with 1 Axes>"
      ]
     },
     "metadata": {
      "needs_background": "light"
     },
     "output_type": "display_data"
    }
   ],
   "source": [
    "# Calculates the frequency of each unique value\n",
    "calc = obesity[\"CALC\"].value_counts()\n",
    "\n",
    "plt.figure(figsize=(7,5))\n",
    "\n",
    "# Creates a bar plot to visualize the frequency of each room type.\n",
    "calc.plot(kind=\"bar\", color=[\"purple\", \"magenta\"], edgecolor=\"black\" )\n",
    "# Sets the title, x-axis label, and y-axis label of the plot.\n",
    "plt.title(\"Distribution of CALC\")\n",
    "plt.xlabel(\"CALC\")\n",
    "plt.ylabel(\"Frequency\")\n",
    "plt.show()"
   ]
  },
  {
   "cell_type": "markdown",
   "id": "1ddf9512",
   "metadata": {
    "id": "1ddf9512"
   },
   "source": [
    "### Analysing MTRANS Columns"
   ]
  },
  {
   "cell_type": "code",
   "execution_count": 135,
   "id": "0e3ecf7f",
   "metadata": {
    "id": "0e3ecf7f",
    "outputId": "383edbec-cf53-4782-a561-a2d190d18993"
   },
   "outputs": [
    {
     "data": {
      "text/plain": [
       "Public_Transportation    1558\n",
       "Automobile                456\n",
       "Walking                    55\n",
       "Motorbike                  11\n",
       "Bike                        7\n",
       "Name: MTRANS, dtype: int64"
      ]
     },
     "execution_count": 135,
     "metadata": {},
     "output_type": "execute_result"
    }
   ],
   "source": [
    "#Counting the values in MTRANS column\n",
    "obesity['MTRANS'].value_counts()"
   ]
  },
  {
   "cell_type": "code",
   "execution_count": 136,
   "id": "c924c82c",
   "metadata": {
    "id": "c924c82c",
    "outputId": "57325890-92a8-42fa-8912-f97a9541f53f"
   },
   "outputs": [
    {
     "data": {
      "image/png": "[encoded data removed]",
      "text/plain": [
       "<Figure size 504x360 with 1 Axes>"
      ]
     },
     "metadata": {
      "needs_background": "light"
     },
     "output_type": "display_data"
    }
   ],
   "source": [
    "#Calculates the frequency of each unique value in the \"MTRANS\" column of the DataFrame.\n",
    "mtrans = obesity[\"MTRANS\"].value_counts()\n",
    "plt.figure(figsize=(7,5))\n",
    "# Creates a bar plot to visualize the frequency of each room type.\n",
    "mtrans.plot(kind=\"bar\", color=[\"purple\", \"magenta\"], edgecolor=\"black\" )\n",
    "# Sets the title, x-axis label, and y-axis label of the plot.\n",
    "plt.title(\"Distribution of MTRANS\")\n",
    "plt.xlabel(\"MTRANS\")\n",
    "plt.ylabel(\"Frequency\")\n",
    "plt.show()"
   ]
  },
  {
   "cell_type": "markdown",
   "id": "70ba0e6d",
   "metadata": {},
   "source": [
    "## Further EDA\n",
    "\n",
    "To Answer:\n",
    "- Age of Genders\n",
    "- what gender was more likely to have a family history?\n",
    "- How did it correlate to the the type of transportation used?\n",
    "- What gender was more likely to smoke or drink?"
   ]
  },
  {
   "cell_type": "markdown",
   "id": "28907dc8",
   "metadata": {},
   "source": [
    "## what gender was more likely to have a family history?"
   ]
  },
  {
   "cell_type": "markdown",
   "id": "e756fa43",
   "metadata": {},
   "source": [
    "**Age of Genders**"
   ]
  },
  {
   "cell_type": "code",
   "execution_count": 137,
   "id": "43c888c9",
   "metadata": {},
   "outputs": [
    {
     "data": {
      "image/png": "[encoded data removed]",
      "text/plain": [
       "<Figure size 576x432 with 1 Axes>"
      ]
     },
     "metadata": {
      "needs_background": "light"
     },
     "output_type": "display_data"
    }
   ],
   "source": [
    "plt.figure(figsize=(8, 6))\n",
    "sns.boxplot(x='Gender', y='Age', data=obesity)\n",
    "plt.title('Age Distribution by Gender')\n",
    "plt.xlabel('Gender')\n",
    "plt.ylabel('Age')\n",
    "plt.show()"
   ]
  },
  {
   "cell_type": "markdown",
   "id": "88707b3f",
   "metadata": {},
   "source": [
    "The disparity in age observed in different gender is mininal."
   ]
  },
  {
   "cell_type": "markdown",
   "id": "f75ad5d7",
   "metadata": {},
   "source": [
    "**what gender was more likely to have a family history?**\n",
    "\n"
   ]
  },
  {
   "cell_type": "code",
   "execution_count": 138,
   "id": "a9a41496",
   "metadata": {},
   "outputs": [
    {
     "data": {
      "image/png": "[encoded data removed]",
      "text/plain": [
       "<Figure size 432x288 with 1 Axes>"
      ]
     },
     "metadata": {
      "needs_background": "light"
     },
     "output_type": "display_data"
    }
   ],
   "source": [
    "\n",
    "family_history_by_gender = obesity.groupby('Gender')['Family_history_with_overweight'].value_counts(normalize=True).unstack()\n",
    "\n",
    "# visualising\n",
    "family_history_by_gender.plot(kind='bar', stacked=True)\n",
    "plt.title('Proportion of Family History by Gender')\n",
    "plt.xlabel('Gender')\n",
    "plt.ylabel('family History With Overweight')\n",
    "plt.xticks(rotation=0)\n",
    "plt.legend(title='Family History')\n",
    "plt.show()"
   ]
  },
  {
   "cell_type": "markdown",
   "id": "7c966d06",
   "metadata": {},
   "source": [
    "Male gender had slighly more family history with overweight at about 0.05 margin."
   ]
  },
  {
   "cell_type": "markdown",
   "id": "78e2256b",
   "metadata": {},
   "source": [
    "**How did it correlate to the the type of transportation used?**"
   ]
  },
  {
   "cell_type": "code",
   "execution_count": 139,
   "id": "df962b08",
   "metadata": {},
   "outputs": [
    {
     "data": {
      "image/png": "[encoded data removed]",
      "text/plain": [
       "<Figure size 576x432 with 2 Axes>"
      ]
     },
     "metadata": {
      "needs_background": "light"
     },
     "output_type": "display_data"
    }
   ],
   "source": [
    "family_history_transport_crosstab = pd.crosstab(obesity['Family_history_with_overweight'], obesity['MTRANS'], normalize='index')\n",
    "\n",
    "# visualising\n",
    "plt.figure(figsize=(8, 6))\n",
    "sns.heatmap(family_history_transport_crosstab, cmap='coolwarm', annot=True, fmt=\".2f\")\n",
    "plt.title('Correlation Between Family History and Transportation Type')\n",
    "plt.xlabel('Transport Type')\n",
    "plt.ylabel('Family History')\n",
    "plt.xticks(rotation=45)\n",
    "plt.yticks(rotation=0)\n",
    "plt.show()"
   ]
  },
  {
   "cell_type": "markdown",
   "id": "c6ae6f12",
   "metadata": {},
   "source": [
    "There is no apparent correlation."
   ]
  },
  {
   "cell_type": "markdown",
   "id": "58e79ff1",
   "metadata": {},
   "source": [
    "**What gender was more likely to smoke or drink?**"
   ]
  },
  {
   "cell_type": "code",
   "execution_count": 140,
   "id": "842fc292",
   "metadata": {},
   "outputs": [
    {
     "data": {
      "image/png": "[encoded data removed]",
      "text/plain": [
       "<Figure size 576x432 with 1 Axes>"
      ]
     },
     "metadata": {
      "needs_background": "light"
     },
     "output_type": "display_data"
    }
   ],
   "source": [
    "# calculate proportion of smoking and drinking by gender\n",
    "smoke_drink_by_gender = obesity.groupby('Gender')[['SMOKE', 'CALC']].value_counts(normalize=True).unstack()\n",
    "\n",
    "# visualising\n",
    "smoke_drink_by_gender.plot(kind='bar', figsize=(8, 6), color=['blue', 'green'])\n",
    "plt.title('Likelihood of Smoking or Drinking by Gender')\n",
    "plt.xlabel('Gender')\n",
    "plt.ylabel('Proportion')\n",
    "plt.xticks(rotation=0)\n",
    "plt.legend(title='Habit', loc='upper right')\n",
    "plt.show()"
   ]
  },
  {
   "cell_type": "markdown",
   "id": "674f7f5c",
   "metadata": {},
   "source": [
    "More people with Female gender did not smoke in comparison to the Male gendered people. The distribution of people who smoked sometimes in males was higher."
   ]
  },
  {
   "cell_type": "markdown",
   "id": "0030a1fc",
   "metadata": {},
   "source": [
    "## Further Transformation and analysis"
   ]
  },
  {
   "cell_type": "code",
   "execution_count": 141,
   "id": "bd9aedfd",
   "metadata": {
    "id": "bd9aedfd"
   },
   "outputs": [],
   "source": [
    "# The object column is converted to string to ensure data type consistency for label encoding\n",
    "# This also allows for numeric columns to be subset\n",
    "\n",
    "string_col = obesity.select_dtypes(include=\"object\").columns"
   ]
  },
  {
   "cell_type": "code",
   "execution_count": 142,
   "id": "0d568ff9",
   "metadata": {
    "id": "0d568ff9"
   },
   "outputs": [],
   "source": [
    "obesity[string_col]=obesity[string_col].astype(\"string\")"
   ]
  },
  {
   "cell_type": "code",
   "execution_count": 143,
   "id": "883134f8",
   "metadata": {},
   "outputs": [
    {
     "data": {
      "text/plain": [
       "Index(['Gender', 'Family_history_with_overweight', 'FAVC', 'CAEC', 'SMOKE',\n",
       "       'SCC', 'CALC', 'MTRANS', 'NObeyesdad'],\n",
       "      dtype='object')"
      ]
     },
     "execution_count": 143,
     "metadata": {},
     "output_type": "execute_result"
    }
   ],
   "source": [
    "string_col"
   ]
  },
  {
   "cell_type": "code",
   "execution_count": 144,
   "id": "208c12dd",
   "metadata": {
    "id": "208c12dd",
    "outputId": "e5e85c86-8e05-440f-a485-cd52a1a554ec"
   },
   "outputs": [
    {
     "data": {
      "text/plain": [
       "Gender                             string\n",
       "Age                                 int32\n",
       "Height                            float64\n",
       "Weight                            float64\n",
       "BMI                               float64\n",
       "Family_history_with_overweight     string\n",
       "FAVC                               string\n",
       "FCVC                                int32\n",
       "NCP                                 int32\n",
       "CAEC                               string\n",
       "SMOKE                              string\n",
       "CH2O                                int32\n",
       "SCC                                string\n",
       "FAF                                 int32\n",
       "TUE                                 int32\n",
       "CALC                               string\n",
       "MTRANS                             string\n",
       "NObeyesdad                         string\n",
       "dtype: object"
      ]
     },
     "execution_count": 144,
     "metadata": {},
     "output_type": "execute_result"
    }
   ],
   "source": [
    "obesity.dtypes"
   ]
  },
  {
   "cell_type": "code",
   "execution_count": 145,
   "id": "e4d4bfa1",
   "metadata": {
    "id": "e4d4bfa1"
   },
   "outputs": [],
   "source": [
    "# extracts the names of columns in the DataFrame\n",
    "# it creates a variable that stores columns that are strings in a list\n",
    "\n",
    "\n",
    "string_col=obesity.select_dtypes(\"string\").columns.to_list()\n",
    "#string_col = df.select_dtypes(\"string\").columns.to_list()\n"
   ]
  },
  {
   "cell_type": "code",
   "execution_count": 146,
   "id": "eae1b63f",
   "metadata": {},
   "outputs": [
    {
     "data": {
      "text/plain": [
       "['Gender',\n",
       " 'Family_history_with_overweight',\n",
       " 'FAVC',\n",
       " 'CAEC',\n",
       " 'SMOKE',\n",
       " 'SCC',\n",
       " 'CALC',\n",
       " 'MTRANS',\n",
       " 'NObeyesdad']"
      ]
     },
     "execution_count": 146,
     "metadata": {},
     "output_type": "execute_result"
    }
   ],
   "source": [
    "string_col"
   ]
  },
  {
   "cell_type": "code",
   "execution_count": 147,
   "id": "fbf39db8",
   "metadata": {
    "id": "fbf39db8"
   },
   "outputs": [
    {
     "name": "stdout",
     "output_type": "stream",
     "text": [
      "['Gender', 'Age', 'Height', 'Weight', 'BMI', 'Family_history_with_overweight', 'FAVC', 'FCVC', 'NCP', 'CAEC', 'SMOKE', 'CH2O', 'SCC', 'FAF', 'TUE', 'CALC', 'MTRANS', 'NObeyesdad']\n"
     ]
    }
   ],
   "source": [
    "# here we are trying to remove the string columns and return only numerical columns\n",
    "\n",
    "num_col=obesity.columns.to_list()\n",
    "\n",
    "print(num_col)\n"
   ]
  },
  {
   "cell_type": "code",
   "execution_count": 148,
   "id": "578ccac4",
   "metadata": {},
   "outputs": [],
   "source": [
    "# for col in string_col:\n",
    "#     num_col.remove(col)\n",
    "# num_col.remove(\"NObeyesdad\")"
   ]
  },
  {
   "cell_type": "code",
   "execution_count": 149,
   "id": "cfd09135",
   "metadata": {},
   "outputs": [],
   "source": [
    "# Remove string columns\n",
    "num_col = [col for col in num_col if col not in string_col]\n",
    "\n",
    "# Remove \"NObeyesdad\" column if it exists\n",
    "if \"NObeyesdad\" in num_col:\n",
    "    num_col.remove(\"NObeyesdad\")"
   ]
  },
  {
   "cell_type": "code",
   "execution_count": 150,
   "id": "328eabba",
   "metadata": {},
   "outputs": [
    {
     "name": "stdout",
     "output_type": "stream",
     "text": [
      "['Age', 'Height', 'Weight', 'BMI', 'FCVC', 'NCP', 'CH2O', 'FAF', 'TUE']\n"
     ]
    }
   ],
   "source": [
    "print(num_col)"
   ]
  },
  {
   "cell_type": "code",
   "execution_count": 151,
   "id": "416a0627",
   "metadata": {},
   "outputs": [
    {
     "name": "stderr",
     "output_type": "stream",
     "text": [
      "WARNING: Ignoring invalid distribution -andas (c:\\users\\ibast\\appdata\\local\\programs\\python\\python310\\lib\\site-packages)\n",
      "WARNING: Error parsing dependencies of bleach: Expected matching RIGHT_PARENTHESIS for LEFT_PARENTHESIS, after version specifier\n",
      "    tinycss2 (>=1.1.0<1.2) ; extra == 'css'\n",
      "             ~~~~~~~~^\n",
      "WARNING: Ignoring invalid distribution -andas (c:\\users\\ibast\\appdata\\local\\programs\\python\\python310\\lib\\site-packages)\n",
      "WARNING: Ignoring invalid distribution -andas (c:\\users\\ibast\\appdata\\local\\programs\\python\\python310\\lib\\site-packages)\n",
      "\n",
      "[notice] A new release of pip is available: 24.2 -> 24.3.1\n",
      "[notice] To update, run: python.exe -m pip install --upgrade pip\n"
     ]
    },
    {
     "name": "stdout",
     "output_type": "stream",
     "text": [
      "Requirement already satisfied: numpy==1.21.6 in c:\\users\\ibast\\appdata\\local\\programs\\python\\python310\\lib\\site-packages (1.21.6)\n",
      "Requirement already satisfied: plotly==5.5.0 in c:\\users\\ibast\\appdata\\local\\programs\\python\\python310\\lib\\site-packages (5.5.0)\n",
      "Requirement already satisfied: tenacity>=6.2.0 in c:\\users\\ibast\\appdata\\local\\programs\\python\\python310\\lib\\site-packages (from plotly==5.5.0) (8.1.0)\n",
      "Requirement already satisfied: six in c:\\users\\ibast\\appdata\\local\\programs\\python\\python310\\lib\\site-packages (from plotly==5.5.0) (1.16.0)\n"
     ]
    },
    {
     "name": "stderr",
     "output_type": "stream",
     "text": [
      "WARNING: Ignoring invalid distribution -andas (c:\\users\\ibast\\appdata\\local\\programs\\python\\python310\\lib\\site-packages)\n",
      "WARNING: Error parsing dependencies of bleach: Expected matching RIGHT_PARENTHESIS for LEFT_PARENTHESIS, after version specifier\n",
      "    tinycss2 (>=1.1.0<1.2) ; extra == 'css'\n",
      "             ~~~~~~~~^\n",
      "WARNING: Ignoring invalid distribution -andas (c:\\users\\ibast\\appdata\\local\\programs\\python\\python310\\lib\\site-packages)\n",
      "WARNING: Ignoring invalid distribution -andas (c:\\users\\ibast\\appdata\\local\\programs\\python\\python310\\lib\\site-packages)\n",
      "\n",
      "[notice] A new release of pip is available: 24.2 -> 24.3.1\n",
      "[notice] To update, run: python.exe -m pip install --upgrade pip\n"
     ]
    }
   ],
   "source": [
    "!pip install numpy==1.21.6\n",
    "!pip install plotly==5.5.0\n"
   ]
  },
  {
   "cell_type": "markdown",
   "id": "713cc918",
   "metadata": {
    "id": "713cc918"
   },
   "source": [
    "##### finding the correlation between the variables in the dataset"
   ]
  },
  {
   "cell_type": "code",
   "execution_count": 152,
   "id": "81d7462a",
   "metadata": {
    "id": "81d7462a"
   },
   "outputs": [],
   "source": [
    "import plotly.express as px"
   ]
  },
  {
   "cell_type": "markdown",
   "id": "48bbc080",
   "metadata": {
    "id": "48bbc080"
   },
   "source": [
    "###### This library used for creating interactive visualizations. It provides a high-level interface for creating a variety of plots quickly and easily. "
   ]
  },
  {
   "cell_type": "code",
   "execution_count": 153,
   "id": "9c01755b",
   "metadata": {
    "id": "9c01755b"
   },
   "outputs": [],
   "source": [
    "# to select the numeric columns\n",
    "numeric_obesity = obesity.select_dtypes(include=['number'])\n",
    "\n",
    "# creating variable for correlation matrix\n",
    "corr_matrix = numeric_obesity.corr()"
   ]
  },
  {
   "cell_type": "code",
   "execution_count": 154,
   "id": "52cf6e27",
   "metadata": {
    "id": "52cf6e27",
    "outputId": "81bb9902-8c17-4921-a381-c6343b667c0c"
   },
   "outputs": [
    {
     "data": {
      "application/vnd.plotly.v1+json": {
       "config": {
        "plotlyServerURL": "https://plot.ly"
       },
       "data": [
        {
         "coloraxis": "coloraxis",
         "hovertemplate": "x: %{x}<br>y: %{y}<br>color: %{z}<extra></extra>",
         "name": "0",
         "type": "heatmap",
         "x": [
          "Age",
          "Height",
          "Weight",
          "BMI",
          "FCVC",
          "NCP",
          "CH2O",
          "FAF",
          "TUE"
         ],
         "xaxis": "x",
         "y": [
          "Age",
          "Height",
          "Weight",
          "BMI",
          "FCVC",
          "NCP",
          "CH2O",
          "FAF",
          "TUE"
         ],
         "yaxis": "y",
         "z": [
          [
           1,
           -0.03601202293104719,
           0.18624030212049753,
           0.22933982145935358,
           -0.013602666642318439,
           -0.07983744539441658,
           -0.08786698930385056,
           -0.16453744880950444,
           -0.23666822569793555
          ],
          [
           -0.03601202293104719,
           1,
           0.45746802259405217,
           0.12446565081835068,
           -0.06861322137087172,
           0.20020423492318293,
           0.20415489264205994,
           0.23597907627439046,
           -0.012420565123083812
          ],
          [
           0.18624030212049753,
           0.45746802259405217,
           1,
           0.9344943663783079,
           0.2048614577788039,
           0.11380228208959829,
           0.05861269778798561,
           -0.1612299737023028,
           -0.28001272467296734
          ],
          [
           0.22933982145935358,
           0.12446565081835068,
           0.9344943663783079,
           1,
           0.2649837713059764,
           0.061516173494984956,
           -0.011584121498526681,
           -0.2701457647089769,
           -0.30604809520831305
          ],
          [
           -0.013602666642318439,
           -0.06861322137087172,
           0.2048614577788039,
           0.2649837713059764,
           1,
           0.1407496347223127,
           0.047085185141229044,
           0.022263136668822524,
           -0.14982507139819567
          ],
          [
           -0.07983744539441658,
           0.20020423492318293,
           0.11380228208959829,
           0.061516173494984956,
           0.1407496347223127,
           1,
           0.09259930259380063,
           0.13067079173572127,
           0.017310035389263876
          ],
          [
           -0.08786698930385056,
           0.20415489264205994,
           0.05861269778798561,
           -0.011584121498526681,
           0.047085185141229044,
           0.09259930259380063,
           1,
           0.26451602230731247,
           0.10616414899257064
          ],
          [
           -0.16453744880950444,
           0.23597907627439046,
           -0.1612299737023028,
           -0.2701457647089769,
           0.022263136668822524,
           0.13067079173572127,
           0.26451602230731247,
           1,
           0.13744228388148974
          ],
          [
           -0.23666822569793555,
           -0.012420565123083812,
           -0.28001272467296734,
           -0.30604809520831305,
           -0.14982507139819567,
           0.017310035389263876,
           0.10616414899257064,
           0.13744228388148974,
           1
          ]
         ]
        }
       ],
       "layout": {
        "coloraxis": {
         "colorscale": [
          [
           0,
           "#0d0887"
          ],
          [
           0.1111111111111111,
           "#46039f"
          ],
          [
           0.2222222222222222,
           "#7201a8"
          ],
          [
           0.3333333333333333,
           "#9c179e"
          ],
          [
           0.4444444444444444,
           "#bd3786"
          ],
          [
           0.5555555555555556,
           "#d8576b"
          ],
          [
           0.6666666666666666,
           "#ed7953"
          ],
          [
           0.7777777777777778,
           "#fb9f3a"
          ],
          [
           0.8888888888888888,
           "#fdca26"
          ],
          [
           1,
           "#f0f921"
          ]
         ]
        },
        "template": {
         "data": {
          "bar": [
           {
            "error_x": {
             "color": "#2a3f5f"
            },
            "error_y": {
             "color": "#2a3f5f"
            },
            "marker": {
             "line": {
              "color": "#E5ECF6",
              "width": 0.5
             },
             "pattern": {
              "fillmode": "overlay",
              "size": 10,
              "solidity": 0.2
             }
            },
            "type": "bar"
           }
          ],
          "barpolar": [
           {
            "marker": {
             "line": {
              "color": "#E5ECF6",
              "width": 0.5
             },
             "pattern": {
              "fillmode": "overlay",
              "size": 10,
              "solidity": 0.2
             }
            },
            "type": "barpolar"
           }
          ],
          "carpet": [
           {
            "aaxis": {
             "endlinecolor": "#2a3f5f",
             "gridcolor": "white",
             "linecolor": "white",
             "minorgridcolor": "white",
             "startlinecolor": "#2a3f5f"
            },
            "baxis": {
             "endlinecolor": "#2a3f5f",
             "gridcolor": "white",
             "linecolor": "white",
             "minorgridcolor": "white",
             "startlinecolor": "#2a3f5f"
            },
            "type": "carpet"
           }
          ],
          "choropleth": [
           {
            "colorbar": {
             "outlinewidth": 0,
             "ticks": ""
            },
            "type": "choropleth"
           }
          ],
          "contour": [
           {
            "colorbar": {
             "outlinewidth": 0,
             "ticks": ""
            },
            "colorscale": [
             [
              0,
              "#0d0887"
             ],
             [
              0.1111111111111111,
              "#46039f"
             ],
             [
              0.2222222222222222,
              "#7201a8"
             ],
             [
              0.3333333333333333,
              "#9c179e"
             ],
             [
              0.4444444444444444,
              "#bd3786"
             ],
             [
              0.5555555555555556,
              "#d8576b"
             ],
             [
              0.6666666666666666,
              "#ed7953"
             ],
             [
              0.7777777777777778,
              "#fb9f3a"
             ],
             [
              0.8888888888888888,
              "#fdca26"
             ],
             [
              1,
              "#f0f921"
             ]
            ],
            "type": "contour"
           }
          ],
          "contourcarpet": [
           {
            "colorbar": {
             "outlinewidth": 0,
             "ticks": ""
            },
            "type": "contourcarpet"
           }
          ],
          "heatmap": [
           {
            "colorbar": {
             "outlinewidth": 0,
             "ticks": ""
            },
            "colorscale": [
             [
              0,
              "#0d0887"
             ],
             [
              0.1111111111111111,
              "#46039f"
             ],
             [
              0.2222222222222222,
              "#7201a8"
             ],
             [
              0.3333333333333333,
              "#9c179e"
             ],
             [
              0.4444444444444444,
              "#bd3786"
             ],
             [
              0.5555555555555556,
              "#d8576b"
             ],
             [
              0.6666666666666666,
              "#ed7953"
             ],
             [
              0.7777777777777778,
              "#fb9f3a"
             ],
             [
              0.8888888888888888,
              "#fdca26"
             ],
             [
              1,
              "#f0f921"
             ]
            ],
            "type": "heatmap"
           }
          ],
          "heatmapgl": [
           {
            "colorbar": {
             "outlinewidth": 0,
             "ticks": ""
            },
            "colorscale": [
             [
              0,
              "#0d0887"
             ],
             [
              0.1111111111111111,
              "#46039f"
             ],
             [
              0.2222222222222222,
              "#7201a8"
             ],
             [
              0.3333333333333333,
              "#9c179e"
             ],
             [
              0.4444444444444444,
              "#bd3786"
             ],
             [
              0.5555555555555556,
              "#d8576b"
             ],
             [
              0.6666666666666666,
              "#ed7953"
             ],
             [
              0.7777777777777778,
              "#fb9f3a"
             ],
             [
              0.8888888888888888,
              "#fdca26"
             ],
             [
              1,
              "#f0f921"
             ]
            ],
            "type": "heatmapgl"
           }
          ],
          "histogram": [
           {
            "marker": {
             "pattern": {
              "fillmode": "overlay",
              "size": 10,
              "solidity": 0.2
             }
            },
            "type": "histogram"
           }
          ],
          "histogram2d": [
           {
            "colorbar": {
             "outlinewidth": 0,
             "ticks": ""
            },
            "colorscale": [
             [
              0,
              "#0d0887"
             ],
             [
              0.1111111111111111,
              "#46039f"
             ],
             [
              0.2222222222222222,
              "#7201a8"
             ],
             [
              0.3333333333333333,
              "#9c179e"
             ],
             [
              0.4444444444444444,
              "#bd3786"
             ],
             [
              0.5555555555555556,
              "#d8576b"
             ],
             [
              0.6666666666666666,
              "#ed7953"
             ],
             [
              0.7777777777777778,
              "#fb9f3a"
             ],
             [
              0.8888888888888888,
              "#fdca26"
             ],
             [
              1,
              "#f0f921"
             ]
            ],
            "type": "histogram2d"
           }
          ],
          "histogram2dcontour": [
           {
            "colorbar": {
             "outlinewidth": 0,
             "ticks": ""
            },
            "colorscale": [
             [
              0,
              "#0d0887"
             ],
             [
              0.1111111111111111,
              "#46039f"
             ],
             [
              0.2222222222222222,
              "#7201a8"
             ],
             [
              0.3333333333333333,
              "#9c179e"
             ],
             [
              0.4444444444444444,
              "#bd3786"
             ],
             [
              0.5555555555555556,
              "#d8576b"
             ],
             [
              0.6666666666666666,
              "#ed7953"
             ],
             [
              0.7777777777777778,
              "#fb9f3a"
             ],
             [
              0.8888888888888888,
              "#fdca26"
             ],
             [
              1,
              "#f0f921"
             ]
            ],
            "type": "histogram2dcontour"
           }
          ],
          "mesh3d": [
           {
            "colorbar": {
             "outlinewidth": 0,
             "ticks": ""
            },
            "type": "mesh3d"
           }
          ],
          "parcoords": [
           {
            "line": {
             "colorbar": {
              "outlinewidth": 0,
              "ticks": ""
             }
            },
            "type": "parcoords"
           }
          ],
          "pie": [
           {
            "automargin": true,
            "type": "pie"
           }
          ],
          "scatter": [
           {
            "marker": {
             "colorbar": {
              "outlinewidth": 0,
              "ticks": ""
             }
            },
            "type": "scatter"
           }
          ],
          "scatter3d": [
           {
            "line": {
             "colorbar": {
              "outlinewidth": 0,
              "ticks": ""
             }
            },
            "marker": {
             "colorbar": {
              "outlinewidth": 0,
              "ticks": ""
             }
            },
            "type": "scatter3d"
           }
          ],
          "scattercarpet": [
           {
            "marker": {
             "colorbar": {
              "outlinewidth": 0,
              "ticks": ""
             }
            },
            "type": "scattercarpet"
           }
          ],
          "scattergeo": [
           {
            "marker": {
             "colorbar": {
              "outlinewidth": 0,
              "ticks": ""
             }
            },
            "type": "scattergeo"
           }
          ],
          "scattergl": [
           {
            "marker": {
             "colorbar": {
              "outlinewidth": 0,
              "ticks": ""
             }
            },
            "type": "scattergl"
           }
          ],
          "scattermapbox": [
           {
            "marker": {
             "colorbar": {
              "outlinewidth": 0,
              "ticks": ""
             }
            },
            "type": "scattermapbox"
           }
          ],
          "scatterpolar": [
           {
            "marker": {
             "colorbar": {
              "outlinewidth": 0,
              "ticks": ""
             }
            },
            "type": "scatterpolar"
           }
          ],
          "scatterpolargl": [
           {
            "marker": {
             "colorbar": {
              "outlinewidth": 0,
              "ticks": ""
             }
            },
            "type": "scatterpolargl"
           }
          ],
          "scatterternary": [
           {
            "marker": {
             "colorbar": {
              "outlinewidth": 0,
              "ticks": ""
             }
            },
            "type": "scatterternary"
           }
          ],
          "surface": [
           {
            "colorbar": {
             "outlinewidth": 0,
             "ticks": ""
            },
            "colorscale": [
             [
              0,
              "#0d0887"
             ],
             [
              0.1111111111111111,
              "#46039f"
             ],
             [
              0.2222222222222222,
              "#7201a8"
             ],
             [
              0.3333333333333333,
              "#9c179e"
             ],
             [
              0.4444444444444444,
              "#bd3786"
             ],
             [
              0.5555555555555556,
              "#d8576b"
             ],
             [
              0.6666666666666666,
              "#ed7953"
             ],
             [
              0.7777777777777778,
              "#fb9f3a"
             ],
             [
              0.8888888888888888,
              "#fdca26"
             ],
             [
              1,
              "#f0f921"
             ]
            ],
            "type": "surface"
           }
          ],
          "table": [
           {
            "cells": {
             "fill": {
              "color": "#EBF0F8"
             },
             "line": {
              "color": "white"
             }
            },
            "header": {
             "fill": {
              "color": "#C8D4E3"
             },
             "line": {
              "color": "white"
             }
            },
            "type": "table"
           }
          ]
         },
         "layout": {
          "annotationdefaults": {
           "arrowcolor": "#2a3f5f",
           "arrowhead": 0,
           "arrowwidth": 1
          },
          "autotypenumbers": "strict",
          "coloraxis": {
           "colorbar": {
            "outlinewidth": 0,
            "ticks": ""
           }
          },
          "colorscale": {
           "diverging": [
            [
             0,
             "#8e0152"
            ],
            [
             0.1,
             "#c51b7d"
            ],
            [
             0.2,
             "#de77ae"
            ],
            [
             0.3,
             "#f1b6da"
            ],
            [
             0.4,
             "#fde0ef"
            ],
            [
             0.5,
             "#f7f7f7"
            ],
            [
             0.6,
             "#e6f5d0"
            ],
            [
             0.7,
             "#b8e186"
            ],
            [
             0.8,
             "#7fbc41"
            ],
            [
             0.9,
             "#4d9221"
            ],
            [
             1,
             "#276419"
            ]
           ],
           "sequential": [
            [
             0,
             "#0d0887"
            ],
            [
             0.1111111111111111,
             "#46039f"
            ],
            [
             0.2222222222222222,
             "#7201a8"
            ],
            [
             0.3333333333333333,
             "#9c179e"
            ],
            [
             0.4444444444444444,
             "#bd3786"
            ],
            [
             0.5555555555555556,
             "#d8576b"
            ],
            [
             0.6666666666666666,
             "#ed7953"
            ],
            [
             0.7777777777777778,
             "#fb9f3a"
            ],
            [
             0.8888888888888888,
             "#fdca26"
            ],
            [
             1,
             "#f0f921"
            ]
           ],
           "sequentialminus": [
            [
             0,
             "#0d0887"
            ],
            [
             0.1111111111111111,
             "#46039f"
            ],
            [
             0.2222222222222222,
             "#7201a8"
            ],
            [
             0.3333333333333333,
             "#9c179e"
            ],
            [
             0.4444444444444444,
             "#bd3786"
            ],
            [
             0.5555555555555556,
             "#d8576b"
            ],
            [
             0.6666666666666666,
             "#ed7953"
            ],
            [
             0.7777777777777778,
             "#fb9f3a"
            ],
            [
             0.8888888888888888,
             "#fdca26"
            ],
            [
             1,
             "#f0f921"
            ]
           ]
          },
          "colorway": [
           "#636efa",
           "#EF553B",
           "#00cc96",
           "#ab63fa",
           "#FFA15A",
           "#19d3f3",
           "#FF6692",
           "#B6E880",
           "#FF97FF",
           "#FECB52"
          ],
          "font": {
           "color": "#2a3f5f"
          },
          "geo": {
           "bgcolor": "white",
           "lakecolor": "white",
           "landcolor": "#E5ECF6",
           "showlakes": true,
           "showland": true,
           "subunitcolor": "white"
          },
          "hoverlabel": {
           "align": "left"
          },
          "hovermode": "closest",
          "mapbox": {
           "style": "light"
          },
          "paper_bgcolor": "white",
          "plot_bgcolor": "#E5ECF6",
          "polar": {
           "angularaxis": {
            "gridcolor": "white",
            "linecolor": "white",
            "ticks": ""
           },
           "bgcolor": "#E5ECF6",
           "radialaxis": {
            "gridcolor": "white",
            "linecolor": "white",
            "ticks": ""
           }
          },
          "scene": {
           "xaxis": {
            "backgroundcolor": "#E5ECF6",
            "gridcolor": "white",
            "gridwidth": 2,
            "linecolor": "white",
            "showbackground": true,
            "ticks": "",
            "zerolinecolor": "white"
           },
           "yaxis": {
            "backgroundcolor": "#E5ECF6",
            "gridcolor": "white",
            "gridwidth": 2,
            "linecolor": "white",
            "showbackground": true,
            "ticks": "",
            "zerolinecolor": "white"
           },
           "zaxis": {
            "backgroundcolor": "#E5ECF6",
            "gridcolor": "white",
            "gridwidth": 2,
            "linecolor": "white",
            "showbackground": true,
            "ticks": "",
            "zerolinecolor": "white"
           }
          },
          "shapedefaults": {
           "line": {
            "color": "#2a3f5f"
           }
          },
          "ternary": {
           "aaxis": {
            "gridcolor": "white",
            "linecolor": "white",
            "ticks": ""
           },
           "baxis": {
            "gridcolor": "white",
            "linecolor": "white",
            "ticks": ""
           },
           "bgcolor": "#E5ECF6",
           "caxis": {
            "gridcolor": "white",
            "linecolor": "white",
            "ticks": ""
           }
          },
          "title": {
           "x": 0.05
          },
          "xaxis": {
           "automargin": true,
           "gridcolor": "white",
           "linecolor": "white",
           "ticks": "",
           "title": {
            "standoff": 15
           },
           "zerolinecolor": "white",
           "zerolinewidth": 2
          },
          "yaxis": {
           "automargin": true,
           "gridcolor": "white",
           "linecolor": "white",
           "ticks": "",
           "title": {
            "standoff": 15
           },
           "zerolinecolor": "white",
           "zerolinewidth": 2
          }
         }
        },
        "title": {
         "text": "Correlation Plot of the obesity Prediction"
        },
        "xaxis": {
         "anchor": "y",
         "constrain": "domain",
         "domain": [
          0,
          1
         ],
         "scaleanchor": "y"
        },
        "yaxis": {
         "anchor": "x",
         "autorange": "reversed",
         "constrain": "domain",
         "domain": [
          0,
          1
         ]
        }
       }
      }
     },
     "metadata": {},
     "output_type": "display_data"
    }
   ],
   "source": [
    "# we are using a heat map to check for correlation between Obesity and other variables\n",
    "fig = px.imshow(corr_matrix, title=\"Correlation Plot of the obesity Prediction\")\n",
    "\n",
    "fig.show()"
   ]
  },
  {
   "cell_type": "markdown",
   "id": "942b5dd5",
   "metadata": {
    "id": "942b5dd5"
   },
   "source": [
    "## Data Preprocessing\n",
    "Handling categorical variables"
   ]
  },
  {
   "cell_type": "markdown",
   "id": "e9be18e0",
   "metadata": {
    "id": "e9be18e0"
   },
   "source": [
    "### Feature Label details from the NObeyesdad column\n",
    "\n",
    "1. Obesity_Type_I: This represents a moderate level of obesity. Individuals in this category have a higher body mass index (BMI) and an increased amount of body fat compared to normal weight individuals. Health risks associated with obesity, such as cardiovascular issues and diabetes, may be elevated but might not be as severe as in higher obesity categories. BMI range of 30-34.9\n",
    "\n",
    "2. Obesity_Type_II: This signifies a more severe stage of obesity. Individuals with Obesity Type II have a significantly higher BMI, which can contribute to a greater risk of various health problems. Conditions like heart disease, diabetes, and joint issues become more pronounced in this stage.\n",
    "BMI range of 35 -39.9\n",
    "\n",
    "3. Obesity_Type_III: Also known as morbid obesity, this is the most severe stage. Individuals in this category are at a very high risk of serious health complications, including life-threatening conditions. Morbid obesity can impact daily life and may require more aggressive interventions, such as surgical procedures, to manage weight.\n",
    "BMI range of 40 or higher\n",
    "\n",
    "4. Overweight_Level_II: This is a higher level of overweight. While not classified as obesity, individuals in this category have a BMI indicating a significant amount of excess weight, which can still contribute to health concerns. Lifestyle changes and interventions may be recommended to prevent progression to obesity.\n",
    "BMI range of 27- 29.9\n",
    "\n",
    "5. Normal_Weight: Individuals in this category have a BMI within a healthy range. Maintaining a normal weight is associated with a lower risk of various health issues, and it reflects a balance between calorie intake and expenditure.\n",
    "BMI range of 18.5 - 29.9\n",
    "\n",
    "6. Overweight_Level_I: This is a lower level of overweight. While not as severe as Level II, it still indicates an excess of body weight. Lifestyle modifications, including dietary changes and increased physical activity, are typically recommended to address this.\n",
    "BMI range of 25- 26.9\n",
    "\n",
    "7. Insufficient_Weight: This category suggests that individuals have a BMI below the healthy weight range. It might indicate undernutrition, malnutrition, or other health issues. Insufficient weight can lead to various health complications, including weakened immune function and a higher risk of fractures.\n",
    "BMI range below 18.5"
   ]
  },
  {
   "cell_type": "markdown",
   "id": "4687829e",
   "metadata": {
    "id": "4687829e"
   },
   "source": [
    "### Label Encoding would be used for categorical variables for the Decision Tree algorithm to predict cases of Obesity.  \n",
    "Label encoding works with decision trees because this algorithm is capable of handling categorical variables in their\n",
    "numeric form.\n",
    "Decision trees split the data based on feature values to make decisions.\n",
    "They are not influenced by the magnitude of the numeric values but rather by their relative order.\n",
    "Label encoding assigns integer values to categorical variables in a way that preserves their order,\n",
    "which can be beneficial for decision tree-based algorithms.\n"
   ]
  },
  {
   "cell_type": "code",
   "execution_count": 155,
   "id": "57101768",
   "metadata": {
    "id": "57101768"
   },
   "outputs": [],
   "source": [
    "from sklearn import preprocessing\n",
    "from sklearn.preprocessing import LabelEncoder"
   ]
  },
  {
   "cell_type": "code",
   "execution_count": 156,
   "id": "65b1697e",
   "metadata": {
    "id": "65b1697e"
   },
   "outputs": [
    {
     "name": "stdout",
     "output_type": "stream",
     "text": [
      "The distribution of categorical values in the Gender is : \n",
      "Male      1052\n",
      "Female    1035\n",
      "Name: Gender, dtype: Int64\n",
      "The distribution of categorical values in the Family_history_with_overweight is : \n",
      "yes    1722\n",
      "no      365\n",
      "Name: Family_history_with_overweight, dtype: Int64\n",
      "The distribution of categorical values in the FAVC is : \n",
      "yes    1844\n",
      "no      243\n",
      "Name: FAVC, dtype: Int64\n",
      "The distribution of categorical values in the CAEC is : \n",
      "Sometimes     1761\n",
      "Frequently     236\n",
      "Always          53\n",
      "no              37\n",
      "Name: CAEC, dtype: Int64\n",
      "The distribution of categorical values in the SMOKE is : \n",
      "no     2043\n",
      "yes      44\n",
      "Name: SMOKE, dtype: Int64\n",
      "The distribution of categorical values in the SCC is : \n",
      "no     1991\n",
      "yes      96\n",
      "Name: SCC, dtype: Int64\n",
      "The distribution of categorical values in the CALC is : \n",
      "Sometimes     1380\n",
      "no             636\n",
      "Frequently      70\n",
      "Always           1\n",
      "Name: CALC, dtype: Int64\n",
      "The distribution of categorical values in the MTRANS is : \n",
      "Public_Transportation    1558\n",
      "Automobile                456\n",
      "Walking                    55\n",
      "Motorbike                  11\n",
      "Bike                        7\n",
      "Name: MTRANS, dtype: Int64\n",
      "The distribution of categorical values in the NObeyesdad is : \n",
      "Obesity_Type_I         351\n",
      "Obesity_Type_III       324\n",
      "Obesity_Type_II        297\n",
      "Overweight_Level_II    290\n",
      "Normal_Weight          282\n",
      "Overweight_Level_I     276\n",
      "Insufficient_Weight    267\n",
      "Name: NObeyesdad, dtype: Int64\n"
     ]
    }
   ],
   "source": [
    "# values count for string columns to be encoded\n",
    "\n",
    "obesity[string_col].head()\n",
    "for col in string_col:\n",
    "    print(f\"The distribution of categorical values in the {col} is : \")\n",
    "    print(obesity[col].value_counts())"
   ]
  },
  {
   "cell_type": "code",
   "execution_count": 157,
   "id": "2fb35115",
   "metadata": {},
   "outputs": [],
   "source": [
    "# for col in string_col:\n",
    "#     print(f\"The distribution of categorical values in the {col} column is:\")\n",
    "#     print(obesity[col].value_counts())"
   ]
  },
  {
   "cell_type": "code",
   "execution_count": 158,
   "id": "e7de024c",
   "metadata": {
    "id": "e7de024c",
    "outputId": "55faf6a4-1f95-45cb-d598-21c50deaa4b0",
    "scrolled": true
   },
   "outputs": [
    {
     "data": {
      "text/html": [
       "<div>\n",
       "<style scoped>\n",
       "    .dataframe tbody tr th:only-of-type {\n",
       "        vertical-align: middle;\n",
       "    }\n",
       "\n",
       "    .dataframe tbody tr th {\n",
       "        vertical-align: top;\n",
       "    }\n",
       "\n",
       "    .dataframe thead th {\n",
       "        text-align: right;\n",
       "    }\n",
       "</style>\n",
       "<table border=\"1\" class=\"dataframe\">\n",
       "  <thead>\n",
       "    <tr style=\"text-align: right;\">\n",
       "      <th></th>\n",
       "      <th>Gender</th>\n",
       "      <th>Age</th>\n",
       "      <th>Height</th>\n",
       "      <th>Weight</th>\n",
       "      <th>BMI</th>\n",
       "      <th>Family_history_with_overweight</th>\n",
       "      <th>FAVC</th>\n",
       "      <th>FCVC</th>\n",
       "      <th>NCP</th>\n",
       "      <th>CAEC</th>\n",
       "      <th>SMOKE</th>\n",
       "      <th>CH2O</th>\n",
       "      <th>SCC</th>\n",
       "      <th>FAF</th>\n",
       "      <th>TUE</th>\n",
       "      <th>CALC</th>\n",
       "      <th>MTRANS</th>\n",
       "      <th>NObeyesdad</th>\n",
       "    </tr>\n",
       "  </thead>\n",
       "  <tbody>\n",
       "    <tr>\n",
       "      <th>0</th>\n",
       "      <td>0</td>\n",
       "      <td>7</td>\n",
       "      <td>295</td>\n",
       "      <td>245</td>\n",
       "      <td>453</td>\n",
       "      <td>1</td>\n",
       "      <td>0</td>\n",
       "      <td>1</td>\n",
       "      <td>2</td>\n",
       "      <td>2</td>\n",
       "      <td>0</td>\n",
       "      <td>1</td>\n",
       "      <td>0</td>\n",
       "      <td>0</td>\n",
       "      <td>1</td>\n",
       "      <td>3</td>\n",
       "      <td>3</td>\n",
       "      <td>1</td>\n",
       "    </tr>\n",
       "    <tr>\n",
       "      <th>1</th>\n",
       "      <td>0</td>\n",
       "      <td>7</td>\n",
       "      <td>28</td>\n",
       "      <td>173</td>\n",
       "      <td>441</td>\n",
       "      <td>1</td>\n",
       "      <td>0</td>\n",
       "      <td>2</td>\n",
       "      <td>2</td>\n",
       "      <td>2</td>\n",
       "      <td>1</td>\n",
       "      <td>2</td>\n",
       "      <td>1</td>\n",
       "      <td>3</td>\n",
       "      <td>0</td>\n",
       "      <td>2</td>\n",
       "      <td>3</td>\n",
       "      <td>1</td>\n",
       "    </tr>\n",
       "    <tr>\n",
       "      <th>2</th>\n",
       "      <td>1</td>\n",
       "      <td>9</td>\n",
       "      <td>1306</td>\n",
       "      <td>382</td>\n",
       "      <td>419</td>\n",
       "      <td>1</td>\n",
       "      <td>0</td>\n",
       "      <td>1</td>\n",
       "      <td>2</td>\n",
       "      <td>2</td>\n",
       "      <td>0</td>\n",
       "      <td>1</td>\n",
       "      <td>0</td>\n",
       "      <td>2</td>\n",
       "      <td>1</td>\n",
       "      <td>1</td>\n",
       "      <td>3</td>\n",
       "      <td>1</td>\n",
       "    </tr>\n",
       "    <tr>\n",
       "      <th>3</th>\n",
       "      <td>1</td>\n",
       "      <td>13</td>\n",
       "      <td>1306</td>\n",
       "      <td>643</td>\n",
       "      <td>723</td>\n",
       "      <td>0</td>\n",
       "      <td>0</td>\n",
       "      <td>2</td>\n",
       "      <td>2</td>\n",
       "      <td>2</td>\n",
       "      <td>0</td>\n",
       "      <td>1</td>\n",
       "      <td>0</td>\n",
       "      <td>2</td>\n",
       "      <td>0</td>\n",
       "      <td>1</td>\n",
       "      <td>4</td>\n",
       "      <td>5</td>\n",
       "    </tr>\n",
       "    <tr>\n",
       "      <th>4</th>\n",
       "      <td>1</td>\n",
       "      <td>8</td>\n",
       "      <td>1202</td>\n",
       "      <td>692</td>\n",
       "      <td>889</td>\n",
       "      <td>0</td>\n",
       "      <td>0</td>\n",
       "      <td>1</td>\n",
       "      <td>0</td>\n",
       "      <td>2</td>\n",
       "      <td>0</td>\n",
       "      <td>1</td>\n",
       "      <td>0</td>\n",
       "      <td>0</td>\n",
       "      <td>0</td>\n",
       "      <td>2</td>\n",
       "      <td>3</td>\n",
       "      <td>6</td>\n",
       "    </tr>\n",
       "  </tbody>\n",
       "</table>\n",
       "</div>"
      ],
      "text/plain": [
       "   Gender  Age  Height  Weight  BMI  Family_history_with_overweight  FAVC  \\\n",
       "0       0    7     295     245  453                               1     0   \n",
       "1       0    7      28     173  441                               1     0   \n",
       "2       1    9    1306     382  419                               1     0   \n",
       "3       1   13    1306     643  723                               0     0   \n",
       "4       1    8    1202     692  889                               0     0   \n",
       "\n",
       "   FCVC  NCP  CAEC  SMOKE  CH2O  SCC  FAF  TUE  CALC  MTRANS  NObeyesdad  \n",
       "0     1    2     2      0     1    0    0    1     3       3           1  \n",
       "1     2    2     2      1     2    1    3    0     2       3           1  \n",
       "2     1    2     2      0     1    0    2    1     1       3           1  \n",
       "3     2    2     2      0     1    0    2    0     1       4           5  \n",
       "4     1    0     2      0     1    0    0    0     2       3           6  "
      ]
     },
     "execution_count": 158,
     "metadata": {},
     "output_type": "execute_result"
    }
   ],
   "source": [
    "#label encoding for decision tree\n",
    "df_tree = obesity.apply(LabelEncoder().fit_transform)\n",
    "df_tree.head()"
   ]
  },
  {
   "cell_type": "markdown",
   "id": "2fff4844",
   "metadata": {},
   "source": [
    "\n",
    "When using a LabelEncoder for preprocessing, it's typically fit only to the categorical columns, not the entire dataset, which includes both numerical and categorical columns.\n",
    "\n",
    "LabelEncoder is used to convert categorical labels into numerical labels, which are required by many machine learning algorithms, including decision trees. Numerical columns generally don't need such transformation because they already contain numerical values.\n",
    "\n",
    "Here's how you would typically use LabelEncoder:\n",
    "\n",
    "    Identify categorical columns in your dataset.\n",
    "    Apply LabelEncoder to each of these categorical columns individually.\n",
    "    \n",
    "If you fit the LabelEncoder to the entire dataset, including numerical columns, you might encounter unexpected behavior or errors, as LabelEncoder is not designed to handle numerical data."
   ]
  },
  {
   "cell_type": "code",
   "execution_count": 159,
   "id": "b6fb7e5b",
   "metadata": {},
   "outputs": [],
   "source": [
    "# # identify categorical columns\n",
    "# categorical_cols = obesity.select_dtypes(include=[\"string\"]).columns.to_list()"
   ]
  },
  {
   "cell_type": "code",
   "execution_count": 160,
   "id": "88b53b7d",
   "metadata": {},
   "outputs": [],
   "source": [
    "# # apply LabelEncoder only to categorical columns\n",
    "# label_encoders = {}\n",
    "# for col in categorical_cols:\n",
    "#     label_encoders[col] = LabelEncoder()\n",
    "#     obesity[col] = label_encoders[col].fit_transform(obesity[col])"
   ]
  },
  {
   "cell_type": "code",
   "execution_count": 161,
   "id": "97dee728",
   "metadata": {},
   "outputs": [],
   "source": [
    "# # display the distribution of categorical values after encoding\n",
    "# for col in categorical_cols:\n",
    "#     print(f\"The distribution of categorical values in the {col} is : \")\n",
    "#     print(obesity[col].value_counts())"
   ]
  },
  {
   "cell_type": "markdown",
   "id": "9dd3d7e6",
   "metadata": {
    "id": "9dd3d7e6"
   },
   "source": [
    "### Using Decission tree Classifier"
   ]
  },
  {
   "cell_type": "markdown",
   "id": "532e1df4",
   "metadata": {
    "id": "532e1df4"
   },
   "source": [
    "A decision tree is a supervised learning algorithm that is perfect for classification problems, as it’s able to order classes on a precise level. It works like a flow chart, separating data points into two similar categories at a time from the “tree trunk” to “branches,” to “leaves,” where the categories become more finitely similar. This creates categories within categories, allowing for organic classification with limited human supervision.\n",
    "\n",
    "\n",
    "###### encoding in decision tree classifier\n",
    "\n",
    "You can apply encoding directly to the entire DataFrame, including both categorical and numerical columns. This can be done using techniques like LabelEncoder or one-hot encoding (get_dummies).\n",
    "\n",
    "You don't necessarily need to separate categorical variables from numerical variables before encoding. Decision trees are capable of handling mixed data types (both categorical and numerical) directly.\n",
    "\n",
    "###### Decision Tree Sensitivity\n",
    "Decision trees are generally robust to the scale of features and the specific encoding of categorical variables. Since decision trees split features based on information gain or Gini impurity, the ordering of the encoded categories usually doesn't affect their performance significantly."
   ]
  },
  {
   "cell_type": "code",
   "execution_count": 162,
   "id": "24a8b3db",
   "metadata": {
    "id": "24a8b3db"
   },
   "outputs": [],
   "source": [
    "# defining the target column\n",
    "target=\"NObeyesdad\"\n",
    "y=df_tree[target].values"
   ]
  },
  {
   "cell_type": "code",
   "execution_count": 163,
   "id": "34b44d8a",
   "metadata": {},
   "outputs": [],
   "source": [
    "# y"
   ]
  },
  {
   "cell_type": "code",
   "execution_count": 164,
   "id": "f408ecb0",
   "metadata": {
    "id": "f408ecb0"
   },
   "outputs": [],
   "source": [
    "feature_col_tree=df_tree.columns.to_list()\n",
    "feature_col_tree.remove(target)"
   ]
  },
  {
   "cell_type": "code",
   "execution_count": 165,
   "id": "961845a3",
   "metadata": {
    "id": "961845a3",
    "outputId": "b98d89bd-bee2-495c-a885-d57bfcffa015"
   },
   "outputs": [
    {
     "name": "stdout",
     "output_type": "stream",
     "text": [
      "The fold is : 0 : \n",
      "              precision    recall  f1-score   support\n",
      "\n",
      "           0       0.98      0.98      0.98        54\n",
      "           1       0.98      0.93      0.95        57\n",
      "           2       0.97      0.83      0.89        70\n",
      "           3       0.97      0.95      0.96        59\n",
      "           4       0.97      0.98      0.98        65\n",
      "           5       0.68      0.73      0.70        55\n",
      "           6       0.61      0.71      0.66        58\n",
      "\n",
      "    accuracy                           0.87       418\n",
      "   macro avg       0.88      0.87      0.87       418\n",
      "weighted avg       0.88      0.87      0.88       418\n",
      "\n",
      "The accuracy for 1 : 0.9257678315797419\n",
      "The fold is : 1 : \n",
      "              precision    recall  f1-score   support\n",
      "\n",
      "           0       1.00      0.92      0.96        53\n",
      "           1       0.89      1.00      0.94        57\n",
      "           2       0.99      0.97      0.98        70\n",
      "           3       0.98      0.98      0.98        60\n",
      "           4       1.00      1.00      1.00        65\n",
      "           5       0.96      0.91      0.93        55\n",
      "           6       0.95      0.97      0.96        58\n",
      "\n",
      "    accuracy                           0.97       418\n",
      "   macro avg       0.97      0.96      0.97       418\n",
      "weighted avg       0.97      0.97      0.97       418\n",
      "\n",
      "The accuracy for 2 : 0.9796427100633627\n",
      "The fold is : 2 : \n",
      "              precision    recall  f1-score   support\n",
      "\n",
      "           0       0.96      1.00      0.98        53\n",
      "           1       0.98      0.88      0.92        56\n",
      "           2       1.00      0.97      0.99        70\n",
      "           3       0.97      1.00      0.98        60\n",
      "           4       1.00      1.00      1.00        64\n",
      "           5       0.90      0.96      0.93        56\n",
      "           6       0.98      0.98      0.98        58\n",
      "\n",
      "    accuracy                           0.97       417\n",
      "   macro avg       0.97      0.97      0.97       417\n",
      "weighted avg       0.97      0.97      0.97       417\n",
      "\n",
      "The accuracy for 3 : 0.9828714330696638\n",
      "The fold is : 3 : \n",
      "              precision    recall  f1-score   support\n",
      "\n",
      "           0       0.98      1.00      0.99        53\n",
      "           1       0.98      0.96      0.97        56\n",
      "           2       0.97      0.99      0.98        71\n",
      "           3       1.00      0.98      0.99        59\n",
      "           4       1.00      1.00      1.00        65\n",
      "           5       0.96      0.98      0.97        55\n",
      "           6       0.98      0.97      0.97        58\n",
      "\n",
      "    accuracy                           0.98       417\n",
      "   macro avg       0.98      0.98      0.98       417\n",
      "weighted avg       0.98      0.98      0.98       417\n",
      "\n",
      "The accuracy for 4 : 0.9900699584306599\n",
      "The fold is : 4 : \n",
      "              precision    recall  f1-score   support\n",
      "\n",
      "           0       0.96      1.00      0.98        54\n",
      "           1       0.98      0.96      0.97        56\n",
      "           2       1.00      1.00      1.00        70\n",
      "           3       1.00      1.00      1.00        59\n",
      "           4       1.00      1.00      1.00        65\n",
      "           5       1.00      0.96      0.98        55\n",
      "           6       0.98      1.00      0.99        58\n",
      "\n",
      "    accuracy                           0.99       417\n",
      "   macro avg       0.99      0.99      0.99       417\n",
      "weighted avg       0.99      0.99      0.99       417\n",
      "\n",
      "The accuracy for 5 : 0.9940612026875694\n"
     ]
    }
   ],
   "source": [
    "# importing the necessary libraries for building a decision tree classifier\n",
    "\n",
    "from sklearn.tree import DecisionTreeClassifier # This is the classifier used for our machine learning model\n",
    "from sklearn.model_selection import StratifiedKFold # This is used for cross-validation\n",
    "# This function generates a report of various classification metrics\n",
    "from sklearn.metrics import classification_report, roc_auc_score\n",
    "# This function converts categorical labels into a binary representation.\n",
    "from sklearn.preprocessing import label_binarize\n",
    "\n",
    "\n",
    "\n",
    "# acc_Dtree stores the ROC AUC scores for each fold\n",
    "# The StratifiedKFold object with 5 splits for cross-validation\n",
    "acc_Dtree=[]\n",
    "kf=StratifiedKFold(n_splits=5)\n",
    "\n",
    "\n",
    "# each fold is iterated over to keep track of the fold number\n",
    "# kf.split(X=df_tree,y=y) generates indices for training and validation sets for each fold\n",
    "for fold , (train_idx, valid_idx) in enumerate(kf.split(X=df_tree,y=y)):\n",
    "    X_train=df_tree.iloc[train_idx][feature_col_tree]\n",
    "    y_train=df_tree.iloc[train_idx][target]\n",
    "\n",
    "    X_valid=df_tree.iloc[valid_idx][feature_col_tree]\n",
    "    y_valid=df_tree.iloc[valid_idx][target]   # the training and validation data is extracted\n",
    "\n",
    "# a decision tree classifier is created,\n",
    "# fit it to the training data, and then make predictions on the validation data\n",
    "\n",
    "    clf=DecisionTreeClassifier(criterion=\"entropy\")\n",
    "    clf.fit(X_train,y_train)\n",
    "    y_pred=clf.predict(X_valid)\n",
    "    print(f\"The fold is : {fold} : \")\n",
    "    print(classification_report(y_valid,y_pred))\n",
    "\n",
    "    y_valid_binarized = label_binarize(y_valid, classes=np.unique(y))\n",
    "    y_pred_binarized = label_binarize(y_pred, classes=np.unique(y))\n",
    "    acc=roc_auc_score(y_valid_binarized, y_pred_binarized, average='macro')\n",
    "    # the score independently for each class and then takes the average\n",
    "\n",
    "    acc_Dtree.append(acc)\n",
    "    print(f\"The accuracy for {fold+1} : {acc}\")\n"
   ]
  },
  {
   "cell_type": "markdown",
   "id": "df702d4a",
   "metadata": {
    "id": "df702d4a"
   },
   "source": [
    "<b>For the block of code above, the ROC AUC (Area Under the Receiver Operating Characteristic curve) score, it is a measure of the model's ability to distinguish between classes.\n",
    "\n",
    "The accuracy for each fold is above 80%."
   ]
  },
  {
   "cell_type": "markdown",
   "id": "56cf1fb3",
   "metadata": {},
   "source": [
    "1. **Cross-Validation**: The provided code uses stratified k-fold cross-validation (`StratifiedKFold`) to split the data into training and validation sets for each fold. This is a technique used to ensure that each fold has a similar distribution of target classes, which can be crucial for imbalanced datasets.\n",
    "\n",
    "2. **Evaluation Metrics**: The code calculates and prints a classification report for each fold, which includes metrics such as precision, recall, and F1-score for each class. Additionally, it computes the ROC AUC score for each fold.\n",
    "\n",
    "3. **Feature Engineering**: The code explicitly defines the feature columns (`feature_col_tree`) and the target column (`target`) before training the decision tree classifier. This allows for more flexibility in selecting features and handling the target variable.\n",
    "\n",
    "4. **Decision Tree Parameters**: The provided code initializes the decision tree classifier with a specific criterion (`criterion=\"entropy\"`), which indicates the information gain criterion for splitting nodes in the decision tree. This criterion is different from the default criterion used in the previous example.\n",
    "\n",
    "5. **ROC AUC Scores**: The code computes the ROC AUC score for each fold and stores it in the list `acc_Dtree`. This allows for evaluating the model's performance across different folds using a single metric.\n",
    "\n",
    "Overall, the provided code  includes additional steps such as cross-validation, evaluation with multiple metrics, and explicit feature/target definition."
   ]
  },
  {
   "cell_type": "code",
   "execution_count": 166,
   "id": "e573de15",
   "metadata": {},
   "outputs": [],
   "source": [
    "# basic model training and evaluation\n",
    "\n",
    "# from sklearn.model_selection import train_test_split\n",
    "# from sklearn.tree import DecisionTreeClassifier\n",
    "# from sklearn.metrics import accuracy_score\n",
    "\n",
    "# # Separate features (X) and target variable (y)\n",
    "# X = df_encoded.drop(columns=['target_column'])\n",
    "# y = df_encoded['target_column']\n",
    "\n",
    "# # Split the data into training and testing sets\n",
    "# X_train, X_test, y_train, y_test = train_test_split(X, y, test_size=0.2, random_state=42)\n",
    "\n",
    "# # Initialize the decision tree classifier\n",
    "# clf = DecisionTreeClassifier()\n",
    "\n",
    "# # Train the classifier on the training set\n",
    "# clf.fit(X_train, y_train)\n",
    "\n",
    "# # Predict on the testing set\n",
    "# y_pred = clf.predict(X_test)\n",
    "\n",
    "# # Evaluate the model's performance\n",
    "# accuracy = accuracy_score(y_test, y_pred)\n",
    "# print(\"Accuracy:\", accuracy)"
   ]
  },
  {
   "cell_type": "code",
   "execution_count": 167,
   "id": "425e8d00",
   "metadata": {
    "id": "425e8d00",
    "outputId": "a9666d87-9ff3-440b-b43a-8d1c0b49d0d6"
   },
   "outputs": [],
   "source": [
    "# pip install graphviz"
   ]
  },
  {
   "cell_type": "code",
   "execution_count": 168,
   "id": "cf386230",
   "metadata": {
    "id": "cf386230"
   },
   "outputs": [],
   "source": [
    "# import graphviz\n",
    "# from sklearn import tree\n",
    "# # DOT data\n",
    "# dot_data = tree.export_graphviz(clf, out_file=None,\n",
    "#                                 feature_names=feature_col_tree,\n",
    "#                                 class_names=target,\n",
    "#                                 filled=True)\n",
    "\n",
    "# # Draw graph\n",
    "# graph = graphviz.Source(dot_data, format=\"png\")\n",
    "# graph"
   ]
  },
  {
   "cell_type": "markdown",
   "id": "920c02c3",
   "metadata": {},
   "source": [
    "# Model Deployment"
   ]
  },
  {
   "cell_type": "markdown",
   "id": "dc949017",
   "metadata": {},
   "source": [
    "### Testing the model with new data\n",
    "\n",
    "making predictions on new, unseen data using the trained model."
   ]
  },
  {
   "cell_type": "code",
   "execution_count": 172,
   "id": "d5e0cb75",
   "metadata": {},
   "outputs": [],
   "source": [
    "# # defining the target column\n",
    "target=\"NObeyesdad\"\n",
    "y=df_tree[target].values\n",
    "\n",
    "feature_col_tree=df_tree.columns.to_list()\n",
    "feature_col_tree.remove(target)"
   ]
  },
  {
   "cell_type": "code",
   "execution_count": 173,
   "id": "0d2d0058",
   "metadata": {},
   "outputs": [
    {
     "name": "stdout",
     "output_type": "stream",
     "text": [
      "Columns in df_tree: Index(['Gender', 'Age', 'Height', 'Weight', 'BMI',\n",
      "       'Family_history_with_overweight', 'FAVC', 'FCVC', 'NCP', 'CAEC',\n",
      "       'SMOKE', 'CH2O', 'SCC', 'FAF', 'TUE', 'CALC', 'MTRANS', 'NObeyesdad'],\n",
      "      dtype='object')\n"
     ]
    },
    {
     "ename": "ValueError",
     "evalue": "Shape of passed values is (1, 16), indices imply (1, 17)",
     "output_type": "error",
     "traceback": [
      "\u001b[1;31m---------------------------------------------------------------------------\u001b[0m",
      "\u001b[1;31mValueError\u001b[0m                                Traceback (most recent call last)",
      "Input \u001b[1;32mIn [173]\u001b[0m, in \u001b[0;36m<cell line: 15>\u001b[1;34m()\u001b[0m\n\u001b[0;32m     12\u001b[0m \u001b[38;5;28mprint\u001b[39m(\u001b[38;5;124m\"\u001b[39m\u001b[38;5;124mColumns in df_tree:\u001b[39m\u001b[38;5;124m\"\u001b[39m, df_tree\u001b[38;5;241m.\u001b[39mcolumns)\n\u001b[0;32m     14\u001b[0m \u001b[38;5;66;03m# Convert the new data into a DataFrame, ensuring the columns match the features in df_tree (excluding the target column)\u001b[39;00m\n\u001b[1;32m---> 15\u001b[0m new_df \u001b[38;5;241m=\u001b[39m \u001b[43mpd\u001b[49m\u001b[38;5;241;43m.\u001b[39;49m\u001b[43mDataFrame\u001b[49m\u001b[43m(\u001b[49m\u001b[43mnew_data\u001b[49m\u001b[43m,\u001b[49m\u001b[43m \u001b[49m\u001b[43mcolumns\u001b[49m\u001b[38;5;241;43m=\u001b[39;49m\u001b[43mdf_tree\u001b[49m\u001b[38;5;241;43m.\u001b[39;49m\u001b[43mcolumns\u001b[49m\u001b[43m[\u001b[49m\u001b[43m:\u001b[49m\u001b[38;5;241;43m-\u001b[39;49m\u001b[38;5;241;43m1\u001b[39;49m\u001b[43m]\u001b[49m\u001b[43m)\u001b[49m  \u001b[38;5;66;03m# Assuming target column is the last one\u001b[39;00m\n\u001b[0;32m     17\u001b[0m \u001b[38;5;66;03m# Define the list of categorical columns\u001b[39;00m\n\u001b[0;32m     18\u001b[0m categorical_cols \u001b[38;5;241m=\u001b[39m new_df\u001b[38;5;241m.\u001b[39mselect_dtypes(include\u001b[38;5;241m=\u001b[39m[\u001b[38;5;124m\"\u001b[39m\u001b[38;5;124mobject\u001b[39m\u001b[38;5;124m\"\u001b[39m])\u001b[38;5;241m.\u001b[39mcolumns\u001b[38;5;241m.\u001b[39mtolist()\n",
      "File \u001b[1;32mc:\\Users\\ibast\\AppData\\Local\\Programs\\Python\\Python310\\lib\\site-packages\\pandas\\core\\frame.py:721\u001b[0m, in \u001b[0;36mDataFrame.__init__\u001b[1;34m(self, data, index, columns, dtype, copy)\u001b[0m\n\u001b[0;32m    711\u001b[0m         mgr \u001b[38;5;241m=\u001b[39m dict_to_mgr(\n\u001b[0;32m    712\u001b[0m             \u001b[38;5;66;03m# error: Item \"ndarray\" of \"Union[ndarray, Series, Index]\" has no\u001b[39;00m\n\u001b[0;32m    713\u001b[0m             \u001b[38;5;66;03m# attribute \"name\"\u001b[39;00m\n\u001b[1;32m   (...)\u001b[0m\n\u001b[0;32m    718\u001b[0m             typ\u001b[38;5;241m=\u001b[39mmanager,\n\u001b[0;32m    719\u001b[0m         )\n\u001b[0;32m    720\u001b[0m     \u001b[38;5;28;01melse\u001b[39;00m:\n\u001b[1;32m--> 721\u001b[0m         mgr \u001b[38;5;241m=\u001b[39m \u001b[43mndarray_to_mgr\u001b[49m\u001b[43m(\u001b[49m\n\u001b[0;32m    722\u001b[0m \u001b[43m            \u001b[49m\u001b[43mdata\u001b[49m\u001b[43m,\u001b[49m\n\u001b[0;32m    723\u001b[0m \u001b[43m            \u001b[49m\u001b[43mindex\u001b[49m\u001b[43m,\u001b[49m\n\u001b[0;32m    724\u001b[0m \u001b[43m            \u001b[49m\u001b[43mcolumns\u001b[49m\u001b[43m,\u001b[49m\n\u001b[0;32m    725\u001b[0m \u001b[43m            \u001b[49m\u001b[43mdtype\u001b[49m\u001b[38;5;241;43m=\u001b[39;49m\u001b[43mdtype\u001b[49m\u001b[43m,\u001b[49m\n\u001b[0;32m    726\u001b[0m \u001b[43m            \u001b[49m\u001b[43mcopy\u001b[49m\u001b[38;5;241;43m=\u001b[39;49m\u001b[43mcopy\u001b[49m\u001b[43m,\u001b[49m\n\u001b[0;32m    727\u001b[0m \u001b[43m            \u001b[49m\u001b[43mtyp\u001b[49m\u001b[38;5;241;43m=\u001b[39;49m\u001b[43mmanager\u001b[49m\u001b[43m,\u001b[49m\n\u001b[0;32m    728\u001b[0m \u001b[43m        \u001b[49m\u001b[43m)\u001b[49m\n\u001b[0;32m    730\u001b[0m \u001b[38;5;66;03m# For data is list-like, or Iterable (will consume into list)\u001b[39;00m\n\u001b[0;32m    731\u001b[0m \u001b[38;5;28;01melif\u001b[39;00m is_list_like(data):\n",
      "File \u001b[1;32mc:\\Users\\ibast\\AppData\\Local\\Programs\\Python\\Python310\\lib\\site-packages\\pandas\\core\\internals\\construction.py:350\u001b[0m, in \u001b[0;36mndarray_to_mgr\u001b[1;34m(values, index, columns, dtype, copy, typ)\u001b[0m\n\u001b[0;32m    345\u001b[0m \u001b[38;5;66;03m# _prep_ndarraylike ensures that values.ndim == 2 at this point\u001b[39;00m\n\u001b[0;32m    346\u001b[0m index, columns \u001b[38;5;241m=\u001b[39m _get_axes(\n\u001b[0;32m    347\u001b[0m     values\u001b[38;5;241m.\u001b[39mshape[\u001b[38;5;241m0\u001b[39m], values\u001b[38;5;241m.\u001b[39mshape[\u001b[38;5;241m1\u001b[39m], index\u001b[38;5;241m=\u001b[39mindex, columns\u001b[38;5;241m=\u001b[39mcolumns\n\u001b[0;32m    348\u001b[0m )\n\u001b[1;32m--> 350\u001b[0m \u001b[43m_check_values_indices_shape_match\u001b[49m\u001b[43m(\u001b[49m\u001b[43mvalues\u001b[49m\u001b[43m,\u001b[49m\u001b[43m \u001b[49m\u001b[43mindex\u001b[49m\u001b[43m,\u001b[49m\u001b[43m \u001b[49m\u001b[43mcolumns\u001b[49m\u001b[43m)\u001b[49m\n\u001b[0;32m    352\u001b[0m \u001b[38;5;28;01mif\u001b[39;00m typ \u001b[38;5;241m==\u001b[39m \u001b[38;5;124m\"\u001b[39m\u001b[38;5;124marray\u001b[39m\u001b[38;5;124m\"\u001b[39m:\n\u001b[0;32m    354\u001b[0m     \u001b[38;5;28;01mif\u001b[39;00m \u001b[38;5;28missubclass\u001b[39m(values\u001b[38;5;241m.\u001b[39mdtype\u001b[38;5;241m.\u001b[39mtype, \u001b[38;5;28mstr\u001b[39m):\n",
      "File \u001b[1;32mc:\\Users\\ibast\\AppData\\Local\\Programs\\Python\\Python310\\lib\\site-packages\\pandas\\core\\internals\\construction.py:421\u001b[0m, in \u001b[0;36m_check_values_indices_shape_match\u001b[1;34m(values, index, columns)\u001b[0m\n\u001b[0;32m    419\u001b[0m passed \u001b[38;5;241m=\u001b[39m values\u001b[38;5;241m.\u001b[39mshape\n\u001b[0;32m    420\u001b[0m implied \u001b[38;5;241m=\u001b[39m (\u001b[38;5;28mlen\u001b[39m(index), \u001b[38;5;28mlen\u001b[39m(columns))\n\u001b[1;32m--> 421\u001b[0m \u001b[38;5;28;01mraise\u001b[39;00m \u001b[38;5;167;01mValueError\u001b[39;00m(\u001b[38;5;124mf\u001b[39m\u001b[38;5;124m\"\u001b[39m\u001b[38;5;124mShape of passed values is \u001b[39m\u001b[38;5;132;01m{\u001b[39;00mpassed\u001b[38;5;132;01m}\u001b[39;00m\u001b[38;5;124m, indices imply \u001b[39m\u001b[38;5;132;01m{\u001b[39;00mimplied\u001b[38;5;132;01m}\u001b[39;00m\u001b[38;5;124m\"\u001b[39m)\n",
      "\u001b[1;31mValueError\u001b[0m: Shape of passed values is (1, 16), indices imply (1, 17)"
     ]
    }
   ],
   "source": [
    "import numpy as np\n",
    "import pandas as pd\n",
    "from sklearn.preprocessing import LabelEncoder\n",
    "\n",
    "# Assuming 'df_tree' is already defined and the model 'clf' is trained\n",
    "\n",
    "# Your new data (16 feature values for the new sample)\n",
    "new_data = np.array([[\"Female\", 30, 1.61, 60, \"yes\", \"no\", 4.0, 3.0, \"Sometimes\", \"no\", 3.0, \"yes\", \n",
    "                      2.0, \"Sometimes\", \"Public_Transportation\", \"Normal_Weight\"]])\n",
    "\n",
    "# Check if df_tree has 17 columns (16 features and 1 target column)\n",
    "print(\"Columns in df_tree:\", df_tree.columns)\n",
    "\n",
    "# Convert the new data into a DataFrame, ensuring the columns match the features in df_tree (excluding the target column)\n",
    "new_df = pd.DataFrame(new_data, columns=df_tree.columns[:-1])  # Assuming target column is the last one\n",
    "\n",
    "# Define the list of categorical columns\n",
    "categorical_cols = new_df.select_dtypes(include=[\"object\"]).columns.tolist()\n",
    "\n",
    "# Remove the target column from the list if it's included\n",
    "target = \"NObeyesdad\"\n",
    "if target in categorical_cols:\n",
    "    categorical_cols.remove(target)\n",
    "\n",
    "# Apply the same LabelEncoder to the new data\n",
    "label_encoders = {}\n",
    "\n",
    "for col in categorical_cols:\n",
    "    label_encoders[col] = LabelEncoder()\n",
    "    new_df[col] = label_encoders[col].fit_transform(new_df[col])\n",
    "\n",
    "# Make predictions using the trained decision tree classifier\n",
    "predictions = clf.predict(new_df)\n",
    "\n",
    "# Print the predictions\n",
    "print(\"Predictions:\", predictions)\n"
   ]
  },
  {
   "cell_type": "code",
   "execution_count": null,
   "id": "3c5005c9",
   "metadata": {},
   "outputs": [],
   "source": [
    "# new_data = np.array([[\"Female\", 30, 1.61, 60, \"yes\", \"no\", 4.0, 3.0, \"Sometimes\", \"no\", 3.0, \"yes\", \n",
    "#                       2.0, 1.0, \"Sometimes\", \"Public_Transportation\"]])\n",
    "\n",
    "# # Convert the new data into a DataFrame\n",
    "# new_df = pd.DataFrame(new_data, columns=['Gender', 'Age', 'Height', 'Weight', 'Family_history_with_overweight', \n",
    "#                                          'FAVC', 'FCVC', 'NCP', 'CAEC', 'SMOKE', 'CH2O', 'SCC', 'FAF', \n",
    "#                                          'TUE', 'CALC', 'MTRANS'])\n",
    "\n",
    "# # Define the list of categorical columns\n",
    "# categorical_cols = new_df.select_dtypes(include=[\"object\"]).columns.tolist()\n",
    "# # categorical_cols = ['Gender', 'Family_history_with_overweight', 'FAVC', 'CAEC', 'SMOKE', 'SCC', 'CALC', 'MTRANS']\n",
    "# target = \"NObeyesdad\"\n",
    "# if target in categorical_cols:\n",
    "#     categorical_cols.remove(target)\n",
    "\n",
    "# # Populate label_encoders dictionary with LabelEncoders\n",
    "# label_encoders = {}\n",
    "# for col in categorical_cols:\n",
    "#     label_encoders[col] = LabelEncoder()\n",
    "#     new_df[col] = label_encoders[col].fit_transform(new_df[col])\n",
    "\n",
    "# # Make predictions using the trained decision tree classifier\n",
    "# predictions = clf.predict(new_df)\n",
    "\n",
    "# # Print the predictions\n",
    "# print(\"Predictions:\", predictions)\n"
   ]
  },
  {
   "cell_type": "code",
   "execution_count": null,
   "id": "522634d3",
   "metadata": {},
   "outputs": [],
   "source": [
    "# new_data = np.array([[\"Female\", 30, 1.61, 60, \"yes\", \"no\", 4.0, 3.0, \"Sometimes\", \"no\", 3.0, \"yes\", \n",
    "#                       2.0, 1.0, \"Sometimes\", \"Public_Transportation\"]])\n",
    "# # Convert the new data into a DataFrame\n",
    "# new_df = pd.DataFrame(new_data, columns=df_tree.columns[:-1])  # Assuming the target column is the last one\n",
    "\n",
    "# # Define the list of categorical columns\n",
    "# categorical_cols = new_df.select_dtypes(include=[\"object\"]).columns.tolist()\n",
    "\n",
    "# # Remove the target column from the list if it's included\n",
    "# target = \"NObeyesdad\"\n",
    "# if target in categorical_cols:\n",
    "#     categorical_cols.remove(target)\n",
    "\n",
    "# # Apply the same LabelEncoder to the new data\n",
    "# label_encoders = {}\n",
    "\n",
    "# for col in categorical_cols:\n",
    "#     label_encoders[col] = LabelEncoder()\n",
    "#     new_df[col] = label_encoders[col].fit_transform(new_df[col])\n",
    "# # for col in categorical_cols:\n",
    "# #     new_df[col] = label_encoders[col].transform(new_df[col])\n",
    "# # Make predictions using the trained decision tree classifier\n",
    "# predictions = clf.predict(new_df)\n",
    "\n",
    "# # Print the predictions\n",
    "# print(\"Predictions:\", predictions)\n"
   ]
  },
  {
   "cell_type": "markdown",
   "id": "1b58c365",
   "metadata": {},
   "source": [
    "<b> The prediction 1 for the encoded target column 'NObeyesdad' is Normal_weight."
   ]
  },
  {
   "cell_type": "code",
   "execution_count": null,
   "id": "802e7a6d",
   "metadata": {},
   "outputs": [],
   "source": [
    "# # Assuming predictions is your array of encoded predictions\n",
    "# decoded_predictions = label_encoders[target].inverse_transform(predictions)\n",
    "\n",
    "# # Print the decoded predictions\n",
    "# print(\"Decoded Predictions:\", decoded_predictions)"
   ]
  },
  {
   "cell_type": "markdown",
   "id": "a5bbc6ec",
   "metadata": {},
   "source": [
    "# Save Model"
   ]
  },
  {
   "cell_type": "markdown",
   "id": "ab6f5cc2",
   "metadata": {},
   "source": [
    "The pickle library in Python is a powerful tool used for serializing and deserializing Python objects. It allows you to save any Python object into a file and then load it back into memory at a later time. This functionality is particularly useful when you want to save machine learning models, as you can train a model, save it to disk, and then load it back later for predictions without needing to retrain it."
   ]
  },
  {
   "cell_type": "code",
   "execution_count": 174,
   "id": "f979f62c",
   "metadata": {},
   "outputs": [],
   "source": [
    "import pickle"
   ]
  },
  {
   "cell_type": "code",
   "execution_count": null,
   "id": "3d8c3a2a",
   "metadata": {},
   "outputs": [],
   "source": [
    "# create dictionary to save model and instances of label enconding of target values.\n",
    "# data = {\"model\": clf, \"encoder\":  label_encoders} "
   ]
  },
  {
   "cell_type": "code",
   "execution_count": null,
   "id": "f79c0fc7",
   "metadata": {},
   "outputs": [],
   "source": [
    "# # Save the trained model\n",
    "# with open('decision_tree_model.pkl', 'wb') as f:\n",
    "#     pickle.dump(clf, f)\n",
    "\n",
    "# # Save the encoding dictionaries\n",
    "# with open('label_encoders.pkl', 'wb') as f:\n",
    "#     pickle.dump(label_encoders, f)"
   ]
  },
  {
   "cell_type": "code",
   "execution_count": 175,
   "id": "385f98b4",
   "metadata": {},
   "outputs": [],
   "source": [
    "# Save the model and encoding dictionaries\n",
    "data = {'model': clf, 'label_encoders': label_encoders}\n",
    "\n",
    "with open('model_and_encoders.pkl', 'wb') as f:\n",
    "    pickle.dump(data, f)"
   ]
  },
  {
   "cell_type": "markdown",
   "id": "c57a26cb",
   "metadata": {},
   "source": [
    "This code saves the trained decision tree classifier (clf) and the encoding dictionaries (label_encoders) to a file named \"model_and_encoders.pkl\"."
   ]
  },
  {
   "cell_type": "code",
   "execution_count": null,
   "id": "87ee1745",
   "metadata": {},
   "outputs": [],
   "source": [
    "# # To load the model and encoding dictionaries back into your Python code\n",
    "\n",
    "# # Load the trained model\n",
    "# with open('decision_tree_model.pkl', 'rb') as f:\n",
    "#     clf = pickle.load(f)\n",
    "\n",
    "# # Load the encoding dictionaries\n",
    "# with open('label_encoders.pkl', 'rb') as f:\n",
    "#     label_encoders = pickle.load(f)"
   ]
  },
  {
   "cell_type": "code",
   "execution_count": 176,
   "id": "f7c3bafd",
   "metadata": {},
   "outputs": [],
   "source": [
    "# read data\n",
    "with open('model_and_encoders.pkl', 'rb') as f:\n",
    "    data = pickle.load(f)"
   ]
  },
  {
   "cell_type": "code",
   "execution_count": 177,
   "id": "52af6376",
   "metadata": {},
   "outputs": [],
   "source": [
    "# access the model from the file\n",
    "model = data[\"model\"]"
   ]
  },
  {
   "cell_type": "code",
   "execution_count": 178,
   "id": "e827e8c6",
   "metadata": {},
   "outputs": [
    {
     "data": {
      "text/html": [
       "<style>#sk-container-id-1 {\n",
       "  /* Definition of color scheme common for light and dark mode */\n",
       "  --sklearn-color-text: black;\n",
       "  --sklearn-color-line: gray;\n",
       "  /* Definition of color scheme for unfitted estimators */\n",
       "  --sklearn-color-unfitted-level-0: #fff5e6;\n",
       "  --sklearn-color-unfitted-level-1: #f6e4d2;\n",
       "  --sklearn-color-unfitted-level-2: #ffe0b3;\n",
       "  --sklearn-color-unfitted-level-3: chocolate;\n",
       "  /* Definition of color scheme for fitted estimators */\n",
       "  --sklearn-color-fitted-level-0: #f0f8ff;\n",
       "  --sklearn-color-fitted-level-1: #d4ebff;\n",
       "  --sklearn-color-fitted-level-2: #b3dbfd;\n",
       "  --sklearn-color-fitted-level-3: cornflowerblue;\n",
       "\n",
       "  /* Specific color for light theme */\n",
       "  --sklearn-color-text-on-default-background: var(--sg-text-color, var(--theme-code-foreground, var(--jp-content-font-color1, black)));\n",
       "  --sklearn-color-background: var(--sg-background-color, var(--theme-background, var(--jp-layout-color0, white)));\n",
       "  --sklearn-color-border-box: var(--sg-text-color, var(--theme-code-foreground, var(--jp-content-font-color1, black)));\n",
       "  --sklearn-color-icon: #696969;\n",
       "\n",
       "  @media (prefers-color-scheme: dark) {\n",
       "    /* Redefinition of color scheme for dark theme */\n",
       "    --sklearn-color-text-on-default-background: var(--sg-text-color, var(--theme-code-foreground, var(--jp-content-font-color1, white)));\n",
       "    --sklearn-color-background: var(--sg-background-color, var(--theme-background, var(--jp-layout-color0, #111)));\n",
       "    --sklearn-color-border-box: var(--sg-text-color, var(--theme-code-foreground, var(--jp-content-font-color1, white)));\n",
       "    --sklearn-color-icon: #878787;\n",
       "  }\n",
       "}\n",
       "\n",
       "#sk-container-id-1 {\n",
       "  color: var(--sklearn-color-text);\n",
       "}\n",
       "\n",
       "#sk-container-id-1 pre {\n",
       "  padding: 0;\n",
       "}\n",
       "\n",
       "#sk-container-id-1 input.sk-hidden--visually {\n",
       "  border: 0;\n",
       "  clip: rect(1px 1px 1px 1px);\n",
       "  clip: rect(1px, 1px, 1px, 1px);\n",
       "  height: 1px;\n",
       "  margin: -1px;\n",
       "  overflow: hidden;\n",
       "  padding: 0;\n",
       "  position: absolute;\n",
       "  width: 1px;\n",
       "}\n",
       "\n",
       "#sk-container-id-1 div.sk-dashed-wrapped {\n",
       "  border: 1px dashed var(--sklearn-color-line);\n",
       "  margin: 0 0.4em 0.5em 0.4em;\n",
       "  box-sizing: border-box;\n",
       "  padding-bottom: 0.4em;\n",
       "  background-color: var(--sklearn-color-background);\n",
       "}\n",
       "\n",
       "#sk-container-id-1 div.sk-container {\n",
       "  /* jupyter's `normalize.less` sets `[hidden] { display: none; }`\n",
       "     but bootstrap.min.css set `[hidden] { display: none !important; }`\n",
       "     so we also need the `!important` here to be able to override the\n",
       "     default hidden behavior on the sphinx rendered scikit-learn.org.\n",
       "     See: https://github.com/scikit-learn/scikit-learn/issues/21755 */\n",
       "  display: inline-block !important;\n",
       "  position: relative;\n",
       "}\n",
       "\n",
       "#sk-container-id-1 div.sk-text-repr-fallback {\n",
       "  display: none;\n",
       "}\n",
       "\n",
       "div.sk-parallel-item,\n",
       "div.sk-serial,\n",
       "div.sk-item {\n",
       "  /* draw centered vertical line to link estimators */\n",
       "  background-image: linear-gradient(var(--sklearn-color-text-on-default-background), var(--sklearn-color-text-on-default-background));\n",
       "  background-size: 2px 100%;\n",
       "  background-repeat: no-repeat;\n",
       "  background-position: center center;\n",
       "}\n",
       "\n",
       "/* Parallel-specific style estimator block */\n",
       "\n",
       "#sk-container-id-1 div.sk-parallel-item::after {\n",
       "  content: \"\";\n",
       "  width: 100%;\n",
       "  border-bottom: 2px solid var(--sklearn-color-text-on-default-background);\n",
       "  flex-grow: 1;\n",
       "}\n",
       "\n",
       "#sk-container-id-1 div.sk-parallel {\n",
       "  display: flex;\n",
       "  align-items: stretch;\n",
       "  justify-content: center;\n",
       "  background-color: var(--sklearn-color-background);\n",
       "  position: relative;\n",
       "}\n",
       "\n",
       "#sk-container-id-1 div.sk-parallel-item {\n",
       "  display: flex;\n",
       "  flex-direction: column;\n",
       "}\n",
       "\n",
       "#sk-container-id-1 div.sk-parallel-item:first-child::after {\n",
       "  align-self: flex-end;\n",
       "  width: 50%;\n",
       "}\n",
       "\n",
       "#sk-container-id-1 div.sk-parallel-item:last-child::after {\n",
       "  align-self: flex-start;\n",
       "  width: 50%;\n",
       "}\n",
       "\n",
       "#sk-container-id-1 div.sk-parallel-item:only-child::after {\n",
       "  width: 0;\n",
       "}\n",
       "\n",
       "/* Serial-specific style estimator block */\n",
       "\n",
       "#sk-container-id-1 div.sk-serial {\n",
       "  display: flex;\n",
       "  flex-direction: column;\n",
       "  align-items: center;\n",
       "  background-color: var(--sklearn-color-background);\n",
       "  padding-right: 1em;\n",
       "  padding-left: 1em;\n",
       "}\n",
       "\n",
       "\n",
       "/* Toggleable style: style used for estimator/Pipeline/ColumnTransformer box that is\n",
       "clickable and can be expanded/collapsed.\n",
       "- Pipeline and ColumnTransformer use this feature and define the default style\n",
       "- Estimators will overwrite some part of the style using the `sk-estimator` class\n",
       "*/\n",
       "\n",
       "/* Pipeline and ColumnTransformer style (default) */\n",
       "\n",
       "#sk-container-id-1 div.sk-toggleable {\n",
       "  /* Default theme specific background. It is overwritten whether we have a\n",
       "  specific estimator or a Pipeline/ColumnTransformer */\n",
       "  background-color: var(--sklearn-color-background);\n",
       "}\n",
       "\n",
       "/* Toggleable label */\n",
       "#sk-container-id-1 label.sk-toggleable__label {\n",
       "  cursor: pointer;\n",
       "  display: block;\n",
       "  width: 100%;\n",
       "  margin-bottom: 0;\n",
       "  padding: 0.5em;\n",
       "  box-sizing: border-box;\n",
       "  text-align: center;\n",
       "}\n",
       "\n",
       "#sk-container-id-1 label.sk-toggleable__label-arrow:before {\n",
       "  /* Arrow on the left of the label */\n",
       "  content: \"▸\";\n",
       "  float: left;\n",
       "  margin-right: 0.25em;\n",
       "  color: var(--sklearn-color-icon);\n",
       "}\n",
       "\n",
       "#sk-container-id-1 label.sk-toggleable__label-arrow:hover:before {\n",
       "  color: var(--sklearn-color-text);\n",
       "}\n",
       "\n",
       "/* Toggleable content - dropdown */\n",
       "\n",
       "#sk-container-id-1 div.sk-toggleable__content {\n",
       "  max-height: 0;\n",
       "  max-width: 0;\n",
       "  overflow: hidden;\n",
       "  text-align: left;\n",
       "  /* unfitted */\n",
       "  background-color: var(--sklearn-color-unfitted-level-0);\n",
       "}\n",
       "\n",
       "#sk-container-id-1 div.sk-toggleable__content.fitted {\n",
       "  /* fitted */\n",
       "  background-color: var(--sklearn-color-fitted-level-0);\n",
       "}\n",
       "\n",
       "#sk-container-id-1 div.sk-toggleable__content pre {\n",
       "  margin: 0.2em;\n",
       "  border-radius: 0.25em;\n",
       "  color: var(--sklearn-color-text);\n",
       "  /* unfitted */\n",
       "  background-color: var(--sklearn-color-unfitted-level-0);\n",
       "}\n",
       "\n",
       "#sk-container-id-1 div.sk-toggleable__content.fitted pre {\n",
       "  /* unfitted */\n",
       "  background-color: var(--sklearn-color-fitted-level-0);\n",
       "}\n",
       "\n",
       "#sk-container-id-1 input.sk-toggleable__control:checked~div.sk-toggleable__content {\n",
       "  /* Expand drop-down */\n",
       "  max-height: 200px;\n",
       "  max-width: 100%;\n",
       "  overflow: auto;\n",
       "}\n",
       "\n",
       "#sk-container-id-1 input.sk-toggleable__control:checked~label.sk-toggleable__label-arrow:before {\n",
       "  content: \"▾\";\n",
       "}\n",
       "\n",
       "/* Pipeline/ColumnTransformer-specific style */\n",
       "\n",
       "#sk-container-id-1 div.sk-label input.sk-toggleable__control:checked~label.sk-toggleable__label {\n",
       "  color: var(--sklearn-color-text);\n",
       "  background-color: var(--sklearn-color-unfitted-level-2);\n",
       "}\n",
       "\n",
       "#sk-container-id-1 div.sk-label.fitted input.sk-toggleable__control:checked~label.sk-toggleable__label {\n",
       "  background-color: var(--sklearn-color-fitted-level-2);\n",
       "}\n",
       "\n",
       "/* Estimator-specific style */\n",
       "\n",
       "/* Colorize estimator box */\n",
       "#sk-container-id-1 div.sk-estimator input.sk-toggleable__control:checked~label.sk-toggleable__label {\n",
       "  /* unfitted */\n",
       "  background-color: var(--sklearn-color-unfitted-level-2);\n",
       "}\n",
       "\n",
       "#sk-container-id-1 div.sk-estimator.fitted input.sk-toggleable__control:checked~label.sk-toggleable__label {\n",
       "  /* fitted */\n",
       "  background-color: var(--sklearn-color-fitted-level-2);\n",
       "}\n",
       "\n",
       "#sk-container-id-1 div.sk-label label.sk-toggleable__label,\n",
       "#sk-container-id-1 div.sk-label label {\n",
       "  /* The background is the default theme color */\n",
       "  color: var(--sklearn-color-text-on-default-background);\n",
       "}\n",
       "\n",
       "/* On hover, darken the color of the background */\n",
       "#sk-container-id-1 div.sk-label:hover label.sk-toggleable__label {\n",
       "  color: var(--sklearn-color-text);\n",
       "  background-color: var(--sklearn-color-unfitted-level-2);\n",
       "}\n",
       "\n",
       "/* Label box, darken color on hover, fitted */\n",
       "#sk-container-id-1 div.sk-label.fitted:hover label.sk-toggleable__label.fitted {\n",
       "  color: var(--sklearn-color-text);\n",
       "  background-color: var(--sklearn-color-fitted-level-2);\n",
       "}\n",
       "\n",
       "/* Estimator label */\n",
       "\n",
       "#sk-container-id-1 div.sk-label label {\n",
       "  font-family: monospace;\n",
       "  font-weight: bold;\n",
       "  display: inline-block;\n",
       "  line-height: 1.2em;\n",
       "}\n",
       "\n",
       "#sk-container-id-1 div.sk-label-container {\n",
       "  text-align: center;\n",
       "}\n",
       "\n",
       "/* Estimator-specific */\n",
       "#sk-container-id-1 div.sk-estimator {\n",
       "  font-family: monospace;\n",
       "  border: 1px dotted var(--sklearn-color-border-box);\n",
       "  border-radius: 0.25em;\n",
       "  box-sizing: border-box;\n",
       "  margin-bottom: 0.5em;\n",
       "  /* unfitted */\n",
       "  background-color: var(--sklearn-color-unfitted-level-0);\n",
       "}\n",
       "\n",
       "#sk-container-id-1 div.sk-estimator.fitted {\n",
       "  /* fitted */\n",
       "  background-color: var(--sklearn-color-fitted-level-0);\n",
       "}\n",
       "\n",
       "/* on hover */\n",
       "#sk-container-id-1 div.sk-estimator:hover {\n",
       "  /* unfitted */\n",
       "  background-color: var(--sklearn-color-unfitted-level-2);\n",
       "}\n",
       "\n",
       "#sk-container-id-1 div.sk-estimator.fitted:hover {\n",
       "  /* fitted */\n",
       "  background-color: var(--sklearn-color-fitted-level-2);\n",
       "}\n",
       "\n",
       "/* Specification for estimator info (e.g. \"i\" and \"?\") */\n",
       "\n",
       "/* Common style for \"i\" and \"?\" */\n",
       "\n",
       ".sk-estimator-doc-link,\n",
       "a:link.sk-estimator-doc-link,\n",
       "a:visited.sk-estimator-doc-link {\n",
       "  float: right;\n",
       "  font-size: smaller;\n",
       "  line-height: 1em;\n",
       "  font-family: monospace;\n",
       "  background-color: var(--sklearn-color-background);\n",
       "  border-radius: 1em;\n",
       "  height: 1em;\n",
       "  width: 1em;\n",
       "  text-decoration: none !important;\n",
       "  margin-left: 1ex;\n",
       "  /* unfitted */\n",
       "  border: var(--sklearn-color-unfitted-level-1) 1pt solid;\n",
       "  color: var(--sklearn-color-unfitted-level-1);\n",
       "}\n",
       "\n",
       ".sk-estimator-doc-link.fitted,\n",
       "a:link.sk-estimator-doc-link.fitted,\n",
       "a:visited.sk-estimator-doc-link.fitted {\n",
       "  /* fitted */\n",
       "  border: var(--sklearn-color-fitted-level-1) 1pt solid;\n",
       "  color: var(--sklearn-color-fitted-level-1);\n",
       "}\n",
       "\n",
       "/* On hover */\n",
       "div.sk-estimator:hover .sk-estimator-doc-link:hover,\n",
       ".sk-estimator-doc-link:hover,\n",
       "div.sk-label-container:hover .sk-estimator-doc-link:hover,\n",
       ".sk-estimator-doc-link:hover {\n",
       "  /* unfitted */\n",
       "  background-color: var(--sklearn-color-unfitted-level-3);\n",
       "  color: var(--sklearn-color-background);\n",
       "  text-decoration: none;\n",
       "}\n",
       "\n",
       "div.sk-estimator.fitted:hover .sk-estimator-doc-link.fitted:hover,\n",
       ".sk-estimator-doc-link.fitted:hover,\n",
       "div.sk-label-container:hover .sk-estimator-doc-link.fitted:hover,\n",
       ".sk-estimator-doc-link.fitted:hover {\n",
       "  /* fitted */\n",
       "  background-color: var(--sklearn-color-fitted-level-3);\n",
       "  color: var(--sklearn-color-background);\n",
       "  text-decoration: none;\n",
       "}\n",
       "\n",
       "/* Span, style for the box shown on hovering the info icon */\n",
       ".sk-estimator-doc-link span {\n",
       "  display: none;\n",
       "  z-index: 9999;\n",
       "  position: relative;\n",
       "  font-weight: normal;\n",
       "  right: .2ex;\n",
       "  padding: .5ex;\n",
       "  margin: .5ex;\n",
       "  width: min-content;\n",
       "  min-width: 20ex;\n",
       "  max-width: 50ex;\n",
       "  color: var(--sklearn-color-text);\n",
       "  box-shadow: 2pt 2pt 4pt #999;\n",
       "  /* unfitted */\n",
       "  background: var(--sklearn-color-unfitted-level-0);\n",
       "  border: .5pt solid var(--sklearn-color-unfitted-level-3);\n",
       "}\n",
       "\n",
       ".sk-estimator-doc-link.fitted span {\n",
       "  /* fitted */\n",
       "  background: var(--sklearn-color-fitted-level-0);\n",
       "  border: var(--sklearn-color-fitted-level-3);\n",
       "}\n",
       "\n",
       ".sk-estimator-doc-link:hover span {\n",
       "  display: block;\n",
       "}\n",
       "\n",
       "/* \"?\"-specific style due to the `<a>` HTML tag */\n",
       "\n",
       "#sk-container-id-1 a.estimator_doc_link {\n",
       "  float: right;\n",
       "  font-size: 1rem;\n",
       "  line-height: 1em;\n",
       "  font-family: monospace;\n",
       "  background-color: var(--sklearn-color-background);\n",
       "  border-radius: 1rem;\n",
       "  height: 1rem;\n",
       "  width: 1rem;\n",
       "  text-decoration: none;\n",
       "  /* unfitted */\n",
       "  color: var(--sklearn-color-unfitted-level-1);\n",
       "  border: var(--sklearn-color-unfitted-level-1) 1pt solid;\n",
       "}\n",
       "\n",
       "#sk-container-id-1 a.estimator_doc_link.fitted {\n",
       "  /* fitted */\n",
       "  border: var(--sklearn-color-fitted-level-1) 1pt solid;\n",
       "  color: var(--sklearn-color-fitted-level-1);\n",
       "}\n",
       "\n",
       "/* On hover */\n",
       "#sk-container-id-1 a.estimator_doc_link:hover {\n",
       "  /* unfitted */\n",
       "  background-color: var(--sklearn-color-unfitted-level-3);\n",
       "  color: var(--sklearn-color-background);\n",
       "  text-decoration: none;\n",
       "}\n",
       "\n",
       "#sk-container-id-1 a.estimator_doc_link.fitted:hover {\n",
       "  /* fitted */\n",
       "  background-color: var(--sklearn-color-fitted-level-3);\n",
       "}\n",
       "</style><div id=\"sk-container-id-1\" class=\"sk-top-container\"><div class=\"sk-text-repr-fallback\"><pre>DecisionTreeClassifier(criterion=&#x27;entropy&#x27;)</pre><b>In a Jupyter environment, please rerun this cell to show the HTML representation or trust the notebook. <br />On GitHub, the HTML representation is unable to render, please try loading this page with nbviewer.org.</b></div><div class=\"sk-container\" hidden><div class=\"sk-item\"><div class=\"sk-estimator fitted sk-toggleable\"><input class=\"sk-toggleable__control sk-hidden--visually\" id=\"sk-estimator-id-1\" type=\"checkbox\" checked><label for=\"sk-estimator-id-1\" class=\"sk-toggleable__label fitted sk-toggleable__label-arrow fitted\">&nbsp;&nbsp;DecisionTreeClassifier<a class=\"sk-estimator-doc-link fitted\" rel=\"noreferrer\" target=\"_blank\" href=\"https://scikit-learn.org/1.5/modules/generated/sklearn.tree.DecisionTreeClassifier.html\">?<span>Documentation for DecisionTreeClassifier</span></a><span class=\"sk-estimator-doc-link fitted\">i<span>Fitted</span></span></label><div class=\"sk-toggleable__content fitted\"><pre>DecisionTreeClassifier(criterion=&#x27;entropy&#x27;)</pre></div> </div></div></div></div>"
      ],
      "text/plain": [
       "DecisionTreeClassifier(criterion='entropy')"
      ]
     },
     "execution_count": 178,
     "metadata": {},
     "output_type": "execute_result"
    }
   ],
   "source": [
    "model"
   ]
  },
  {
   "cell_type": "code",
   "execution_count": 179,
   "id": "f4b9e17d",
   "metadata": {},
   "outputs": [
    {
     "data": {
      "text/plain": [
       "{'Gender': LabelEncoder(),\n",
       " 'Family_history_with_overweight': LabelEncoder(),\n",
       " 'FAVC': LabelEncoder(),\n",
       " 'CAEC': LabelEncoder(),\n",
       " 'SMOKE': LabelEncoder(),\n",
       " 'SCC': LabelEncoder(),\n",
       " 'CALC': LabelEncoder(),\n",
       " 'MTRANS': LabelEncoder()}"
      ]
     },
     "execution_count": 179,
     "metadata": {},
     "output_type": "execute_result"
    }
   ],
   "source": [
    "# access label encoder dictionary\n",
    "label_encoder =  data[\"label_encoders\"]\n",
    "label_encoder"
   ]
  },
  {
   "cell_type": "code",
   "execution_count": 180,
   "id": "108f3bcf",
   "metadata": {},
   "outputs": [
    {
     "data": {
      "text/html": [
       "<style>#sk-container-id-2 {\n",
       "  /* Definition of color scheme common for light and dark mode */\n",
       "  --sklearn-color-text: black;\n",
       "  --sklearn-color-line: gray;\n",
       "  /* Definition of color scheme for unfitted estimators */\n",
       "  --sklearn-color-unfitted-level-0: #fff5e6;\n",
       "  --sklearn-color-unfitted-level-1: #f6e4d2;\n",
       "  --sklearn-color-unfitted-level-2: #ffe0b3;\n",
       "  --sklearn-color-unfitted-level-3: chocolate;\n",
       "  /* Definition of color scheme for fitted estimators */\n",
       "  --sklearn-color-fitted-level-0: #f0f8ff;\n",
       "  --sklearn-color-fitted-level-1: #d4ebff;\n",
       "  --sklearn-color-fitted-level-2: #b3dbfd;\n",
       "  --sklearn-color-fitted-level-3: cornflowerblue;\n",
       "\n",
       "  /* Specific color for light theme */\n",
       "  --sklearn-color-text-on-default-background: var(--sg-text-color, var(--theme-code-foreground, var(--jp-content-font-color1, black)));\n",
       "  --sklearn-color-background: var(--sg-background-color, var(--theme-background, var(--jp-layout-color0, white)));\n",
       "  --sklearn-color-border-box: var(--sg-text-color, var(--theme-code-foreground, var(--jp-content-font-color1, black)));\n",
       "  --sklearn-color-icon: #696969;\n",
       "\n",
       "  @media (prefers-color-scheme: dark) {\n",
       "    /* Redefinition of color scheme for dark theme */\n",
       "    --sklearn-color-text-on-default-background: var(--sg-text-color, var(--theme-code-foreground, var(--jp-content-font-color1, white)));\n",
       "    --sklearn-color-background: var(--sg-background-color, var(--theme-background, var(--jp-layout-color0, #111)));\n",
       "    --sklearn-color-border-box: var(--sg-text-color, var(--theme-code-foreground, var(--jp-content-font-color1, white)));\n",
       "    --sklearn-color-icon: #878787;\n",
       "  }\n",
       "}\n",
       "\n",
       "#sk-container-id-2 {\n",
       "  color: var(--sklearn-color-text);\n",
       "}\n",
       "\n",
       "#sk-container-id-2 pre {\n",
       "  padding: 0;\n",
       "}\n",
       "\n",
       "#sk-container-id-2 input.sk-hidden--visually {\n",
       "  border: 0;\n",
       "  clip: rect(1px 1px 1px 1px);\n",
       "  clip: rect(1px, 1px, 1px, 1px);\n",
       "  height: 1px;\n",
       "  margin: -1px;\n",
       "  overflow: hidden;\n",
       "  padding: 0;\n",
       "  position: absolute;\n",
       "  width: 1px;\n",
       "}\n",
       "\n",
       "#sk-container-id-2 div.sk-dashed-wrapped {\n",
       "  border: 1px dashed var(--sklearn-color-line);\n",
       "  margin: 0 0.4em 0.5em 0.4em;\n",
       "  box-sizing: border-box;\n",
       "  padding-bottom: 0.4em;\n",
       "  background-color: var(--sklearn-color-background);\n",
       "}\n",
       "\n",
       "#sk-container-id-2 div.sk-container {\n",
       "  /* jupyter's `normalize.less` sets `[hidden] { display: none; }`\n",
       "     but bootstrap.min.css set `[hidden] { display: none !important; }`\n",
       "     so we also need the `!important` here to be able to override the\n",
       "     default hidden behavior on the sphinx rendered scikit-learn.org.\n",
       "     See: https://github.com/scikit-learn/scikit-learn/issues/21755 */\n",
       "  display: inline-block !important;\n",
       "  position: relative;\n",
       "}\n",
       "\n",
       "#sk-container-id-2 div.sk-text-repr-fallback {\n",
       "  display: none;\n",
       "}\n",
       "\n",
       "div.sk-parallel-item,\n",
       "div.sk-serial,\n",
       "div.sk-item {\n",
       "  /* draw centered vertical line to link estimators */\n",
       "  background-image: linear-gradient(var(--sklearn-color-text-on-default-background), var(--sklearn-color-text-on-default-background));\n",
       "  background-size: 2px 100%;\n",
       "  background-repeat: no-repeat;\n",
       "  background-position: center center;\n",
       "}\n",
       "\n",
       "/* Parallel-specific style estimator block */\n",
       "\n",
       "#sk-container-id-2 div.sk-parallel-item::after {\n",
       "  content: \"\";\n",
       "  width: 100%;\n",
       "  border-bottom: 2px solid var(--sklearn-color-text-on-default-background);\n",
       "  flex-grow: 1;\n",
       "}\n",
       "\n",
       "#sk-container-id-2 div.sk-parallel {\n",
       "  display: flex;\n",
       "  align-items: stretch;\n",
       "  justify-content: center;\n",
       "  background-color: var(--sklearn-color-background);\n",
       "  position: relative;\n",
       "}\n",
       "\n",
       "#sk-container-id-2 div.sk-parallel-item {\n",
       "  display: flex;\n",
       "  flex-direction: column;\n",
       "}\n",
       "\n",
       "#sk-container-id-2 div.sk-parallel-item:first-child::after {\n",
       "  align-self: flex-end;\n",
       "  width: 50%;\n",
       "}\n",
       "\n",
       "#sk-container-id-2 div.sk-parallel-item:last-child::after {\n",
       "  align-self: flex-start;\n",
       "  width: 50%;\n",
       "}\n",
       "\n",
       "#sk-container-id-2 div.sk-parallel-item:only-child::after {\n",
       "  width: 0;\n",
       "}\n",
       "\n",
       "/* Serial-specific style estimator block */\n",
       "\n",
       "#sk-container-id-2 div.sk-serial {\n",
       "  display: flex;\n",
       "  flex-direction: column;\n",
       "  align-items: center;\n",
       "  background-color: var(--sklearn-color-background);\n",
       "  padding-right: 1em;\n",
       "  padding-left: 1em;\n",
       "}\n",
       "\n",
       "\n",
       "/* Toggleable style: style used for estimator/Pipeline/ColumnTransformer box that is\n",
       "clickable and can be expanded/collapsed.\n",
       "- Pipeline and ColumnTransformer use this feature and define the default style\n",
       "- Estimators will overwrite some part of the style using the `sk-estimator` class\n",
       "*/\n",
       "\n",
       "/* Pipeline and ColumnTransformer style (default) */\n",
       "\n",
       "#sk-container-id-2 div.sk-toggleable {\n",
       "  /* Default theme specific background. It is overwritten whether we have a\n",
       "  specific estimator or a Pipeline/ColumnTransformer */\n",
       "  background-color: var(--sklearn-color-background);\n",
       "}\n",
       "\n",
       "/* Toggleable label */\n",
       "#sk-container-id-2 label.sk-toggleable__label {\n",
       "  cursor: pointer;\n",
       "  display: block;\n",
       "  width: 100%;\n",
       "  margin-bottom: 0;\n",
       "  padding: 0.5em;\n",
       "  box-sizing: border-box;\n",
       "  text-align: center;\n",
       "}\n",
       "\n",
       "#sk-container-id-2 label.sk-toggleable__label-arrow:before {\n",
       "  /* Arrow on the left of the label */\n",
       "  content: \"▸\";\n",
       "  float: left;\n",
       "  margin-right: 0.25em;\n",
       "  color: var(--sklearn-color-icon);\n",
       "}\n",
       "\n",
       "#sk-container-id-2 label.sk-toggleable__label-arrow:hover:before {\n",
       "  color: var(--sklearn-color-text);\n",
       "}\n",
       "\n",
       "/* Toggleable content - dropdown */\n",
       "\n",
       "#sk-container-id-2 div.sk-toggleable__content {\n",
       "  max-height: 0;\n",
       "  max-width: 0;\n",
       "  overflow: hidden;\n",
       "  text-align: left;\n",
       "  /* unfitted */\n",
       "  background-color: var(--sklearn-color-unfitted-level-0);\n",
       "}\n",
       "\n",
       "#sk-container-id-2 div.sk-toggleable__content.fitted {\n",
       "  /* fitted */\n",
       "  background-color: var(--sklearn-color-fitted-level-0);\n",
       "}\n",
       "\n",
       "#sk-container-id-2 div.sk-toggleable__content pre {\n",
       "  margin: 0.2em;\n",
       "  border-radius: 0.25em;\n",
       "  color: var(--sklearn-color-text);\n",
       "  /* unfitted */\n",
       "  background-color: var(--sklearn-color-unfitted-level-0);\n",
       "}\n",
       "\n",
       "#sk-container-id-2 div.sk-toggleable__content.fitted pre {\n",
       "  /* unfitted */\n",
       "  background-color: var(--sklearn-color-fitted-level-0);\n",
       "}\n",
       "\n",
       "#sk-container-id-2 input.sk-toggleable__control:checked~div.sk-toggleable__content {\n",
       "  /* Expand drop-down */\n",
       "  max-height: 200px;\n",
       "  max-width: 100%;\n",
       "  overflow: auto;\n",
       "}\n",
       "\n",
       "#sk-container-id-2 input.sk-toggleable__control:checked~label.sk-toggleable__label-arrow:before {\n",
       "  content: \"▾\";\n",
       "}\n",
       "\n",
       "/* Pipeline/ColumnTransformer-specific style */\n",
       "\n",
       "#sk-container-id-2 div.sk-label input.sk-toggleable__control:checked~label.sk-toggleable__label {\n",
       "  color: var(--sklearn-color-text);\n",
       "  background-color: var(--sklearn-color-unfitted-level-2);\n",
       "}\n",
       "\n",
       "#sk-container-id-2 div.sk-label.fitted input.sk-toggleable__control:checked~label.sk-toggleable__label {\n",
       "  background-color: var(--sklearn-color-fitted-level-2);\n",
       "}\n",
       "\n",
       "/* Estimator-specific style */\n",
       "\n",
       "/* Colorize estimator box */\n",
       "#sk-container-id-2 div.sk-estimator input.sk-toggleable__control:checked~label.sk-toggleable__label {\n",
       "  /* unfitted */\n",
       "  background-color: var(--sklearn-color-unfitted-level-2);\n",
       "}\n",
       "\n",
       "#sk-container-id-2 div.sk-estimator.fitted input.sk-toggleable__control:checked~label.sk-toggleable__label {\n",
       "  /* fitted */\n",
       "  background-color: var(--sklearn-color-fitted-level-2);\n",
       "}\n",
       "\n",
       "#sk-container-id-2 div.sk-label label.sk-toggleable__label,\n",
       "#sk-container-id-2 div.sk-label label {\n",
       "  /* The background is the default theme color */\n",
       "  color: var(--sklearn-color-text-on-default-background);\n",
       "}\n",
       "\n",
       "/* On hover, darken the color of the background */\n",
       "#sk-container-id-2 div.sk-label:hover label.sk-toggleable__label {\n",
       "  color: var(--sklearn-color-text);\n",
       "  background-color: var(--sklearn-color-unfitted-level-2);\n",
       "}\n",
       "\n",
       "/* Label box, darken color on hover, fitted */\n",
       "#sk-container-id-2 div.sk-label.fitted:hover label.sk-toggleable__label.fitted {\n",
       "  color: var(--sklearn-color-text);\n",
       "  background-color: var(--sklearn-color-fitted-level-2);\n",
       "}\n",
       "\n",
       "/* Estimator label */\n",
       "\n",
       "#sk-container-id-2 div.sk-label label {\n",
       "  font-family: monospace;\n",
       "  font-weight: bold;\n",
       "  display: inline-block;\n",
       "  line-height: 1.2em;\n",
       "}\n",
       "\n",
       "#sk-container-id-2 div.sk-label-container {\n",
       "  text-align: center;\n",
       "}\n",
       "\n",
       "/* Estimator-specific */\n",
       "#sk-container-id-2 div.sk-estimator {\n",
       "  font-family: monospace;\n",
       "  border: 1px dotted var(--sklearn-color-border-box);\n",
       "  border-radius: 0.25em;\n",
       "  box-sizing: border-box;\n",
       "  margin-bottom: 0.5em;\n",
       "  /* unfitted */\n",
       "  background-color: var(--sklearn-color-unfitted-level-0);\n",
       "}\n",
       "\n",
       "#sk-container-id-2 div.sk-estimator.fitted {\n",
       "  /* fitted */\n",
       "  background-color: var(--sklearn-color-fitted-level-0);\n",
       "}\n",
       "\n",
       "/* on hover */\n",
       "#sk-container-id-2 div.sk-estimator:hover {\n",
       "  /* unfitted */\n",
       "  background-color: var(--sklearn-color-unfitted-level-2);\n",
       "}\n",
       "\n",
       "#sk-container-id-2 div.sk-estimator.fitted:hover {\n",
       "  /* fitted */\n",
       "  background-color: var(--sklearn-color-fitted-level-2);\n",
       "}\n",
       "\n",
       "/* Specification for estimator info (e.g. \"i\" and \"?\") */\n",
       "\n",
       "/* Common style for \"i\" and \"?\" */\n",
       "\n",
       ".sk-estimator-doc-link,\n",
       "a:link.sk-estimator-doc-link,\n",
       "a:visited.sk-estimator-doc-link {\n",
       "  float: right;\n",
       "  font-size: smaller;\n",
       "  line-height: 1em;\n",
       "  font-family: monospace;\n",
       "  background-color: var(--sklearn-color-background);\n",
       "  border-radius: 1em;\n",
       "  height: 1em;\n",
       "  width: 1em;\n",
       "  text-decoration: none !important;\n",
       "  margin-left: 1ex;\n",
       "  /* unfitted */\n",
       "  border: var(--sklearn-color-unfitted-level-1) 1pt solid;\n",
       "  color: var(--sklearn-color-unfitted-level-1);\n",
       "}\n",
       "\n",
       ".sk-estimator-doc-link.fitted,\n",
       "a:link.sk-estimator-doc-link.fitted,\n",
       "a:visited.sk-estimator-doc-link.fitted {\n",
       "  /* fitted */\n",
       "  border: var(--sklearn-color-fitted-level-1) 1pt solid;\n",
       "  color: var(--sklearn-color-fitted-level-1);\n",
       "}\n",
       "\n",
       "/* On hover */\n",
       "div.sk-estimator:hover .sk-estimator-doc-link:hover,\n",
       ".sk-estimator-doc-link:hover,\n",
       "div.sk-label-container:hover .sk-estimator-doc-link:hover,\n",
       ".sk-estimator-doc-link:hover {\n",
       "  /* unfitted */\n",
       "  background-color: var(--sklearn-color-unfitted-level-3);\n",
       "  color: var(--sklearn-color-background);\n",
       "  text-decoration: none;\n",
       "}\n",
       "\n",
       "div.sk-estimator.fitted:hover .sk-estimator-doc-link.fitted:hover,\n",
       ".sk-estimator-doc-link.fitted:hover,\n",
       "div.sk-label-container:hover .sk-estimator-doc-link.fitted:hover,\n",
       ".sk-estimator-doc-link.fitted:hover {\n",
       "  /* fitted */\n",
       "  background-color: var(--sklearn-color-fitted-level-3);\n",
       "  color: var(--sklearn-color-background);\n",
       "  text-decoration: none;\n",
       "}\n",
       "\n",
       "/* Span, style for the box shown on hovering the info icon */\n",
       ".sk-estimator-doc-link span {\n",
       "  display: none;\n",
       "  z-index: 9999;\n",
       "  position: relative;\n",
       "  font-weight: normal;\n",
       "  right: .2ex;\n",
       "  padding: .5ex;\n",
       "  margin: .5ex;\n",
       "  width: min-content;\n",
       "  min-width: 20ex;\n",
       "  max-width: 50ex;\n",
       "  color: var(--sklearn-color-text);\n",
       "  box-shadow: 2pt 2pt 4pt #999;\n",
       "  /* unfitted */\n",
       "  background: var(--sklearn-color-unfitted-level-0);\n",
       "  border: .5pt solid var(--sklearn-color-unfitted-level-3);\n",
       "}\n",
       "\n",
       ".sk-estimator-doc-link.fitted span {\n",
       "  /* fitted */\n",
       "  background: var(--sklearn-color-fitted-level-0);\n",
       "  border: var(--sklearn-color-fitted-level-3);\n",
       "}\n",
       "\n",
       ".sk-estimator-doc-link:hover span {\n",
       "  display: block;\n",
       "}\n",
       "\n",
       "/* \"?\"-specific style due to the `<a>` HTML tag */\n",
       "\n",
       "#sk-container-id-2 a.estimator_doc_link {\n",
       "  float: right;\n",
       "  font-size: 1rem;\n",
       "  line-height: 1em;\n",
       "  font-family: monospace;\n",
       "  background-color: var(--sklearn-color-background);\n",
       "  border-radius: 1rem;\n",
       "  height: 1rem;\n",
       "  width: 1rem;\n",
       "  text-decoration: none;\n",
       "  /* unfitted */\n",
       "  color: var(--sklearn-color-unfitted-level-1);\n",
       "  border: var(--sklearn-color-unfitted-level-1) 1pt solid;\n",
       "}\n",
       "\n",
       "#sk-container-id-2 a.estimator_doc_link.fitted {\n",
       "  /* fitted */\n",
       "  border: var(--sklearn-color-fitted-level-1) 1pt solid;\n",
       "  color: var(--sklearn-color-fitted-level-1);\n",
       "}\n",
       "\n",
       "/* On hover */\n",
       "#sk-container-id-2 a.estimator_doc_link:hover {\n",
       "  /* unfitted */\n",
       "  background-color: var(--sklearn-color-unfitted-level-3);\n",
       "  color: var(--sklearn-color-background);\n",
       "  text-decoration: none;\n",
       "}\n",
       "\n",
       "#sk-container-id-2 a.estimator_doc_link.fitted:hover {\n",
       "  /* fitted */\n",
       "  background-color: var(--sklearn-color-fitted-level-3);\n",
       "}\n",
       "</style><div id=\"sk-container-id-2\" class=\"sk-top-container\"><div class=\"sk-text-repr-fallback\"><pre>LabelEncoder()</pre><b>In a Jupyter environment, please rerun this cell to show the HTML representation or trust the notebook. <br />On GitHub, the HTML representation is unable to render, please try loading this page with nbviewer.org.</b></div><div class=\"sk-container\" hidden><div class=\"sk-item\"><div class=\"sk-estimator fitted sk-toggleable\"><input class=\"sk-toggleable__control sk-hidden--visually\" id=\"sk-estimator-id-2\" type=\"checkbox\" checked><label for=\"sk-estimator-id-2\" class=\"sk-toggleable__label fitted sk-toggleable__label-arrow fitted\">&nbsp;&nbsp;LabelEncoder<a class=\"sk-estimator-doc-link fitted\" rel=\"noreferrer\" target=\"_blank\" href=\"https://scikit-learn.org/1.5/modules/generated/sklearn.preprocessing.LabelEncoder.html\">?<span>Documentation for LabelEncoder</span></a><span class=\"sk-estimator-doc-link fitted\">i<span>Fitted</span></span></label><div class=\"sk-toggleable__content fitted\"><pre>LabelEncoder()</pre></div> </div></div></div></div>"
      ],
      "text/plain": [
       "LabelEncoder()"
      ]
     },
     "execution_count": 180,
     "metadata": {},
     "output_type": "execute_result"
    }
   ],
   "source": [
    "# access an individual label encoder\n",
    "Gender_encoder = label_encoder['Gender']\n",
    "Gender_encoder"
   ]
  },
  {
   "cell_type": "code",
   "execution_count": null,
   "id": "50bc398a",
   "metadata": {
    "scrolled": true
   },
   "outputs": [],
   "source": [
    "# access using key\n",
    "\n",
    "# target_label_encoder = label_encoder['NObeyesdad']"
   ]
  },
  {
   "cell_type": "code",
   "execution_count": 181,
   "id": "c3ec2fbc",
   "metadata": {},
   "outputs": [
    {
     "name": "stdout",
     "output_type": "stream",
     "text": [
      "Key 'NObeyesdad' does not exist in the label_encoders dictionary.\n"
     ]
    }
   ],
   "source": [
    "# target feature not included\n",
    "if 'NObeyesdad' in label_encoders:\n",
    "    target_label_encoder = label_encoders['NObeyesdad']\n",
    "else:\n",
    "    print(\"Key 'NObeyesdad' does not exist in the label_encoders dictionary.\")"
   ]
  },
  {
   "cell_type": "code",
   "execution_count": 182,
   "id": "46ab0cc6",
   "metadata": {},
   "outputs": [
    {
     "name": "stdout",
     "output_type": "stream",
     "text": [
      "Keys in label_encoders dictionary: dict_keys(['Gender', 'Family_history_with_overweight', 'FAVC', 'CAEC', 'SMOKE', 'SCC', 'CALC', 'MTRANS'])\n"
     ]
    }
   ],
   "source": [
    "# keys from label encoder dictionary\n",
    "print(\"Keys in label_encoders dictionary:\", label_encoders.keys())"
   ]
  },
  {
   "cell_type": "code",
   "execution_count": 183,
   "id": "f34b9cda",
   "metadata": {},
   "outputs": [
    {
     "name": "stdout",
     "output_type": "stream",
     "text": [
      "LabelEncoder for column 'Gender': LabelEncoder()\n",
      "LabelEncoder for column 'Family_history_with_overweight': LabelEncoder()\n",
      "LabelEncoder for column 'FAVC': LabelEncoder()\n",
      "LabelEncoder for column 'CAEC': LabelEncoder()\n",
      "LabelEncoder for column 'SMOKE': LabelEncoder()\n",
      "LabelEncoder for column 'SCC': LabelEncoder()\n",
      "LabelEncoder for column 'CALC': LabelEncoder()\n",
      "LabelEncoder for column 'MTRANS': LabelEncoder()\n"
     ]
    }
   ],
   "source": [
    "for column, encoder in label_encoder.items():\n",
    "    print(f\"LabelEncoder for column '{column}': {encoder}\")"
   ]
  },
  {
   "cell_type": "code",
   "execution_count": 184,
   "id": "54252339",
   "metadata": {},
   "outputs": [
    {
     "data": {
      "text/html": [
       "<style>#sk-container-id-3 {\n",
       "  /* Definition of color scheme common for light and dark mode */\n",
       "  --sklearn-color-text: black;\n",
       "  --sklearn-color-line: gray;\n",
       "  /* Definition of color scheme for unfitted estimators */\n",
       "  --sklearn-color-unfitted-level-0: #fff5e6;\n",
       "  --sklearn-color-unfitted-level-1: #f6e4d2;\n",
       "  --sklearn-color-unfitted-level-2: #ffe0b3;\n",
       "  --sklearn-color-unfitted-level-3: chocolate;\n",
       "  /* Definition of color scheme for fitted estimators */\n",
       "  --sklearn-color-fitted-level-0: #f0f8ff;\n",
       "  --sklearn-color-fitted-level-1: #d4ebff;\n",
       "  --sklearn-color-fitted-level-2: #b3dbfd;\n",
       "  --sklearn-color-fitted-level-3: cornflowerblue;\n",
       "\n",
       "  /* Specific color for light theme */\n",
       "  --sklearn-color-text-on-default-background: var(--sg-text-color, var(--theme-code-foreground, var(--jp-content-font-color1, black)));\n",
       "  --sklearn-color-background: var(--sg-background-color, var(--theme-background, var(--jp-layout-color0, white)));\n",
       "  --sklearn-color-border-box: var(--sg-text-color, var(--theme-code-foreground, var(--jp-content-font-color1, black)));\n",
       "  --sklearn-color-icon: #696969;\n",
       "\n",
       "  @media (prefers-color-scheme: dark) {\n",
       "    /* Redefinition of color scheme for dark theme */\n",
       "    --sklearn-color-text-on-default-background: var(--sg-text-color, var(--theme-code-foreground, var(--jp-content-font-color1, white)));\n",
       "    --sklearn-color-background: var(--sg-background-color, var(--theme-background, var(--jp-layout-color0, #111)));\n",
       "    --sklearn-color-border-box: var(--sg-text-color, var(--theme-code-foreground, var(--jp-content-font-color1, white)));\n",
       "    --sklearn-color-icon: #878787;\n",
       "  }\n",
       "}\n",
       "\n",
       "#sk-container-id-3 {\n",
       "  color: var(--sklearn-color-text);\n",
       "}\n",
       "\n",
       "#sk-container-id-3 pre {\n",
       "  padding: 0;\n",
       "}\n",
       "\n",
       "#sk-container-id-3 input.sk-hidden--visually {\n",
       "  border: 0;\n",
       "  clip: rect(1px 1px 1px 1px);\n",
       "  clip: rect(1px, 1px, 1px, 1px);\n",
       "  height: 1px;\n",
       "  margin: -1px;\n",
       "  overflow: hidden;\n",
       "  padding: 0;\n",
       "  position: absolute;\n",
       "  width: 1px;\n",
       "}\n",
       "\n",
       "#sk-container-id-3 div.sk-dashed-wrapped {\n",
       "  border: 1px dashed var(--sklearn-color-line);\n",
       "  margin: 0 0.4em 0.5em 0.4em;\n",
       "  box-sizing: border-box;\n",
       "  padding-bottom: 0.4em;\n",
       "  background-color: var(--sklearn-color-background);\n",
       "}\n",
       "\n",
       "#sk-container-id-3 div.sk-container {\n",
       "  /* jupyter's `normalize.less` sets `[hidden] { display: none; }`\n",
       "     but bootstrap.min.css set `[hidden] { display: none !important; }`\n",
       "     so we also need the `!important` here to be able to override the\n",
       "     default hidden behavior on the sphinx rendered scikit-learn.org.\n",
       "     See: https://github.com/scikit-learn/scikit-learn/issues/21755 */\n",
       "  display: inline-block !important;\n",
       "  position: relative;\n",
       "}\n",
       "\n",
       "#sk-container-id-3 div.sk-text-repr-fallback {\n",
       "  display: none;\n",
       "}\n",
       "\n",
       "div.sk-parallel-item,\n",
       "div.sk-serial,\n",
       "div.sk-item {\n",
       "  /* draw centered vertical line to link estimators */\n",
       "  background-image: linear-gradient(var(--sklearn-color-text-on-default-background), var(--sklearn-color-text-on-default-background));\n",
       "  background-size: 2px 100%;\n",
       "  background-repeat: no-repeat;\n",
       "  background-position: center center;\n",
       "}\n",
       "\n",
       "/* Parallel-specific style estimator block */\n",
       "\n",
       "#sk-container-id-3 div.sk-parallel-item::after {\n",
       "  content: \"\";\n",
       "  width: 100%;\n",
       "  border-bottom: 2px solid var(--sklearn-color-text-on-default-background);\n",
       "  flex-grow: 1;\n",
       "}\n",
       "\n",
       "#sk-container-id-3 div.sk-parallel {\n",
       "  display: flex;\n",
       "  align-items: stretch;\n",
       "  justify-content: center;\n",
       "  background-color: var(--sklearn-color-background);\n",
       "  position: relative;\n",
       "}\n",
       "\n",
       "#sk-container-id-3 div.sk-parallel-item {\n",
       "  display: flex;\n",
       "  flex-direction: column;\n",
       "}\n",
       "\n",
       "#sk-container-id-3 div.sk-parallel-item:first-child::after {\n",
       "  align-self: flex-end;\n",
       "  width: 50%;\n",
       "}\n",
       "\n",
       "#sk-container-id-3 div.sk-parallel-item:last-child::after {\n",
       "  align-self: flex-start;\n",
       "  width: 50%;\n",
       "}\n",
       "\n",
       "#sk-container-id-3 div.sk-parallel-item:only-child::after {\n",
       "  width: 0;\n",
       "}\n",
       "\n",
       "/* Serial-specific style estimator block */\n",
       "\n",
       "#sk-container-id-3 div.sk-serial {\n",
       "  display: flex;\n",
       "  flex-direction: column;\n",
       "  align-items: center;\n",
       "  background-color: var(--sklearn-color-background);\n",
       "  padding-right: 1em;\n",
       "  padding-left: 1em;\n",
       "}\n",
       "\n",
       "\n",
       "/* Toggleable style: style used for estimator/Pipeline/ColumnTransformer box that is\n",
       "clickable and can be expanded/collapsed.\n",
       "- Pipeline and ColumnTransformer use this feature and define the default style\n",
       "- Estimators will overwrite some part of the style using the `sk-estimator` class\n",
       "*/\n",
       "\n",
       "/* Pipeline and ColumnTransformer style (default) */\n",
       "\n",
       "#sk-container-id-3 div.sk-toggleable {\n",
       "  /* Default theme specific background. It is overwritten whether we have a\n",
       "  specific estimator or a Pipeline/ColumnTransformer */\n",
       "  background-color: var(--sklearn-color-background);\n",
       "}\n",
       "\n",
       "/* Toggleable label */\n",
       "#sk-container-id-3 label.sk-toggleable__label {\n",
       "  cursor: pointer;\n",
       "  display: block;\n",
       "  width: 100%;\n",
       "  margin-bottom: 0;\n",
       "  padding: 0.5em;\n",
       "  box-sizing: border-box;\n",
       "  text-align: center;\n",
       "}\n",
       "\n",
       "#sk-container-id-3 label.sk-toggleable__label-arrow:before {\n",
       "  /* Arrow on the left of the label */\n",
       "  content: \"▸\";\n",
       "  float: left;\n",
       "  margin-right: 0.25em;\n",
       "  color: var(--sklearn-color-icon);\n",
       "}\n",
       "\n",
       "#sk-container-id-3 label.sk-toggleable__label-arrow:hover:before {\n",
       "  color: var(--sklearn-color-text);\n",
       "}\n",
       "\n",
       "/* Toggleable content - dropdown */\n",
       "\n",
       "#sk-container-id-3 div.sk-toggleable__content {\n",
       "  max-height: 0;\n",
       "  max-width: 0;\n",
       "  overflow: hidden;\n",
       "  text-align: left;\n",
       "  /* unfitted */\n",
       "  background-color: var(--sklearn-color-unfitted-level-0);\n",
       "}\n",
       "\n",
       "#sk-container-id-3 div.sk-toggleable__content.fitted {\n",
       "  /* fitted */\n",
       "  background-color: var(--sklearn-color-fitted-level-0);\n",
       "}\n",
       "\n",
       "#sk-container-id-3 div.sk-toggleable__content pre {\n",
       "  margin: 0.2em;\n",
       "  border-radius: 0.25em;\n",
       "  color: var(--sklearn-color-text);\n",
       "  /* unfitted */\n",
       "  background-color: var(--sklearn-color-unfitted-level-0);\n",
       "}\n",
       "\n",
       "#sk-container-id-3 div.sk-toggleable__content.fitted pre {\n",
       "  /* unfitted */\n",
       "  background-color: var(--sklearn-color-fitted-level-0);\n",
       "}\n",
       "\n",
       "#sk-container-id-3 input.sk-toggleable__control:checked~div.sk-toggleable__content {\n",
       "  /* Expand drop-down */\n",
       "  max-height: 200px;\n",
       "  max-width: 100%;\n",
       "  overflow: auto;\n",
       "}\n",
       "\n",
       "#sk-container-id-3 input.sk-toggleable__control:checked~label.sk-toggleable__label-arrow:before {\n",
       "  content: \"▾\";\n",
       "}\n",
       "\n",
       "/* Pipeline/ColumnTransformer-specific style */\n",
       "\n",
       "#sk-container-id-3 div.sk-label input.sk-toggleable__control:checked~label.sk-toggleable__label {\n",
       "  color: var(--sklearn-color-text);\n",
       "  background-color: var(--sklearn-color-unfitted-level-2);\n",
       "}\n",
       "\n",
       "#sk-container-id-3 div.sk-label.fitted input.sk-toggleable__control:checked~label.sk-toggleable__label {\n",
       "  background-color: var(--sklearn-color-fitted-level-2);\n",
       "}\n",
       "\n",
       "/* Estimator-specific style */\n",
       "\n",
       "/* Colorize estimator box */\n",
       "#sk-container-id-3 div.sk-estimator input.sk-toggleable__control:checked~label.sk-toggleable__label {\n",
       "  /* unfitted */\n",
       "  background-color: var(--sklearn-color-unfitted-level-2);\n",
       "}\n",
       "\n",
       "#sk-container-id-3 div.sk-estimator.fitted input.sk-toggleable__control:checked~label.sk-toggleable__label {\n",
       "  /* fitted */\n",
       "  background-color: var(--sklearn-color-fitted-level-2);\n",
       "}\n",
       "\n",
       "#sk-container-id-3 div.sk-label label.sk-toggleable__label,\n",
       "#sk-container-id-3 div.sk-label label {\n",
       "  /* The background is the default theme color */\n",
       "  color: var(--sklearn-color-text-on-default-background);\n",
       "}\n",
       "\n",
       "/* On hover, darken the color of the background */\n",
       "#sk-container-id-3 div.sk-label:hover label.sk-toggleable__label {\n",
       "  color: var(--sklearn-color-text);\n",
       "  background-color: var(--sklearn-color-unfitted-level-2);\n",
       "}\n",
       "\n",
       "/* Label box, darken color on hover, fitted */\n",
       "#sk-container-id-3 div.sk-label.fitted:hover label.sk-toggleable__label.fitted {\n",
       "  color: var(--sklearn-color-text);\n",
       "  background-color: var(--sklearn-color-fitted-level-2);\n",
       "}\n",
       "\n",
       "/* Estimator label */\n",
       "\n",
       "#sk-container-id-3 div.sk-label label {\n",
       "  font-family: monospace;\n",
       "  font-weight: bold;\n",
       "  display: inline-block;\n",
       "  line-height: 1.2em;\n",
       "}\n",
       "\n",
       "#sk-container-id-3 div.sk-label-container {\n",
       "  text-align: center;\n",
       "}\n",
       "\n",
       "/* Estimator-specific */\n",
       "#sk-container-id-3 div.sk-estimator {\n",
       "  font-family: monospace;\n",
       "  border: 1px dotted var(--sklearn-color-border-box);\n",
       "  border-radius: 0.25em;\n",
       "  box-sizing: border-box;\n",
       "  margin-bottom: 0.5em;\n",
       "  /* unfitted */\n",
       "  background-color: var(--sklearn-color-unfitted-level-0);\n",
       "}\n",
       "\n",
       "#sk-container-id-3 div.sk-estimator.fitted {\n",
       "  /* fitted */\n",
       "  background-color: var(--sklearn-color-fitted-level-0);\n",
       "}\n",
       "\n",
       "/* on hover */\n",
       "#sk-container-id-3 div.sk-estimator:hover {\n",
       "  /* unfitted */\n",
       "  background-color: var(--sklearn-color-unfitted-level-2);\n",
       "}\n",
       "\n",
       "#sk-container-id-3 div.sk-estimator.fitted:hover {\n",
       "  /* fitted */\n",
       "  background-color: var(--sklearn-color-fitted-level-2);\n",
       "}\n",
       "\n",
       "/* Specification for estimator info (e.g. \"i\" and \"?\") */\n",
       "\n",
       "/* Common style for \"i\" and \"?\" */\n",
       "\n",
       ".sk-estimator-doc-link,\n",
       "a:link.sk-estimator-doc-link,\n",
       "a:visited.sk-estimator-doc-link {\n",
       "  float: right;\n",
       "  font-size: smaller;\n",
       "  line-height: 1em;\n",
       "  font-family: monospace;\n",
       "  background-color: var(--sklearn-color-background);\n",
       "  border-radius: 1em;\n",
       "  height: 1em;\n",
       "  width: 1em;\n",
       "  text-decoration: none !important;\n",
       "  margin-left: 1ex;\n",
       "  /* unfitted */\n",
       "  border: var(--sklearn-color-unfitted-level-1) 1pt solid;\n",
       "  color: var(--sklearn-color-unfitted-level-1);\n",
       "}\n",
       "\n",
       ".sk-estimator-doc-link.fitted,\n",
       "a:link.sk-estimator-doc-link.fitted,\n",
       "a:visited.sk-estimator-doc-link.fitted {\n",
       "  /* fitted */\n",
       "  border: var(--sklearn-color-fitted-level-1) 1pt solid;\n",
       "  color: var(--sklearn-color-fitted-level-1);\n",
       "}\n",
       "\n",
       "/* On hover */\n",
       "div.sk-estimator:hover .sk-estimator-doc-link:hover,\n",
       ".sk-estimator-doc-link:hover,\n",
       "div.sk-label-container:hover .sk-estimator-doc-link:hover,\n",
       ".sk-estimator-doc-link:hover {\n",
       "  /* unfitted */\n",
       "  background-color: var(--sklearn-color-unfitted-level-3);\n",
       "  color: var(--sklearn-color-background);\n",
       "  text-decoration: none;\n",
       "}\n",
       "\n",
       "div.sk-estimator.fitted:hover .sk-estimator-doc-link.fitted:hover,\n",
       ".sk-estimator-doc-link.fitted:hover,\n",
       "div.sk-label-container:hover .sk-estimator-doc-link.fitted:hover,\n",
       ".sk-estimator-doc-link.fitted:hover {\n",
       "  /* fitted */\n",
       "  background-color: var(--sklearn-color-fitted-level-3);\n",
       "  color: var(--sklearn-color-background);\n",
       "  text-decoration: none;\n",
       "}\n",
       "\n",
       "/* Span, style for the box shown on hovering the info icon */\n",
       ".sk-estimator-doc-link span {\n",
       "  display: none;\n",
       "  z-index: 9999;\n",
       "  position: relative;\n",
       "  font-weight: normal;\n",
       "  right: .2ex;\n",
       "  padding: .5ex;\n",
       "  margin: .5ex;\n",
       "  width: min-content;\n",
       "  min-width: 20ex;\n",
       "  max-width: 50ex;\n",
       "  color: var(--sklearn-color-text);\n",
       "  box-shadow: 2pt 2pt 4pt #999;\n",
       "  /* unfitted */\n",
       "  background: var(--sklearn-color-unfitted-level-0);\n",
       "  border: .5pt solid var(--sklearn-color-unfitted-level-3);\n",
       "}\n",
       "\n",
       ".sk-estimator-doc-link.fitted span {\n",
       "  /* fitted */\n",
       "  background: var(--sklearn-color-fitted-level-0);\n",
       "  border: var(--sklearn-color-fitted-level-3);\n",
       "}\n",
       "\n",
       ".sk-estimator-doc-link:hover span {\n",
       "  display: block;\n",
       "}\n",
       "\n",
       "/* \"?\"-specific style due to the `<a>` HTML tag */\n",
       "\n",
       "#sk-container-id-3 a.estimator_doc_link {\n",
       "  float: right;\n",
       "  font-size: 1rem;\n",
       "  line-height: 1em;\n",
       "  font-family: monospace;\n",
       "  background-color: var(--sklearn-color-background);\n",
       "  border-radius: 1rem;\n",
       "  height: 1rem;\n",
       "  width: 1rem;\n",
       "  text-decoration: none;\n",
       "  /* unfitted */\n",
       "  color: var(--sklearn-color-unfitted-level-1);\n",
       "  border: var(--sklearn-color-unfitted-level-1) 1pt solid;\n",
       "}\n",
       "\n",
       "#sk-container-id-3 a.estimator_doc_link.fitted {\n",
       "  /* fitted */\n",
       "  border: var(--sklearn-color-fitted-level-1) 1pt solid;\n",
       "  color: var(--sklearn-color-fitted-level-1);\n",
       "}\n",
       "\n",
       "/* On hover */\n",
       "#sk-container-id-3 a.estimator_doc_link:hover {\n",
       "  /* unfitted */\n",
       "  background-color: var(--sklearn-color-unfitted-level-3);\n",
       "  color: var(--sklearn-color-background);\n",
       "  text-decoration: none;\n",
       "}\n",
       "\n",
       "#sk-container-id-3 a.estimator_doc_link.fitted:hover {\n",
       "  /* fitted */\n",
       "  background-color: var(--sklearn-color-fitted-level-3);\n",
       "}\n",
       "</style><div id=\"sk-container-id-3\" class=\"sk-top-container\"><div class=\"sk-text-repr-fallback\"><pre>DecisionTreeClassifier(criterion=&#x27;entropy&#x27;)</pre><b>In a Jupyter environment, please rerun this cell to show the HTML representation or trust the notebook. <br />On GitHub, the HTML representation is unable to render, please try loading this page with nbviewer.org.</b></div><div class=\"sk-container\" hidden><div class=\"sk-item\"><div class=\"sk-estimator fitted sk-toggleable\"><input class=\"sk-toggleable__control sk-hidden--visually\" id=\"sk-estimator-id-3\" type=\"checkbox\" checked><label for=\"sk-estimator-id-3\" class=\"sk-toggleable__label fitted sk-toggleable__label-arrow fitted\">&nbsp;&nbsp;DecisionTreeClassifier<a class=\"sk-estimator-doc-link fitted\" rel=\"noreferrer\" target=\"_blank\" href=\"https://scikit-learn.org/1.5/modules/generated/sklearn.tree.DecisionTreeClassifier.html\">?<span>Documentation for DecisionTreeClassifier</span></a><span class=\"sk-estimator-doc-link fitted\">i<span>Fitted</span></span></label><div class=\"sk-toggleable__content fitted\"><pre>DecisionTreeClassifier(criterion=&#x27;entropy&#x27;)</pre></div> </div></div></div></div>"
      ],
      "text/plain": [
       "DecisionTreeClassifier(criterion='entropy')"
      ]
     },
     "execution_count": 184,
     "metadata": {},
     "output_type": "execute_result"
    }
   ],
   "source": [
    "# calling decision tree classifier\n",
    "clf"
   ]
  },
  {
   "cell_type": "code",
   "execution_count": 185,
   "id": "1db75f64",
   "metadata": {},
   "outputs": [
    {
     "ename": "ValueError",
     "evalue": "The feature names should match those that were passed during fit.\nFeature names seen at fit time, yet now missing:\n- BMI\n",
     "output_type": "error",
     "traceback": [
      "\u001b[1;31m---------------------------------------------------------------------------\u001b[0m",
      "\u001b[1;31mValueError\u001b[0m                                Traceback (most recent call last)",
      "Input \u001b[1;32mIn [185]\u001b[0m, in \u001b[0;36m<cell line: 2>\u001b[1;34m()\u001b[0m\n\u001b[0;32m      1\u001b[0m \u001b[38;5;66;03m# calling the prediction\u001b[39;00m\n\u001b[1;32m----> 2\u001b[0m predictions \u001b[38;5;241m=\u001b[39m \u001b[43mclf\u001b[49m\u001b[38;5;241;43m.\u001b[39;49m\u001b[43mpredict\u001b[49m\u001b[43m(\u001b[49m\u001b[43mnew_df\u001b[49m\u001b[43m)\u001b[49m\n\u001b[0;32m      4\u001b[0m \u001b[38;5;66;03m# Print the predictions\u001b[39;00m\n\u001b[0;32m      5\u001b[0m \u001b[38;5;28mprint\u001b[39m(\u001b[38;5;124m\"\u001b[39m\u001b[38;5;124mPredictions:\u001b[39m\u001b[38;5;124m\"\u001b[39m, predictions)\n",
      "File \u001b[1;32mc:\\Users\\ibast\\AppData\\Local\\Programs\\Python\\Python310\\lib\\site-packages\\sklearn\\tree\\_classes.py:529\u001b[0m, in \u001b[0;36mBaseDecisionTree.predict\u001b[1;34m(self, X, check_input)\u001b[0m\n\u001b[0;32m    506\u001b[0m \u001b[38;5;250m\u001b[39m\u001b[38;5;124;03m\"\"\"Predict class or regression value for X.\u001b[39;00m\n\u001b[0;32m    507\u001b[0m \n\u001b[0;32m    508\u001b[0m \u001b[38;5;124;03mFor a classification model, the predicted class for each sample in X is\u001b[39;00m\n\u001b[1;32m   (...)\u001b[0m\n\u001b[0;32m    526\u001b[0m \u001b[38;5;124;03m    The predicted classes, or the predict values.\u001b[39;00m\n\u001b[0;32m    527\u001b[0m \u001b[38;5;124;03m\"\"\"\u001b[39;00m\n\u001b[0;32m    528\u001b[0m check_is_fitted(\u001b[38;5;28mself\u001b[39m)\n\u001b[1;32m--> 529\u001b[0m X \u001b[38;5;241m=\u001b[39m \u001b[38;5;28;43mself\u001b[39;49m\u001b[38;5;241;43m.\u001b[39;49m\u001b[43m_validate_X_predict\u001b[49m\u001b[43m(\u001b[49m\u001b[43mX\u001b[49m\u001b[43m,\u001b[49m\u001b[43m \u001b[49m\u001b[43mcheck_input\u001b[49m\u001b[43m)\u001b[49m\n\u001b[0;32m    530\u001b[0m proba \u001b[38;5;241m=\u001b[39m \u001b[38;5;28mself\u001b[39m\u001b[38;5;241m.\u001b[39mtree_\u001b[38;5;241m.\u001b[39mpredict(X)\n\u001b[0;32m    531\u001b[0m n_samples \u001b[38;5;241m=\u001b[39m X\u001b[38;5;241m.\u001b[39mshape[\u001b[38;5;241m0\u001b[39m]\n",
      "File \u001b[1;32mc:\\Users\\ibast\\AppData\\Local\\Programs\\Python\\Python310\\lib\\site-packages\\sklearn\\tree\\_classes.py:489\u001b[0m, in \u001b[0;36mBaseDecisionTree._validate_X_predict\u001b[1;34m(self, X, check_input)\u001b[0m\n\u001b[0;32m    487\u001b[0m \u001b[38;5;28;01melse\u001b[39;00m:\n\u001b[0;32m    488\u001b[0m     force_all_finite \u001b[38;5;241m=\u001b[39m \u001b[38;5;28;01mTrue\u001b[39;00m\n\u001b[1;32m--> 489\u001b[0m X \u001b[38;5;241m=\u001b[39m \u001b[38;5;28;43mself\u001b[39;49m\u001b[38;5;241;43m.\u001b[39;49m\u001b[43m_validate_data\u001b[49m\u001b[43m(\u001b[49m\n\u001b[0;32m    490\u001b[0m \u001b[43m    \u001b[49m\u001b[43mX\u001b[49m\u001b[43m,\u001b[49m\n\u001b[0;32m    491\u001b[0m \u001b[43m    \u001b[49m\u001b[43mdtype\u001b[49m\u001b[38;5;241;43m=\u001b[39;49m\u001b[43mDTYPE\u001b[49m\u001b[43m,\u001b[49m\n\u001b[0;32m    492\u001b[0m \u001b[43m    \u001b[49m\u001b[43maccept_sparse\u001b[49m\u001b[38;5;241;43m=\u001b[39;49m\u001b[38;5;124;43m\"\u001b[39;49m\u001b[38;5;124;43mcsr\u001b[39;49m\u001b[38;5;124;43m\"\u001b[39;49m\u001b[43m,\u001b[49m\n\u001b[0;32m    493\u001b[0m \u001b[43m    \u001b[49m\u001b[43mreset\u001b[49m\u001b[38;5;241;43m=\u001b[39;49m\u001b[38;5;28;43;01mFalse\u001b[39;49;00m\u001b[43m,\u001b[49m\n\u001b[0;32m    494\u001b[0m \u001b[43m    \u001b[49m\u001b[43mforce_all_finite\u001b[49m\u001b[38;5;241;43m=\u001b[39;49m\u001b[43mforce_all_finite\u001b[49m\u001b[43m,\u001b[49m\n\u001b[0;32m    495\u001b[0m \u001b[43m\u001b[49m\u001b[43m)\u001b[49m\n\u001b[0;32m    496\u001b[0m \u001b[38;5;28;01mif\u001b[39;00m issparse(X) \u001b[38;5;129;01mand\u001b[39;00m (\n\u001b[0;32m    497\u001b[0m     X\u001b[38;5;241m.\u001b[39mindices\u001b[38;5;241m.\u001b[39mdtype \u001b[38;5;241m!=\u001b[39m np\u001b[38;5;241m.\u001b[39mintc \u001b[38;5;129;01mor\u001b[39;00m X\u001b[38;5;241m.\u001b[39mindptr\u001b[38;5;241m.\u001b[39mdtype \u001b[38;5;241m!=\u001b[39m np\u001b[38;5;241m.\u001b[39mintc\n\u001b[0;32m    498\u001b[0m ):\n\u001b[0;32m    499\u001b[0m     \u001b[38;5;28;01mraise\u001b[39;00m \u001b[38;5;167;01mValueError\u001b[39;00m(\u001b[38;5;124m\"\u001b[39m\u001b[38;5;124mNo support for np.int64 index based sparse matrices\u001b[39m\u001b[38;5;124m\"\u001b[39m)\n",
      "File \u001b[1;32mc:\\Users\\ibast\\AppData\\Local\\Programs\\Python\\Python310\\lib\\site-packages\\sklearn\\base.py:608\u001b[0m, in \u001b[0;36mBaseEstimator._validate_data\u001b[1;34m(self, X, y, reset, validate_separately, cast_to_ndarray, **check_params)\u001b[0m\n\u001b[0;32m    537\u001b[0m \u001b[38;5;28;01mdef\u001b[39;00m \u001b[38;5;21m_validate_data\u001b[39m(\n\u001b[0;32m    538\u001b[0m     \u001b[38;5;28mself\u001b[39m,\n\u001b[0;32m    539\u001b[0m     X\u001b[38;5;241m=\u001b[39m\u001b[38;5;124m\"\u001b[39m\u001b[38;5;124mno_validation\u001b[39m\u001b[38;5;124m\"\u001b[39m,\n\u001b[1;32m   (...)\u001b[0m\n\u001b[0;32m    544\u001b[0m     \u001b[38;5;241m*\u001b[39m\u001b[38;5;241m*\u001b[39mcheck_params,\n\u001b[0;32m    545\u001b[0m ):\n\u001b[0;32m    546\u001b[0m \u001b[38;5;250m    \u001b[39m\u001b[38;5;124;03m\"\"\"Validate input data and set or check the `n_features_in_` attribute.\u001b[39;00m\n\u001b[0;32m    547\u001b[0m \n\u001b[0;32m    548\u001b[0m \u001b[38;5;124;03m    Parameters\u001b[39;00m\n\u001b[1;32m   (...)\u001b[0m\n\u001b[0;32m    606\u001b[0m \u001b[38;5;124;03m        validated.\u001b[39;00m\n\u001b[0;32m    607\u001b[0m \u001b[38;5;124;03m    \"\"\"\u001b[39;00m\n\u001b[1;32m--> 608\u001b[0m     \u001b[38;5;28;43mself\u001b[39;49m\u001b[38;5;241;43m.\u001b[39;49m\u001b[43m_check_feature_names\u001b[49m\u001b[43m(\u001b[49m\u001b[43mX\u001b[49m\u001b[43m,\u001b[49m\u001b[43m \u001b[49m\u001b[43mreset\u001b[49m\u001b[38;5;241;43m=\u001b[39;49m\u001b[43mreset\u001b[49m\u001b[43m)\u001b[49m\n\u001b[0;32m    610\u001b[0m     \u001b[38;5;28;01mif\u001b[39;00m y \u001b[38;5;129;01mis\u001b[39;00m \u001b[38;5;28;01mNone\u001b[39;00m \u001b[38;5;129;01mand\u001b[39;00m \u001b[38;5;28mself\u001b[39m\u001b[38;5;241m.\u001b[39m_get_tags()[\u001b[38;5;124m\"\u001b[39m\u001b[38;5;124mrequires_y\u001b[39m\u001b[38;5;124m\"\u001b[39m]:\n\u001b[0;32m    611\u001b[0m         \u001b[38;5;28;01mraise\u001b[39;00m \u001b[38;5;167;01mValueError\u001b[39;00m(\n\u001b[0;32m    612\u001b[0m             \u001b[38;5;124mf\u001b[39m\u001b[38;5;124m\"\u001b[39m\u001b[38;5;124mThis \u001b[39m\u001b[38;5;132;01m{\u001b[39;00m\u001b[38;5;28mself\u001b[39m\u001b[38;5;241m.\u001b[39m\u001b[38;5;18m__class__\u001b[39m\u001b[38;5;241m.\u001b[39m\u001b[38;5;18m__name__\u001b[39m\u001b[38;5;132;01m}\u001b[39;00m\u001b[38;5;124m estimator \u001b[39m\u001b[38;5;124m\"\u001b[39m\n\u001b[0;32m    613\u001b[0m             \u001b[38;5;124m\"\u001b[39m\u001b[38;5;124mrequires y to be passed, but the target y is None.\u001b[39m\u001b[38;5;124m\"\u001b[39m\n\u001b[0;32m    614\u001b[0m         )\n",
      "File \u001b[1;32mc:\\Users\\ibast\\AppData\\Local\\Programs\\Python\\Python310\\lib\\site-packages\\sklearn\\base.py:535\u001b[0m, in \u001b[0;36mBaseEstimator._check_feature_names\u001b[1;34m(self, X, reset)\u001b[0m\n\u001b[0;32m    530\u001b[0m \u001b[38;5;28;01mif\u001b[39;00m \u001b[38;5;129;01mnot\u001b[39;00m missing_names \u001b[38;5;129;01mand\u001b[39;00m \u001b[38;5;129;01mnot\u001b[39;00m unexpected_names:\n\u001b[0;32m    531\u001b[0m     message \u001b[38;5;241m+\u001b[39m\u001b[38;5;241m=\u001b[39m (\n\u001b[0;32m    532\u001b[0m         \u001b[38;5;124m\"\u001b[39m\u001b[38;5;124mFeature names must be in the same order as they were in fit.\u001b[39m\u001b[38;5;130;01m\\n\u001b[39;00m\u001b[38;5;124m\"\u001b[39m\n\u001b[0;32m    533\u001b[0m     )\n\u001b[1;32m--> 535\u001b[0m \u001b[38;5;28;01mraise\u001b[39;00m \u001b[38;5;167;01mValueError\u001b[39;00m(message)\n",
      "\u001b[1;31mValueError\u001b[0m: The feature names should match those that were passed during fit.\nFeature names seen at fit time, yet now missing:\n- BMI\n"
     ]
    }
   ],
   "source": [
    "# calling the prediction\n",
    "predictions = clf.predict(new_df)\n",
    "\n",
    "# Print the predictions\n",
    "print(\"Predictions:\", predictions)"
   ]
  },
  {
   "cell_type": "code",
   "execution_count": null,
   "id": "8546cc8f",
   "metadata": {},
   "outputs": [
    {
     "data": {
      "text/html": [
       "<style>#sk-container-id-4 {\n",
       "  /* Definition of color scheme common for light and dark mode */\n",
       "  --sklearn-color-text: black;\n",
       "  --sklearn-color-line: gray;\n",
       "  /* Definition of color scheme for unfitted estimators */\n",
       "  --sklearn-color-unfitted-level-0: #fff5e6;\n",
       "  --sklearn-color-unfitted-level-1: #f6e4d2;\n",
       "  --sklearn-color-unfitted-level-2: #ffe0b3;\n",
       "  --sklearn-color-unfitted-level-3: chocolate;\n",
       "  /* Definition of color scheme for fitted estimators */\n",
       "  --sklearn-color-fitted-level-0: #f0f8ff;\n",
       "  --sklearn-color-fitted-level-1: #d4ebff;\n",
       "  --sklearn-color-fitted-level-2: #b3dbfd;\n",
       "  --sklearn-color-fitted-level-3: cornflowerblue;\n",
       "\n",
       "  /* Specific color for light theme */\n",
       "  --sklearn-color-text-on-default-background: var(--sg-text-color, var(--theme-code-foreground, var(--jp-content-font-color1, black)));\n",
       "  --sklearn-color-background: var(--sg-background-color, var(--theme-background, var(--jp-layout-color0, white)));\n",
       "  --sklearn-color-border-box: var(--sg-text-color, var(--theme-code-foreground, var(--jp-content-font-color1, black)));\n",
       "  --sklearn-color-icon: #696969;\n",
       "\n",
       "  @media (prefers-color-scheme: dark) {\n",
       "    /* Redefinition of color scheme for dark theme */\n",
       "    --sklearn-color-text-on-default-background: var(--sg-text-color, var(--theme-code-foreground, var(--jp-content-font-color1, white)));\n",
       "    --sklearn-color-background: var(--sg-background-color, var(--theme-background, var(--jp-layout-color0, #111)));\n",
       "    --sklearn-color-border-box: var(--sg-text-color, var(--theme-code-foreground, var(--jp-content-font-color1, white)));\n",
       "    --sklearn-color-icon: #878787;\n",
       "  }\n",
       "}\n",
       "\n",
       "#sk-container-id-4 {\n",
       "  color: var(--sklearn-color-text);\n",
       "}\n",
       "\n",
       "#sk-container-id-4 pre {\n",
       "  padding: 0;\n",
       "}\n",
       "\n",
       "#sk-container-id-4 input.sk-hidden--visually {\n",
       "  border: 0;\n",
       "  clip: rect(1px 1px 1px 1px);\n",
       "  clip: rect(1px, 1px, 1px, 1px);\n",
       "  height: 1px;\n",
       "  margin: -1px;\n",
       "  overflow: hidden;\n",
       "  padding: 0;\n",
       "  position: absolute;\n",
       "  width: 1px;\n",
       "}\n",
       "\n",
       "#sk-container-id-4 div.sk-dashed-wrapped {\n",
       "  border: 1px dashed var(--sklearn-color-line);\n",
       "  margin: 0 0.4em 0.5em 0.4em;\n",
       "  box-sizing: border-box;\n",
       "  padding-bottom: 0.4em;\n",
       "  background-color: var(--sklearn-color-background);\n",
       "}\n",
       "\n",
       "#sk-container-id-4 div.sk-container {\n",
       "  /* jupyter's `normalize.less` sets `[hidden] { display: none; }`\n",
       "     but bootstrap.min.css set `[hidden] { display: none !important; }`\n",
       "     so we also need the `!important` here to be able to override the\n",
       "     default hidden behavior on the sphinx rendered scikit-learn.org.\n",
       "     See: https://github.com/scikit-learn/scikit-learn/issues/21755 */\n",
       "  display: inline-block !important;\n",
       "  position: relative;\n",
       "}\n",
       "\n",
       "#sk-container-id-4 div.sk-text-repr-fallback {\n",
       "  display: none;\n",
       "}\n",
       "\n",
       "div.sk-parallel-item,\n",
       "div.sk-serial,\n",
       "div.sk-item {\n",
       "  /* draw centered vertical line to link estimators */\n",
       "  background-image: linear-gradient(var(--sklearn-color-text-on-default-background), var(--sklearn-color-text-on-default-background));\n",
       "  background-size: 2px 100%;\n",
       "  background-repeat: no-repeat;\n",
       "  background-position: center center;\n",
       "}\n",
       "\n",
       "/* Parallel-specific style estimator block */\n",
       "\n",
       "#sk-container-id-4 div.sk-parallel-item::after {\n",
       "  content: \"\";\n",
       "  width: 100%;\n",
       "  border-bottom: 2px solid var(--sklearn-color-text-on-default-background);\n",
       "  flex-grow: 1;\n",
       "}\n",
       "\n",
       "#sk-container-id-4 div.sk-parallel {\n",
       "  display: flex;\n",
       "  align-items: stretch;\n",
       "  justify-content: center;\n",
       "  background-color: var(--sklearn-color-background);\n",
       "  position: relative;\n",
       "}\n",
       "\n",
       "#sk-container-id-4 div.sk-parallel-item {\n",
       "  display: flex;\n",
       "  flex-direction: column;\n",
       "}\n",
       "\n",
       "#sk-container-id-4 div.sk-parallel-item:first-child::after {\n",
       "  align-self: flex-end;\n",
       "  width: 50%;\n",
       "}\n",
       "\n",
       "#sk-container-id-4 div.sk-parallel-item:last-child::after {\n",
       "  align-self: flex-start;\n",
       "  width: 50%;\n",
       "}\n",
       "\n",
       "#sk-container-id-4 div.sk-parallel-item:only-child::after {\n",
       "  width: 0;\n",
       "}\n",
       "\n",
       "/* Serial-specific style estimator block */\n",
       "\n",
       "#sk-container-id-4 div.sk-serial {\n",
       "  display: flex;\n",
       "  flex-direction: column;\n",
       "  align-items: center;\n",
       "  background-color: var(--sklearn-color-background);\n",
       "  padding-right: 1em;\n",
       "  padding-left: 1em;\n",
       "}\n",
       "\n",
       "\n",
       "/* Toggleable style: style used for estimator/Pipeline/ColumnTransformer box that is\n",
       "clickable and can be expanded/collapsed.\n",
       "- Pipeline and ColumnTransformer use this feature and define the default style\n",
       "- Estimators will overwrite some part of the style using the `sk-estimator` class\n",
       "*/\n",
       "\n",
       "/* Pipeline and ColumnTransformer style (default) */\n",
       "\n",
       "#sk-container-id-4 div.sk-toggleable {\n",
       "  /* Default theme specific background. It is overwritten whether we have a\n",
       "  specific estimator or a Pipeline/ColumnTransformer */\n",
       "  background-color: var(--sklearn-color-background);\n",
       "}\n",
       "\n",
       "/* Toggleable label */\n",
       "#sk-container-id-4 label.sk-toggleable__label {\n",
       "  cursor: pointer;\n",
       "  display: block;\n",
       "  width: 100%;\n",
       "  margin-bottom: 0;\n",
       "  padding: 0.5em;\n",
       "  box-sizing: border-box;\n",
       "  text-align: center;\n",
       "}\n",
       "\n",
       "#sk-container-id-4 label.sk-toggleable__label-arrow:before {\n",
       "  /* Arrow on the left of the label */\n",
       "  content: \"▸\";\n",
       "  float: left;\n",
       "  margin-right: 0.25em;\n",
       "  color: var(--sklearn-color-icon);\n",
       "}\n",
       "\n",
       "#sk-container-id-4 label.sk-toggleable__label-arrow:hover:before {\n",
       "  color: var(--sklearn-color-text);\n",
       "}\n",
       "\n",
       "/* Toggleable content - dropdown */\n",
       "\n",
       "#sk-container-id-4 div.sk-toggleable__content {\n",
       "  max-height: 0;\n",
       "  max-width: 0;\n",
       "  overflow: hidden;\n",
       "  text-align: left;\n",
       "  /* unfitted */\n",
       "  background-color: var(--sklearn-color-unfitted-level-0);\n",
       "}\n",
       "\n",
       "#sk-container-id-4 div.sk-toggleable__content.fitted {\n",
       "  /* fitted */\n",
       "  background-color: var(--sklearn-color-fitted-level-0);\n",
       "}\n",
       "\n",
       "#sk-container-id-4 div.sk-toggleable__content pre {\n",
       "  margin: 0.2em;\n",
       "  border-radius: 0.25em;\n",
       "  color: var(--sklearn-color-text);\n",
       "  /* unfitted */\n",
       "  background-color: var(--sklearn-color-unfitted-level-0);\n",
       "}\n",
       "\n",
       "#sk-container-id-4 div.sk-toggleable__content.fitted pre {\n",
       "  /* unfitted */\n",
       "  background-color: var(--sklearn-color-fitted-level-0);\n",
       "}\n",
       "\n",
       "#sk-container-id-4 input.sk-toggleable__control:checked~div.sk-toggleable__content {\n",
       "  /* Expand drop-down */\n",
       "  max-height: 200px;\n",
       "  max-width: 100%;\n",
       "  overflow: auto;\n",
       "}\n",
       "\n",
       "#sk-container-id-4 input.sk-toggleable__control:checked~label.sk-toggleable__label-arrow:before {\n",
       "  content: \"▾\";\n",
       "}\n",
       "\n",
       "/* Pipeline/ColumnTransformer-specific style */\n",
       "\n",
       "#sk-container-id-4 div.sk-label input.sk-toggleable__control:checked~label.sk-toggleable__label {\n",
       "  color: var(--sklearn-color-text);\n",
       "  background-color: var(--sklearn-color-unfitted-level-2);\n",
       "}\n",
       "\n",
       "#sk-container-id-4 div.sk-label.fitted input.sk-toggleable__control:checked~label.sk-toggleable__label {\n",
       "  background-color: var(--sklearn-color-fitted-level-2);\n",
       "}\n",
       "\n",
       "/* Estimator-specific style */\n",
       "\n",
       "/* Colorize estimator box */\n",
       "#sk-container-id-4 div.sk-estimator input.sk-toggleable__control:checked~label.sk-toggleable__label {\n",
       "  /* unfitted */\n",
       "  background-color: var(--sklearn-color-unfitted-level-2);\n",
       "}\n",
       "\n",
       "#sk-container-id-4 div.sk-estimator.fitted input.sk-toggleable__control:checked~label.sk-toggleable__label {\n",
       "  /* fitted */\n",
       "  background-color: var(--sklearn-color-fitted-level-2);\n",
       "}\n",
       "\n",
       "#sk-container-id-4 div.sk-label label.sk-toggleable__label,\n",
       "#sk-container-id-4 div.sk-label label {\n",
       "  /* The background is the default theme color */\n",
       "  color: var(--sklearn-color-text-on-default-background);\n",
       "}\n",
       "\n",
       "/* On hover, darken the color of the background */\n",
       "#sk-container-id-4 div.sk-label:hover label.sk-toggleable__label {\n",
       "  color: var(--sklearn-color-text);\n",
       "  background-color: var(--sklearn-color-unfitted-level-2);\n",
       "}\n",
       "\n",
       "/* Label box, darken color on hover, fitted */\n",
       "#sk-container-id-4 div.sk-label.fitted:hover label.sk-toggleable__label.fitted {\n",
       "  color: var(--sklearn-color-text);\n",
       "  background-color: var(--sklearn-color-fitted-level-2);\n",
       "}\n",
       "\n",
       "/* Estimator label */\n",
       "\n",
       "#sk-container-id-4 div.sk-label label {\n",
       "  font-family: monospace;\n",
       "  font-weight: bold;\n",
       "  display: inline-block;\n",
       "  line-height: 1.2em;\n",
       "}\n",
       "\n",
       "#sk-container-id-4 div.sk-label-container {\n",
       "  text-align: center;\n",
       "}\n",
       "\n",
       "/* Estimator-specific */\n",
       "#sk-container-id-4 div.sk-estimator {\n",
       "  font-family: monospace;\n",
       "  border: 1px dotted var(--sklearn-color-border-box);\n",
       "  border-radius: 0.25em;\n",
       "  box-sizing: border-box;\n",
       "  margin-bottom: 0.5em;\n",
       "  /* unfitted */\n",
       "  background-color: var(--sklearn-color-unfitted-level-0);\n",
       "}\n",
       "\n",
       "#sk-container-id-4 div.sk-estimator.fitted {\n",
       "  /* fitted */\n",
       "  background-color: var(--sklearn-color-fitted-level-0);\n",
       "}\n",
       "\n",
       "/* on hover */\n",
       "#sk-container-id-4 div.sk-estimator:hover {\n",
       "  /* unfitted */\n",
       "  background-color: var(--sklearn-color-unfitted-level-2);\n",
       "}\n",
       "\n",
       "#sk-container-id-4 div.sk-estimator.fitted:hover {\n",
       "  /* fitted */\n",
       "  background-color: var(--sklearn-color-fitted-level-2);\n",
       "}\n",
       "\n",
       "/* Specification for estimator info (e.g. \"i\" and \"?\") */\n",
       "\n",
       "/* Common style for \"i\" and \"?\" */\n",
       "\n",
       ".sk-estimator-doc-link,\n",
       "a:link.sk-estimator-doc-link,\n",
       "a:visited.sk-estimator-doc-link {\n",
       "  float: right;\n",
       "  font-size: smaller;\n",
       "  line-height: 1em;\n",
       "  font-family: monospace;\n",
       "  background-color: var(--sklearn-color-background);\n",
       "  border-radius: 1em;\n",
       "  height: 1em;\n",
       "  width: 1em;\n",
       "  text-decoration: none !important;\n",
       "  margin-left: 1ex;\n",
       "  /* unfitted */\n",
       "  border: var(--sklearn-color-unfitted-level-1) 1pt solid;\n",
       "  color: var(--sklearn-color-unfitted-level-1);\n",
       "}\n",
       "\n",
       ".sk-estimator-doc-link.fitted,\n",
       "a:link.sk-estimator-doc-link.fitted,\n",
       "a:visited.sk-estimator-doc-link.fitted {\n",
       "  /* fitted */\n",
       "  border: var(--sklearn-color-fitted-level-1) 1pt solid;\n",
       "  color: var(--sklearn-color-fitted-level-1);\n",
       "}\n",
       "\n",
       "/* On hover */\n",
       "div.sk-estimator:hover .sk-estimator-doc-link:hover,\n",
       ".sk-estimator-doc-link:hover,\n",
       "div.sk-label-container:hover .sk-estimator-doc-link:hover,\n",
       ".sk-estimator-doc-link:hover {\n",
       "  /* unfitted */\n",
       "  background-color: var(--sklearn-color-unfitted-level-3);\n",
       "  color: var(--sklearn-color-background);\n",
       "  text-decoration: none;\n",
       "}\n",
       "\n",
       "div.sk-estimator.fitted:hover .sk-estimator-doc-link.fitted:hover,\n",
       ".sk-estimator-doc-link.fitted:hover,\n",
       "div.sk-label-container:hover .sk-estimator-doc-link.fitted:hover,\n",
       ".sk-estimator-doc-link.fitted:hover {\n",
       "  /* fitted */\n",
       "  background-color: var(--sklearn-color-fitted-level-3);\n",
       "  color: var(--sklearn-color-background);\n",
       "  text-decoration: none;\n",
       "}\n",
       "\n",
       "/* Span, style for the box shown on hovering the info icon */\n",
       ".sk-estimator-doc-link span {\n",
       "  display: none;\n",
       "  z-index: 9999;\n",
       "  position: relative;\n",
       "  font-weight: normal;\n",
       "  right: .2ex;\n",
       "  padding: .5ex;\n",
       "  margin: .5ex;\n",
       "  width: min-content;\n",
       "  min-width: 20ex;\n",
       "  max-width: 50ex;\n",
       "  color: var(--sklearn-color-text);\n",
       "  box-shadow: 2pt 2pt 4pt #999;\n",
       "  /* unfitted */\n",
       "  background: var(--sklearn-color-unfitted-level-0);\n",
       "  border: .5pt solid var(--sklearn-color-unfitted-level-3);\n",
       "}\n",
       "\n",
       ".sk-estimator-doc-link.fitted span {\n",
       "  /* fitted */\n",
       "  background: var(--sklearn-color-fitted-level-0);\n",
       "  border: var(--sklearn-color-fitted-level-3);\n",
       "}\n",
       "\n",
       ".sk-estimator-doc-link:hover span {\n",
       "  display: block;\n",
       "}\n",
       "\n",
       "/* \"?\"-specific style due to the `<a>` HTML tag */\n",
       "\n",
       "#sk-container-id-4 a.estimator_doc_link {\n",
       "  float: right;\n",
       "  font-size: 1rem;\n",
       "  line-height: 1em;\n",
       "  font-family: monospace;\n",
       "  background-color: var(--sklearn-color-background);\n",
       "  border-radius: 1rem;\n",
       "  height: 1rem;\n",
       "  width: 1rem;\n",
       "  text-decoration: none;\n",
       "  /* unfitted */\n",
       "  color: var(--sklearn-color-unfitted-level-1);\n",
       "  border: var(--sklearn-color-unfitted-level-1) 1pt solid;\n",
       "}\n",
       "\n",
       "#sk-container-id-4 a.estimator_doc_link.fitted {\n",
       "  /* fitted */\n",
       "  border: var(--sklearn-color-fitted-level-1) 1pt solid;\n",
       "  color: var(--sklearn-color-fitted-level-1);\n",
       "}\n",
       "\n",
       "/* On hover */\n",
       "#sk-container-id-4 a.estimator_doc_link:hover {\n",
       "  /* unfitted */\n",
       "  background-color: var(--sklearn-color-unfitted-level-3);\n",
       "  color: var(--sklearn-color-background);\n",
       "  text-decoration: none;\n",
       "}\n",
       "\n",
       "#sk-container-id-4 a.estimator_doc_link.fitted:hover {\n",
       "  /* fitted */\n",
       "  background-color: var(--sklearn-color-fitted-level-3);\n",
       "}\n",
       "</style><div id=\"sk-container-id-4\" class=\"sk-top-container\"><div class=\"sk-text-repr-fallback\"><pre>LabelEncoder()</pre><b>In a Jupyter environment, please rerun this cell to show the HTML representation or trust the notebook. <br />On GitHub, the HTML representation is unable to render, please try loading this page with nbviewer.org.</b></div><div class=\"sk-container\" hidden><div class=\"sk-item\"><div class=\"sk-estimator fitted sk-toggleable\"><input class=\"sk-toggleable__control sk-hidden--visually\" id=\"sk-estimator-id-4\" type=\"checkbox\" checked><label for=\"sk-estimator-id-4\" class=\"sk-toggleable__label fitted sk-toggleable__label-arrow fitted\">&nbsp;&nbsp;LabelEncoder<a class=\"sk-estimator-doc-link fitted\" rel=\"noreferrer\" target=\"_blank\" href=\"https://scikit-learn.org/1.5/modules/generated/sklearn.preprocessing.LabelEncoder.html\">?<span>Documentation for LabelEncoder</span></a><span class=\"sk-estimator-doc-link fitted\">i<span>Fitted</span></span></label><div class=\"sk-toggleable__content fitted\"><pre>LabelEncoder()</pre></div> </div></div></div></div>"
      ],
      "text/plain": [
       "LabelEncoder()"
      ]
     },
     "execution_count": 102,
     "metadata": {},
     "output_type": "execute_result"
    }
   ],
   "source": [
    "Gender_label_encoder = label_encoders['Gender']\n",
    "Gender_label_encoder"
   ]
  },
  {
   "cell_type": "code",
   "execution_count": 190,
   "id": "2906996e",
   "metadata": {
    "scrolled": true
   },
   "outputs": [
    {
     "name": "stdout",
     "output_type": "stream",
     "text": [
      "<class 'dict'>\n",
      "{'Gender': LabelEncoder(), 'Family_history_with_overweight': LabelEncoder(), 'FAVC': LabelEncoder(), 'CAEC': LabelEncoder(), 'SMOKE': LabelEncoder(), 'SCC': LabelEncoder(), 'CALC': LabelEncoder(), 'MTRANS': LabelEncoder()}\n"
     ]
    }
   ],
   "source": [
    "print(type(label_encoder))  # Check the type of label_encoders\n",
    "print(label_encoder)        # Check the content of label_encoders"
   ]
  },
  {
   "cell_type": "code",
   "execution_count": 194,
   "id": "61d70810",
   "metadata": {},
   "outputs": [
    {
     "ename": "KeyError",
     "evalue": "'Age'",
     "output_type": "error",
     "traceback": [
      "\u001b[1;31m---------------------------------------------------------------------------\u001b[0m",
      "\u001b[1;31mKeyError\u001b[0m                                  Traceback (most recent call last)",
      "Input \u001b[1;32mIn [194]\u001b[0m, in \u001b[0;36m<cell line: 2>\u001b[1;34m()\u001b[0m\n\u001b[0;32m      1\u001b[0m Gender_label_encoder \u001b[38;5;241m=\u001b[39m label_encoders[\u001b[38;5;124m'\u001b[39m\u001b[38;5;124mGender\u001b[39m\u001b[38;5;124m'\u001b[39m]\n\u001b[1;32m----> 2\u001b[0m Age_label_encoder \u001b[38;5;241m=\u001b[39m \u001b[43mlabel_encoders\u001b[49m\u001b[43m[\u001b[49m\u001b[38;5;124;43m'\u001b[39;49m\u001b[38;5;124;43mAge\u001b[39;49m\u001b[38;5;124;43m'\u001b[39;49m\u001b[43m]\u001b[49m\n\u001b[0;32m      3\u001b[0m Height_label_encoder \u001b[38;5;241m=\u001b[39m label_encoders[\u001b[38;5;124m'\u001b[39m\u001b[38;5;124mHeight\u001b[39m\u001b[38;5;124m'\u001b[39m]\n\u001b[0;32m      4\u001b[0m Weight_label_encoder \u001b[38;5;241m=\u001b[39m label_encoders[\u001b[38;5;124m'\u001b[39m\u001b[38;5;124mWeight\u001b[39m\u001b[38;5;124m'\u001b[39m]\n",
      "\u001b[1;31mKeyError\u001b[0m: 'Age'"
     ]
    }
   ],
   "source": [
    "Gender_label_encoder = label_encoders['Gender']\n",
    "Age_label_encoder = label_encoders['Age']\n",
    "Height_label_encoder = label_encoders['Height']\n",
    "Weight_label_encoder = label_encoders['Weight']\n",
    "Family_history_with_overweight_label_encoder = label_encoders['Family_history_with_overweight']\n",
    "FAVC_label_encoder = label_encoders['FAVC']\n",
    "FCVC_label_encoder = label_encoders['FCVC']\n",
    "NCP_label_encoder = label_encoders['NCP']\n",
    "CAEC_label_encoder = label_encoders['CAEC']\n",
    "SMOKE_label_encoder = label_encoders['SMOKE']\n",
    "CH2O_label_encoder = label_encoders['CH2O']\n",
    "SCC_label_encoder = label_encoders['SCC']\n",
    "FAF_label_encoder = label_encoders['FAF']\n",
    "TUE_label_encoder = label_encoders['TUE']\n",
    "CALC_label_encoder = label_encoders['CALC']\n",
    "MTRANS_label_encoder = label_encoders['MTRANS']"
   ]
  },
  {
   "cell_type": "code",
   "execution_count": null,
   "id": "363b300a",
   "metadata": {},
   "outputs": [
    {
     "ename": "NameError",
     "evalue": "name 'NCP_label_encoder' is not defined",
     "output_type": "error",
     "traceback": [
      "\u001b[1;31m---------------------------------------------------------------------------\u001b[0m",
      "\u001b[1;31mNameError\u001b[0m                                 Traceback (most recent call last)",
      "Input \u001b[1;32mIn [110]\u001b[0m, in \u001b[0;36m<cell line: 1>\u001b[1;34m()\u001b[0m\n\u001b[1;32m----> 1\u001b[0m \u001b[43mNCP_label_encoder\u001b[49m\n",
      "\u001b[1;31mNameError\u001b[0m: name 'NCP_label_encoder' is not defined"
     ]
    }
   ],
   "source": [
    "NCP_label_encoder"
   ]
  },
  {
   "cell_type": "markdown",
   "id": "c89907b8",
   "metadata": {},
   "source": [
    "<b> Next step: convert all the code in this notebookto our app"
   ]
  },
  {
   "cell_type": "code",
   "execution_count": null,
   "id": "32ae5add",
   "metadata": {},
   "outputs": [
    {
     "data": {
      "text/plain": [
       "'1.21.5'"
      ]
     },
     "execution_count": 115,
     "metadata": {},
     "output_type": "execute_result"
    }
   ],
   "source": [
    "np.__version__"
   ]
  },
  {
   "cell_type": "code",
   "execution_count": null,
   "id": "ba4a595c",
   "metadata": {},
   "outputs": [],
   "source": []
  },
  {
   "cell_type": "code",
   "execution_count": null,
   "id": "d15cfe31",
   "metadata": {},
   "outputs": [],
   "source": []
  }
 ],
 "metadata": {
  "colab": {
   "provenance": []
  },
  "kernelspec": {
   "display_name": "Python 3",
   "language": "python",
   "name": "python3"
  },
  "language_info": {
   "codemirror_mode": {
    "name": "ipython",
    "version": 3
   },
   "file_extension": ".py",
   "mimetype": "text/x-python",
   "name": "python",
   "nbconvert_exporter": "python",
   "pygments_lexer": "ipython3",
   "version": "3.10.8"
  }
 },
 "nbformat": 4,
 "nbformat_minor": 5
}
